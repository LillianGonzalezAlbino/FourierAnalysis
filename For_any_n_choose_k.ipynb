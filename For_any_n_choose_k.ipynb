{
 "cells": [
  {
   "cell_type": "code",
   "execution_count": 1,
   "metadata": {},
   "outputs": [],
   "source": [
    "import  numpy  as np\n",
    "import  matplotlib  as mpl\n",
    "import pandas as pd\n",
    "import pylab as plt\n",
    "import csv"
   ]
  },
  {
   "cell_type": "code",
   "execution_count": 5,
   "metadata": {},
   "outputs": [
    {
     "name": "stderr",
     "output_type": "stream",
     "text": [
      "/anaconda3/lib/python3.6/site-packages/ipykernel_launcher.py:2: FutureWarning: Method .as_matrix will be removed in a future version. Use .values instead.\n",
      "  \n"
     ]
    }
   ],
   "source": [
    "gene_dat=pd.read_csv('vcf_FA.csv',index_col='Unnamed: 0',encoding='utf-8')\n",
    "matrix=gene_dat.as_matrix()\n",
    "#print(matrix.shape[0])\n",
    "#matrix[0]"
   ]
  },
  {
   "cell_type": "code",
   "execution_count": 6,
   "metadata": {},
   "outputs": [],
   "source": [
    "gene_mut=np.zeros((matrix.shape[0],int(np.ceil((matrix.shape[1])/2))))\n",
    "#print(gene_mut.shape)"
   ]
  },
  {
   "cell_type": "code",
   "execution_count": 7,
   "metadata": {},
   "outputs": [],
   "source": [
    "# will go through each row (# of observations)\n",
    "for rows in range(matrix.shape[0]):\n",
    "    for cols in range(0,matrix.shape[1]-1,2):\n",
    "        # within those observations, it will go until the 2nd to last column (excludes phenotype)\n",
    "        #sanity check (next 2 lines)\n",
    "        #print('cols val is:',cols)\n",
    "        #print('matrix values are: ',matrix[rows][cols],matrix[rows][cols+1])\n",
    "        #checks to see if either the L or R gene has a mutation\n",
    "        if(matrix[rows][cols]==1 or matrix[rows][cols+1]==1):\n",
    "            #if it does, then in the copied matrix, a 1 will be input\n",
    "            gene_mut[rows][int(cols/2)]=1\n",
    "            #reason for int(cols/2) is to match up indexes with the pairing # that it's on\n",
    "            #ex: 0&1 gene output val. will be in the 0 index of copied matrix\n",
    "            # 2&3 gene output val. will be in the 1 index, 4*6 in the 2nd index\n",
    "        #sanity check of what is being output\n",
    "        #print('copy matrix val is:',gene_mut[rows][int(cols/2)], 'for row:',rows,'for col:',int(cols/2))"
   ]
  },
  {
   "cell_type": "code",
   "execution_count": 8,
   "metadata": {},
   "outputs": [],
   "source": [
    "gene_mut[:,-1]=matrix[:,-1] # gets last column from original matrix, puts it as last column for copied matrix\n"
   ]
  },
  {
   "cell_type": "code",
   "execution_count": 9,
   "metadata": {},
   "outputs": [],
   "source": [
    "# getting column names of genes without the L or R\n",
    "names=gene_dat.columns\n",
    "new_colnames=[]\n",
    "for n in range(0,len(names),2):\n",
    "    new_colnames.append(names[n].split(\"-\")[0])\n",
    "#print(new_colnames)"
   ]
  },
  {
   "cell_type": "code",
   "execution_count": 10,
   "metadata": {},
   "outputs": [],
   "source": [
    "copied_data=pd.DataFrame(gene_mut,index=gene_dat.index,columns=new_colnames)"
   ]
  },
  {
   "cell_type": "code",
   "execution_count": 11,
   "metadata": {},
   "outputs": [],
   "source": [
    "copied_data.to_csv(\"copiedGeneData.csv\")"
   ]
  },
  {
   "cell_type": "code",
   "execution_count": 60,
   "metadata": {},
   "outputs": [
    {
     "name": "stderr",
     "output_type": "stream",
     "text": [
      "/anaconda3/lib/python3.6/site-packages/ipykernel_launcher.py:3: FutureWarning: Method .as_matrix will be removed in a future version. Use .values instead.\n",
      "  This is separate from the ipykernel package so we can avoid doing imports until\n"
     ]
    }
   ],
   "source": [
    "\n",
    "rdm13=pd.read_csv('copiedGeneData.csv',index_col='Unnamed: 0',encoding='utf-8')\n",
    "rdm13_matrix=rdm13.as_matrix()"
   ]
  },
  {
   "cell_type": "code",
   "execution_count": 64,
   "metadata": {},
   "outputs": [],
   "source": [
    "def num_gene_mutations(raw_data):\n",
    "    n_ones=[]\n",
    "    # 0 to number of total rows\n",
    "    for row in range(0,(raw_data.shape[0])):\n",
    "        #calculating each person's number of gene mutations, excluding last column with phenotype levels\n",
    "        n_ones.append(sum(raw_data[row,:-1]))\n",
    "    return n_ones\n"
   ]
  },
  {
   "cell_type": "code",
   "execution_count": 65,
   "metadata": {},
   "outputs": [
    {
     "data": {
      "image/png": "[encoded data removed]",
      "text/plain": [
       "<Figure size 432x288 with 1 Axes>"
      ]
     },
     "metadata": {},
     "output_type": "display_data"
    },
    {
     "data": {
      "text/plain": [
       "list"
      ]
     },
     "execution_count": 65,
     "metadata": {},
     "output_type": "execute_result"
    }
   ],
   "source": [
    "sum_gene_mut=num_gene_mutations(rdm13_matrix)\n",
    "#print(sum_gene_mut)\n",
    "#for printing total number of people based on number of gene mutations\n",
    "plt.hist(sum_gene_mut,bins=13)\n",
    "plt.show()\n",
    "type(sum_gene_mut)"
   ]
  },
  {
   "cell_type": "code",
   "execution_count": 102,
   "metadata": {},
   "outputs": [],
   "source": [
    "col_sums=(rdm13.sum(axis=0))"
   ]
  },
  {
   "cell_type": "code",
   "execution_count": 103,
   "metadata": {},
   "outputs": [
    {
     "data": {
      "text/plain": [
       "rs58696423     143.0\n",
       "rs11122283      20.0\n",
       "rs2034327      139.0\n",
       "rs149306391    137.0\n",
       "rs4149433      112.0\n",
       "rs35307        120.0\n",
       "rs10739461     114.0\n",
       "rs771998       125.0\n",
       "rs117426293     15.0\n",
       "rs233948        86.0\n",
       "rs62054604       4.0\n",
       "rs4313809       63.0\n",
       "rs139501        70.0\n",
       "dtype: float64"
      ]
     },
     "execution_count": 103,
     "metadata": {},
     "output_type": "execute_result"
    }
   ],
   "source": [
    "col_sums[:-1]"
   ]
  },
  {
   "cell_type": "code",
   "execution_count": 48,
   "metadata": {},
   "outputs": [],
   "source": [
    "sum_each_gene=[]\n",
    "for i in range(rdm13.shape[1]-1):\n",
    "    sum_each_gene.append(sum(rdm13[:,i]))"
   ]
  },
  {
   "cell_type": "code",
   "execution_count": 104,
   "metadata": {},
   "outputs": [
    {
     "data": {
      "text/plain": [
       "(array([ 2.,  1.,  0.,  0.,  2.,  1.,  0.,  2.,  2.,  3.]),\n",
       " array([   4. ,   17.9,   31.8,   45.7,   59.6,   73.5,   87.4,  101.3,\n",
       "         115.2,  129.1,  143. ]),\n",
       " <a list of 10 Patch objects>)"
      ]
     },
     "execution_count": 104,
     "metadata": {},
     "output_type": "execute_result"
    },
    {
     "data": {
      "image/png": "[encoded data removed]",
      "text/plain": [
       "<Figure size 432x288 with 1 Axes>"
      ]
     },
     "metadata": {},
     "output_type": "display_data"
    }
   ],
   "source": [
    "plt.hist(col_sums[:-1])\n",
    "plt."
   ]
  },
  {
   "cell_type": "code",
   "execution_count": 54,
   "metadata": {},
   "outputs": [
    {
     "ename": "SyntaxError",
     "evalue": "keyword can't be an expression (<ipython-input-54-7dea485e7376>, line 1)",
     "output_type": "error",
     "traceback": [
      "\u001b[0;36m  File \u001b[0;32m\"<ipython-input-54-7dea485e7376>\"\u001b[0;36m, line \u001b[0;32m1\u001b[0m\n\u001b[0;31m    plt.hist(sum_each_gene,bins+1=13,)\u001b[0m\n\u001b[0m                          ^\u001b[0m\n\u001b[0;31mSyntaxError\u001b[0m\u001b[0;31m:\u001b[0m keyword can't be an expression\n"
     ]
    }
   ],
   "source": [
    "plt.hist(sum_each_gene,bins=13,)\n",
    "plt.show()"
   ]
  }
 ],
 "metadata": {
  "kernelspec": {
   "display_name": "Python 3",
   "language": "python",
   "name": "python3"
  },
  "language_info": {
   "codemirror_mode": {
    "name": "ipython",
    "version": 3
   },
   "file_extension": ".py",
   "mimetype": "text/x-python",
   "name": "python",
   "nbconvert_exporter": "python",
   "pygments_lexer": "ipython3",
   "version": "3.6.5"
  }
 },
 "nbformat": 4,
 "nbformat_minor": 2
}
