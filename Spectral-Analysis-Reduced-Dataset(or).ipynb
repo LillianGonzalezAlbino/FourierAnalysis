{
 "cells": [
  {
   "cell_type": "markdown",
   "metadata": {},
   "source": [
    "# Fourier analysis for a genomics dataset  \n",
    "Memebers: R. Garza, L. González, S. Nwakanma  "
   ]
  },
  {
   "cell_type": "markdown",
   "metadata": {},
   "source": [
    "# Dependancies"
   ]
  },
  {
   "cell_type": "code",
   "execution_count": 3,
   "metadata": {},
   "outputs": [],
   "source": [
    "import numpy as np\n",
    "import pandas as pd \n",
    "from scipy import special\n",
    "import scipy.sparse\n",
    "# import scipy.sparse.linalg\n",
    "import types\n",
    "from itertools import combinations\n",
    "import pylab as plt\n",
    "from timeit import default_timer as timer\n",
    "import matplotlib.pyplot as plt\n",
    "import csv\n",
    "import os\n",
    "from operator import itemgetter, attrgetter\n",
    "import sys\n",
    "from matplotlib.legend import Legend\n",
    "from matplotlib.pyplot import figure"
   ]
  },
  {
   "cell_type": "code",
   "execution_count": 83,
   "metadata": {},
   "outputs": [],
   "source": [
    "#os.mkdir(\"plots\")\n",
    "#os.mkdir(\"plots2\")\n",
    "#os.mkdir(\"tables\")\n",
    "#os.mkdir(\"raw_mallow_plots\")\n",
    "#os.mkdir(\"averagef6\")\n",
    "# os.mkdir(\"mallowf6\")\n",
    "os.mkdir(\"OR Reduction plots\")"
   ]
  },
  {
   "cell_type": "markdown",
   "metadata": {},
   "source": [
    "# Dataset (or)"
   ]
  },
  {
   "cell_type": "code",
   "execution_count": 84,
   "metadata": {
    "scrolled": true
   },
   "outputs": [
    {
     "name": "stderr",
     "output_type": "stream",
     "text": [
      "/anaconda3/lib/python3.6/site-packages/ipykernel_launcher.py:2: FutureWarning: Method .as_matrix will be removed in a future version. Use .values instead.\n",
      "  \n"
     ]
    }
   ],
   "source": [
    "gene_dat = pd.read_csv('/Users/lalbino/Desktop/Code/vcf_FA.csv',index_col='Unnamed: 0',encoding='utf-8')\n",
    "matrix = gene_dat.as_matrix()\n",
    "gene_mut = np.zeros((matrix.shape[0],int(np.ceil((matrix.shape[1])/2))))"
   ]
  },
  {
   "cell_type": "code",
   "execution_count": 85,
   "metadata": {},
   "outputs": [],
   "source": [
    "# will go through each row (# of observations)\n",
    "for rows in range(matrix.shape[0]):\n",
    "    for cols in range(0,matrix.shape[1]-1,2):\n",
    "        # within those observations, it will go until the \n",
    "        # 2nd to last column (excludes phenotype)\n",
    "        # checks to see if either the L or R gene has a mutation\n",
    "        if(matrix[rows][cols]==1 or matrix[rows][cols+1]==1):\n",
    "            # if it does, then in the copied matrix, \n",
    "            # a 1 will be input\n",
    "            gene_mut[rows][int(cols/2)]=1\n",
    "            #reason for int(cols/2) is to match up \n",
    "            #indexes with the pairing # that it's on\n",
    "            #ex: 0&1 gene output val. will be in the \n",
    "            # 0 index of copied matrix 2&3 gene output \n",
    "            # val. will be in the 1 index, 4*6 in the \n",
    "            # 2nd index"
   ]
  },
  {
   "cell_type": "code",
   "execution_count": 86,
   "metadata": {},
   "outputs": [],
   "source": [
    "# gets last column from original matrix, puts it as \n",
    "# last column for copied matrix\n",
    "gene_mut[:,-1]=matrix[:,-1]"
   ]
  },
  {
   "cell_type": "code",
   "execution_count": 87,
   "metadata": {},
   "outputs": [
    {
     "data": {
      "text/plain": [
       "array([[   1.,    0.,    1., ...,    1.,    0.,  196.],\n",
       "       [   1.,    1.,    1., ...,    0.,    0.,  173.],\n",
       "       [   1.,    0.,    1., ...,    0.,    1.,  198.],\n",
       "       ..., \n",
       "       [   1.,    0.,    1., ...,    0.,    0.,  168.],\n",
       "       [   1.,    0.,    1., ...,    0.,    0.,  155.],\n",
       "       [   1.,    0.,    1., ...,    0.,    1.,  145.]])"
      ]
     },
     "execution_count": 87,
     "metadata": {},
     "output_type": "execute_result"
    }
   ],
   "source": [
    "gene_mut"
   ]
  },
  {
   "cell_type": "markdown",
   "metadata": {},
   "source": [
    "# Spectral Analysis"
   ]
  },
  {
   "cell_type": "code",
   "execution_count": 88,
   "metadata": {},
   "outputs": [],
   "source": [
    "# input: matrix\n",
    "# output: list\n",
    "# Takes in a matrix and returns a list that contains the numbers \n",
    "# of zeros on each line of the matrix correspondingly\n",
    "def num_of_mutations(RDM):\n",
    "    # make copy of data to not alter \n",
    "    tempRDM = np.copy(RDM)\n",
    "    tempRDM = np.delete(tempRDM,-1,1)\n",
    "    # list to count the number of ones\n",
    "    nones = []\n",
    "    nrows = RDM.shape[0]\n",
    "    # for each row, sum the rows and save in list of ones\n",
    "    for row in range(nrows):\n",
    "        nones.append(sum(tempRDM[row,]))\n",
    "    # create list of zeros by subracting the total amount of \n",
    "    # columns by the ones\n",
    "    nzeros = [tempRDM.shape[1]]*(len(nones))\n",
    "    nzeros = [a_i - b_i for a_i, b_i in zip(nzeros, nones)]\n",
    "    # return list of ceros\n",
    "    return nzeros"
   ]
  },
  {
   "cell_type": "code",
   "execution_count": 89,
   "metadata": {},
   "outputs": [],
   "source": [
    "# input: matrix, list\n",
    "# output: list of matrices\n",
    "# Takes in a matrix and divides it into smalles matrices that \n",
    "# have the same amount of zeron in each line\n",
    "def raw_data_partitions(RDM, nzeros):\n",
    "    nrows = RDM.shape[0]\n",
    "    ncols = RDM.shape[1]\n",
    "    # variable to store matrices\n",
    "    fPartitions = []\n",
    "    # get unique values of the amount of zeros \n",
    "    distinct_amounts_zeros = np.unique(nzeros)\n",
    "    distinct_amounts_zeros = np.sort(distinct_amounts_zeros)\n",
    "    # for each amount of zeros\n",
    "    for amount in distinct_amounts_zeros:\n",
    "        list_amount_i = []\n",
    "        # check every row if compatible with amount of zeros\n",
    "        for row in range(nrows):\n",
    "            if(nzeros[row]==amount):\n",
    "                # and store them\n",
    "                list_amount_i.append(RDM[row,])\n",
    "        # to concatenate into a matrix\n",
    "        Matrix_amount_i = np.concatenate(list_amount_i).reshape(len(list_amount_i), ncols)\n",
    "        # and append it to the list of smaller matrices\n",
    "        fPartitions.append((amount, Matrix_amount_i))\n",
    "    # return list of smaller matrices\n",
    "    return fPartitions"
   ]
  },
  {
   "cell_type": "code",
   "execution_count": 90,
   "metadata": {},
   "outputs": [],
   "source": [
    "# input: list of tuples of float and matrix\n",
    "# output: two lists of tuples of float and matrix\n",
    "# Takes in a list of tuples that contain k \n",
    "# and data matrix with k zeros in each row and \n",
    "# separates them into two lists one with majority \n",
    "# zeros the other with minority zeros\n",
    "def MinoritiesMajorities(dataPartition):\n",
    "    Minorities = []\n",
    "    Majorieties = []\n",
    "    nvars = dataPartition[0][1].shape[1] - 1\n",
    "    limit = np.floor(nvars/2)\n",
    "    for elem in range(len(dataPartition)):\n",
    "        k = dataPartition[elem][0]\n",
    "        if (k > limit):\n",
    "            Majorieties.append(dataPartition[elem])\n",
    "        else:\n",
    "            Minorities.append(dataPartition[elem])\n",
    "    return Minorities, Majorieties"
   ]
  },
  {
   "cell_type": "code",
   "execution_count": 91,
   "metadata": {},
   "outputs": [],
   "source": [
    "# input: one dimensional matrix (horizontal)\n",
    "# output: tuple or int\n",
    "# Takes in a row and categorizes the row by the amount of zeros \n",
    "# and returns the corresponding variables to the zeros \n",
    "# e.g. the row [1,0,1,0] with the columns 1234, return (2,4)\n",
    "# e.g. the row [0,1,1,1] with columns 1234 returns 1\n",
    "def categorize_row(row):\n",
    "    # copy row to not alter the data\n",
    "    tempRow = np.copy(row)\n",
    "    tempRow = np.asarray(tempRow)\n",
    "    # length of row without including the last column (which are the results)\n",
    "    length = len(tempRow)-1 # minus hemoglobin\n",
    "    # variable to store the variables corresponding to the zeros\n",
    "    category = []\n",
    "    # check line for zeros\n",
    "    for i in range(length):\n",
    "        if(int(tempRow[i]) == 0):\n",
    "            category.append(i)\n",
    "    # if it is only one zero in the row it returns the int\n",
    "    if(len(category) != 1):\n",
    "        # returns tuple of category\n",
    "        return tuple(category)\n",
    "    else:\n",
    "        return category[0]"
   ]
  },
  {
   "cell_type": "code",
   "execution_count": 92,
   "metadata": {},
   "outputs": [],
   "source": [
    "# input: tuple of int and matrix\n",
    "# output: array\n",
    "# Takes in a tuple of the number of zeros in the matrix and \n",
    "# the matrix and calculates f^(n, n-#0s)\n",
    "def calc_f(PartitionTuple):\n",
    "    # save all the variables\n",
    "    k = PartitionTuple[0]\n",
    "    data = PartitionTuple[1]\n",
    "    nrows = data.shape[0]\n",
    "    nvars = data.shape[1]-1\n",
    "    # list to append the categories to\n",
    "    rowCategory = []\n",
    "    # for individual values the row categories are calculated\n",
    "    # differently because we dont have to use the function \n",
    "    # combinations for the lexicographical order\n",
    "    if(k == 1):\n",
    "        # counter to know how many hemoglobin we add so we can average them\n",
    "        counter = np.zeros(int(nvars))\n",
    "        f = np.zeros(int(nvars))\n",
    "        lexOrder = list(range(int(nvars)))\n",
    "    else:\n",
    "        # counter to know how many hemoglobin we add so we can average them\n",
    "        counter = np.zeros(int(special.binom(nvars,nvars-int(k))))\n",
    "        f = np.zeros(int(special.binom(nvars,nvars-int(k))))\n",
    "        lexOrder = list(combinations(list(range(nvars)),int(k)))\n",
    "    # for every row in the matrix add a category for each line\n",
    "    # to rowCategory list\n",
    "    for row in range(nrows):\n",
    "        cat = categorize_row(data[row,])\n",
    "        rowCategory.append(cat)\n",
    "    # for every row in the data\n",
    "    for row in range(nrows):\n",
    "        # go through all the orgers\n",
    "        for order in range(len(lexOrder)):\n",
    "            # and check if the categories match\n",
    "            if(rowCategory[row] == lexOrder[order]):\n",
    "                # add one to the counter\n",
    "                counter[order] = counter[order] + 1\n",
    "                # if they do, add the results (hemoglobin) to the data vector\n",
    "                f[order] = f[order] + data[row,-1]    \n",
    "    # divide data vector by the counter to average it\n",
    "    averagef = np.zeros(len(f))\n",
    "    # be sure not to divide by zero\n",
    "    for i in range(len(averagef)):\n",
    "        if(int(counter[i]) == 0):\n",
    "            averagef[i] = f[i]\n",
    "        else:\n",
    "            averagef[i] = f[i]/counter[i]\n",
    "    # return data vector\n",
    "    return averagef, counter"
   ]
  },
  {
   "cell_type": "code",
   "execution_count": 93,
   "metadata": {},
   "outputs": [],
   "source": [
    "# input: tuple of int and matrix\n",
    "# output: list of arrays\n",
    "# Caluclates f^(n, n-k) for all ks and returns them \n",
    "# in a list of data vectors\n",
    "def create_data_vectors(PartitionList):\n",
    "    dataVectors = []\n",
    "    counterVectors = []\n",
    "    for data in range(len(PartitionList)):\n",
    "        datavec, counter = calc_f(PartitionList[data])\n",
    "        dataVectors.append(datavec)\n",
    "        counterVectors.append(counter)\n",
    "    return dataVectors, counterVectors"
   ]
  },
  {
   "cell_type": "code",
   "execution_count": 94,
   "metadata": {},
   "outputs": [],
   "source": [
    "# input: string or list, int\n",
    "# output: list of tuples\n",
    "# This function returns all the combination of the characters in the string \n",
    "# of length k as a list of tuples. It can also take a list as its first \n",
    "# argument and has the same output but treats the elements of the list \n",
    "# like characters in a string. It should be noted that this function\n",
    "# \"renames\" the function combinations of the itertools library\n",
    "# so it is more readable to the user.\n",
    "def alphabet_choose_k(alphabet, k):\n",
    "    return list(combinations(alphabet, int(k)))"
   ]
  },
  {
   "cell_type": "markdown",
   "metadata": {},
   "source": [
    "change this to sparse matrices"
   ]
  },
  {
   "cell_type": "code",
   "execution_count": 95,
   "metadata": {},
   "outputs": [],
   "source": [
    "# input: list of same length tuples\n",
    "# output: matrix\n",
    "# Takes in a tuple list each of the same size k which are all the \n",
    "# combinations of our variables and calculates the adjacency matrix\n",
    "# of its Johnson Graph \n",
    "def calc_adj_mat(tuple_list):\n",
    "    # type check the tuple list\n",
    "    if isinstance(tuple_list, list)==False:\n",
    "        return(\"Argument is not a list!\")\n",
    "    # Create adjacency matrix of size of the amount of tuples in the \n",
    "    # list on both columns and rows\n",
    "    dim = len(tuple_list)  \n",
    "    # SparseAdj = dok_matrix((dim,dim))\n",
    "    Adj = np.zeros((dim,dim))\n",
    "    # Go through the matrix \n",
    "    for i in range(dim):\n",
    "        for j in range(dim):\n",
    "            # if the intersection of the nodes (which are the tuples) \n",
    "            # is equal to their length - 1 then they are connected\n",
    "            # and we put a one in the matrix to represent that connection\n",
    "            if len(set(tuple_list[i]).intersection(set(tuple_list[j]))) == len(tuple_list[0])-1:\n",
    "                # SparseAdj[i,j] = 1\n",
    "                Adj[i,j] = 1\n",
    "    return Adj"
   ]
  },
  {
   "cell_type": "code",
   "execution_count": 96,
   "metadata": {},
   "outputs": [],
   "source": [
    "# input: matrix\n",
    "# output: list of floats, list of arrays\n",
    "# Takes in an adjacency matrix (which is symmetric) and calculates\n",
    "# the eigen values and eigen vectors and returns them as a list of floats\n",
    "# and as a list of arrays respectively. It should be noted that the \n",
    "# eigen values corrspond with the same indexed eigen vectors.\n",
    "# This function \"renames\" the function np.linalg.eigh for the\n",
    "# purpose of making it easier for the user.\n",
    "def calc_eig_vec_of_adj_matrix(mat):\n",
    "    eig_val, eig_vec = np.linalg.eigh(mat)\n",
    "    return eig_val, eig_vec"
   ]
  },
  {
   "cell_type": "code",
   "execution_count": 97,
   "metadata": {},
   "outputs": [],
   "source": [
    "# input: list of floats\n",
    "# output: list of arrays\n",
    "# Since the eigen vectors corresponding to the same M_i in a \n",
    "# given decomposition (n,k) have the same eigen value, this\n",
    "# function (that takes in eigen vectors and eigen values in \n",
    "# order of correspondance) concatenates (as matrices) eigen \n",
    "# vectors that correspond to the same M_i and returns these \n",
    "# as a list of matricies that are the basis for the M_i's\n",
    "# in ascending order (i.e. [M_0, M_1,...,M_k])\n",
    "def group_eig_vecs(e_vals, e_vecs):\n",
    "    # gather the distinct eigen values and sort them\n",
    "    distinct_vals = np.unique(e_vals.round(decimals=4))\n",
    "    distinct_vals = np.sort(distinct_vals)\n",
    "    # create empty list where we will store the basis\n",
    "    M_basis = []\n",
    "    # for every distinct eigen value we will go through the \n",
    "    # list of eigen values and if they are equal we will add the\n",
    "    # corresponding eigen vector to a list \n",
    "    for val in distinct_vals:\n",
    "        # list for storing eigen vectors that correspond to \n",
    "        # the same M_i\n",
    "        vec_list = []\n",
    "        for i in range(len(e_vals)):\n",
    "            if(val == e_vals[i].round(decimals=4)):\n",
    "                vec_list.append(np.transpose(e_vecs)[i])\n",
    "        # transform list of arrays into matrix to append to M basis list\n",
    "        vec_list = np.array(vec_list).reshape(len(vec_list), len(vec_list[0]))\n",
    "        M_basis.append(vec_list)\n",
    "    # return M basis\n",
    "    M_basis = np.flipud(M_basis)\n",
    "    return M_basis"
   ]
  },
  {
   "cell_type": "markdown",
   "metadata": {},
   "source": [
    "create dictionary with eigen basis"
   ]
  },
  {
   "cell_type": "code",
   "execution_count": 98,
   "metadata": {},
   "outputs": [],
   "source": [
    "# input: array, list of matrices\n",
    "# output: list of arrays\n",
    "# This functions calculates the projection of the data vector \n",
    "# f onto each of the M_i basis (in the form of a matrix)\n",
    "def proj_f_onto_M(f, M_basis):\n",
    "    # emptylist to store the f_is as we calculate them \n",
    "    f_is = []\n",
    "    # for every element of the list of M basis we will \n",
    "    # calculate f_i and append it to the list\n",
    "    for i in range(len(M_basis)):\n",
    "        f_is.append(proj_onto_M_i(f, M_basis[i]))\n",
    "    # return list of f_i's\n",
    "    return f_is\n",
    "\n",
    "# input: array, matrix\n",
    "# output: array\n",
    "# This function takes in a data vector and a basis for M_i and \n",
    "# projects f onto that basis to calculate f_i\n",
    "def proj_onto_M_i(f, M_i):\n",
    "    # get the dimensions of M_i\n",
    "    nrow = M_i.shape[0]\n",
    "    ncol = M_i.shape[1]\n",
    "    # create a zero vector to add the projections calculated by\n",
    "    # components in the eigen vectors \n",
    "    f_i = np.zeros(ncol)\n",
    "    # for each row of the basis (recall we saved the eigen vectors\n",
    "    # as lines) we calculare the projections\n",
    "    for j in range(nrow):\n",
    "        # temporarily reshape the row to transform it from an array\n",
    "        # to a one dimentional matrix (vertical)\n",
    "        tmp = np.copy(M_i[j])\n",
    "        tmp = tmp.reshape(len(M_i[j]),1)\n",
    "        # add the new projection to f_i\n",
    "        f_i = f_i + project(f, tmp)\n",
    "    # return f_i\n",
    "    return f_i\n",
    "    \n",
    "# input: one dimentional matrix, array\n",
    "# output: one dimentional matrix\n",
    "# This funtion calculates the projection of f onto b\n",
    "def project(f, v):\n",
    "    # reshape v to be a one dimentional matrix compatible \n",
    "    # for dot (or inner) product (horizontal)\n",
    "    v = v.reshape(1,len(v))\n",
    "    # calculate projection and return it\n",
    "    result = (np.dot(v,f)/np.dot(v,np.transpose(v)))*v\n",
    "    return result"
   ]
  },
  {
   "cell_type": "code",
   "execution_count": 99,
   "metadata": {},
   "outputs": [],
   "source": [
    "# input: list (of ints or strings) or string, list, tuple\n",
    "# output: list of arrays\n",
    "# Takes in a list of data vectos given a partition (n,k)\n",
    "# k being the amount of zeros in a row, implements Mallow's\n",
    "# method and returns a list of data vectors as arrays\n",
    "def Mallows_list(alphabet, f_iList, partition):\n",
    "    # partition = (n,k)\n",
    "    k = partition[1]\n",
    "    # first data vector f_0 does nor change \n",
    "    # so we append it intact\n",
    "    MallowsList = [np.concatenate(f_iList[0])]\n",
    "    # for every data vecto f_i, 0<i<k-1, implement \n",
    "    # Mallows method\n",
    "    for f_iIndex in range(1,k):\n",
    "        MallowsList.append(calc_Mallow(alphabet, f_iList[f_iIndex], f_iIndex, k))\n",
    "    # last data vecto f_k does not change so we append it\n",
    "    # without changes\n",
    "    MallowsList.append(np.concatenate(f_iList[-1]))\n",
    "    # return mallows list\n",
    "    return MallowsList\n",
    "\n",
    "# input: list (of ints or strings) or string, array, int, int\n",
    "# output: array\n",
    "# Takes in a data vector f_i and returns Mallow's f_i\n",
    "# i is for row indeces, k for columns \n",
    "def calc_Mallow(alphabet, f_i, i, k):\n",
    "    # variables\n",
    "    rows = list(combinations(alphabet, i))\n",
    "    cols = alphabet_choose_k(alphabet, k)\n",
    "    # zero array for storing values\n",
    "    Mallow_f_i = np.zeros(len(rows))\n",
    "    # T matrix just sums the values of the data vector \n",
    "    # where the values of (n choose i) (rows) is a subset\n",
    "    # of the partition (n choose k) (columns)\n",
    "    for iElem in range(len(rows)):\n",
    "        for kElem in range(len(cols)):\n",
    "            if(set(rows[iElem]).issubset(set(cols[kElem]))):\n",
    "                # add elements of the data vector to \n",
    "                # Mallows data vector\n",
    "                Mallow_f_i[iElem] = Mallow_f_i[iElem] + f_i[0,kElem]\n",
    "    # return Maloow's data vector\n",
    "    return Mallow_f_i"
   ]
  },
  {
   "cell_type": "markdown",
   "metadata": {},
   "source": [
    "# Main function  \n",
    "## Zeros in the minorities"
   ]
  },
  {
   "cell_type": "code",
   "execution_count": 100,
   "metadata": {},
   "outputs": [],
   "source": [
    "# store raw data as a copy\n",
    "Raw_Data = np.copy(gene_mut)\n",
    "\n",
    "# count number of zeros on each row\n",
    "num_zeros = num_of_mutations(Raw_Data)\n",
    "\n",
    "# count the numebr of variables\n",
    "num_vars = Raw_Data.shape[1]-1\n",
    "\n",
    "# partition data by amount of zeros (list of matrices)\n",
    "Sub_Data = raw_data_partitions(Raw_Data, num_zeros)\n",
    "\n",
    "# capture just the data where 0 is in the minority\n",
    "Min_Sub_Data, Maj_Sub_Data = MinoritiesMajorities(Sub_Data)\n",
    "\n",
    "# create list of data vectors (data vector partitioned)\n",
    "# i.e. data vector contains individuals, pairs, triples, etc\n",
    "# we will partition the data vector into a list of arrays\n",
    "# containing individual data vector, pairs data vector, etc\n",
    "data_vectors_f, counter_vectors = create_data_vectors(Min_Sub_Data)\n",
    "\n",
    "# save the k that are in the minorities\n",
    "zero_minorities = []\n",
    "for i in range(len(Min_Sub_Data)):\n",
    "    zero_minorities.append(Min_Sub_Data[i][0])\n",
    "    \n",
    "# create list to contain Mallow Vectors and \n",
    "# their corresponding n-k amount of mutations\n",
    "AllMallowVectors = []\n",
    "\n",
    "# for every partition (n,k) data vector we want to calculate\n",
    "# the decomposition: f = f_0 + f_1 + ... + f_k\n",
    "for kindex in range(len(zero_minorities)):\n",
    "    \n",
    "    # partition data vector\n",
    "    f = data_vectors_f[kindex]\n",
    "    k = zero_minorities[kindex]\n",
    "    \n",
    "    # create tuples for k pairings\n",
    "    variable_tuples = alphabet_choose_k(list(range(num_vars)), k)\n",
    "    \n",
    "    # calculate adjacency matrix and its eigen values \n",
    "    Adjacency = calc_adj_mat(variable_tuples)\n",
    "    \n",
    "    # calculate eigenvalues and eigenvectors of Adjacency Matrix\n",
    "    eig_vals, eig_vecs = calc_eig_vec_of_adj_matrix(Adjacency)\n",
    "    \n",
    "    # create M basis to project data vector onto\n",
    "    M_basis = group_eig_vecs(eig_vals, eig_vecs)\n",
    "    \n",
    "    # capture correct data vector to project\n",
    "    f = data_vectors_f[kindex].reshape(len(data_vectors_f[kindex]),1)\n",
    "    \n",
    "    # project f onto M basis\n",
    "    f_list = proj_f_onto_M(f, M_basis)\n",
    "    \n",
    "    # Use Mallows method to transform f_is into interpretable vectors\n",
    "    MalList = Mallows_list(list(range(num_vars)), f_list, (num_vars,int(k)))\n",
    "    \n",
    "    # Append to list of all Mallow data vectors\n",
    "    AllMallowVectors.append( (num_vars-k,MalList) )"
   ]
  },
  {
   "cell_type": "code",
   "execution_count": 101,
   "metadata": {},
   "outputs": [
    {
     "name": "stdout",
     "output_type": "stream",
     "text": [
      "10.0\n",
      "9.0\n",
      "8.0\n",
      "7.0\n"
     ]
    }
   ],
   "source": [
    "for i in range(len(AllMallowVectors)):\n",
    "    print(AllMallowVectors[i][0])"
   ]
  },
  {
   "cell_type": "markdown",
   "metadata": {},
   "source": [
    "## Ones in the minorities"
   ]
  },
  {
   "cell_type": "markdown",
   "metadata": {},
   "source": [
    "We currently have saved all Mallow vectors for when zero is in the minority (i.e. when we have 10,9,8,7 mutations). Now we need to analyze when zeros are in the majority (i.e. when we have 5 and 6 mutations).\n",
    "\n",
    "An option is to just flip all the data set, but it would be more costly computation wise, so we can flip the matrices in the list $Maj\\_Sub\\_Data$ and run the same calculations there. "
   ]
  },
  {
   "cell_type": "code",
   "execution_count": 102,
   "metadata": {},
   "outputs": [],
   "source": [
    "# input: list of tuples of length two (float, matrix)\n",
    "# output: list of tuples of length two (float, matrix)\n",
    "# This function takes in a list of tuples where the \n",
    "# first value is the amount of zeros on each row (denoted k) of the \n",
    "# matrix (second value of tuple) and it flips the matricies\n",
    "# i.e. changes all the 1's to 0's and vice versa\n",
    "# it also changes the k to the total amount of variables \n",
    "# (denoted n) minus k (so it does keep count of the amount of zeros)\n",
    "def flipMajorities(Majority_Data):\n",
    "    New_Minorities = []\n",
    "    for tupIndex in range(len(Majority_Data)):\n",
    "        k = Majority_Data[tupIndex][0]\n",
    "        data = Majority_Data[tupIndex][1]\n",
    "        ncols = data.shape[1]-1\n",
    "        nrows = data.shape[0]\n",
    "        newMatrix = np.zeros((nrows, ncols+1))\n",
    "        for i in range(nrows):\n",
    "            for j in range(ncols):\n",
    "                if(int(data[i,j]) == 1):\n",
    "                    newMatrix[i,j] = 0\n",
    "                elif(int(data[i,j]) == 0):\n",
    "                    newMatrix[i,j] = 1\n",
    "        # copy hemoglobin as is\n",
    "        for h in range(nrows):\n",
    "            newMatrix[h, -1] = data[h, -1]\n",
    "        New_Minorities.append( (ncols-k, newMatrix) )\n",
    "    return New_Minorities"
   ]
  },
  {
   "cell_type": "code",
   "execution_count": 103,
   "metadata": {},
   "outputs": [],
   "source": [
    "New_Min_Data = flipMajorities(Maj_Sub_Data)"
   ]
  },
  {
   "cell_type": "code",
   "execution_count": 104,
   "metadata": {},
   "outputs": [],
   "source": [
    "# create list of data vectors (data vector partitioned)\n",
    "# i.e. data vector contains individuals, pairs, triples, etc\n",
    "# we will partition the data vector into a list of arrays\n",
    "# containing individual data vector, pairs data vector, etc\n",
    "data_vectors_f2, counter_vectors2 = create_data_vectors(New_Min_Data)\n",
    "\n",
    "# save the k that are in the minorities\n",
    "zero_minorities2 = []\n",
    "for i in range(len(New_Min_Data)):\n",
    "    zero_minorities2.append(New_Min_Data[i][0])\n",
    "    \n",
    "# create list to contain Mallow Vectors and \n",
    "# their corresponding n-k amount of mutations\n",
    "AllMallowVectors2 = []\n",
    "\n",
    "# for every partition (n,k) data vector we want to calculate\n",
    "# the decomposition: f = f_0 + f_1 + ... + f_k\n",
    "for kindex2 in range(len(zero_minorities2)):\n",
    "    \n",
    "    # partition data vector\n",
    "    f2 = data_vectors_f2[kindex2]\n",
    "    k2 = zero_minorities2[kindex2]\n",
    "    \n",
    "    # create tuples for k pairings\n",
    "    variable_tuples = alphabet_choose_k(list(range(num_vars)), k2)\n",
    "    \n",
    "    # calculate adjacency matrix and its eigen values \n",
    "    Adjacency = calc_adj_mat(variable_tuples)\n",
    "    \n",
    "    # calculate eigenvalues and eigenvectors of Adjacency Matrix\n",
    "    eig_vals, eig_vecs = calc_eig_vec_of_adj_matrix(Adjacency)\n",
    "    \n",
    "    # create M basis to project data vector onto\n",
    "    M_basis = group_eig_vecs(eig_vals, eig_vecs)\n",
    "    \n",
    "    # capture correct data vector to project\n",
    "    f = data_vectors_f2[kindex2].reshape(len(data_vectors_f2[kindex2]),1)\n",
    "    \n",
    "    # project f onto M basis\n",
    "    f_list = proj_f_onto_M(f, M_basis)\n",
    "    \n",
    "    # Use Mallows method to transform f_is into interpretable vectors\n",
    "    MalList = Mallows_list(list(range(num_vars)), f_list, (num_vars,int(k2)))\n",
    "    \n",
    "    # Append to list of all Mallow data vectors\n",
    "    AllMallowVectors2.append( (k2,MalList) )"
   ]
  },
  {
   "cell_type": "code",
   "execution_count": 105,
   "metadata": {},
   "outputs": [
    {
     "name": "stdout",
     "output_type": "stream",
     "text": [
      "6.0\n",
      "5.0\n"
     ]
    }
   ],
   "source": [
    "for i in range(len(AllMallowVectors2)):\n",
    "    print(AllMallowVectors2[i][0])"
   ]
  },
  {
   "cell_type": "markdown",
   "metadata": {},
   "source": [
    "## Save all the plots "
   ]
  },
  {
   "cell_type": "code",
   "execution_count": 106,
   "metadata": {},
   "outputs": [],
   "source": [
    "# for nmut in range(len(AllMallowVectors2)-1,-1,-1):\n",
    "#     k = AllMallowVectors2[nmut][0]\n",
    "#     MallowList = AllMallowVectors2[nmut][1]\n",
    "#     for order in range(1,len(MallowList)):\n",
    "#         y_axis = np.arange(len(MallowList[order]))\n",
    "#         plt.bar(y_axis, MallowList[order], align='center')\n",
    "#         plt.title('%d rd order effects within groupings of %d mutations'%(order, k))\n",
    "#         plt.ylim((min(MallowList[order])-50),(max(MallowList[order])+50))\n",
    "#         plt.savefig(\"plots/%d_order_13_%d.png\"%(order,k))\n",
    "#         plt.show()"
   ]
  },
  {
   "cell_type": "code",
   "execution_count": 107,
   "metadata": {},
   "outputs": [],
   "source": [
    "# for nmut in range(len(AllMallowVectors)):\n",
    "#     k = AllMallowVectors[nmut][0]\n",
    "#     MallowList = AllMallowVectors[nmut][1]\n",
    "#     for order in range(1,len(MallowList)):\n",
    "#         y_axis = np.arange(len(MallowList[order]))\n",
    "#         plt.bar(y_axis, MallowList[order], align='center')\n",
    "#         plt.title('%d rd order effects within groupings of %d mutations'%(order, k))\n",
    "#         plt.ylim((min(MallowList[order])-50),(max(MallowList[order])+50))\n",
    "#         plt.savefig(\"plots2/%d_order_13_%d.png\"%(order,k))\n",
    "#         plt.show()"
   ]
  },
  {
   "cell_type": "markdown",
   "metadata": {},
   "source": [
    "# Data vector for $f^{(13,5)}$ with average instead of zeros"
   ]
  },
  {
   "cell_type": "code",
   "execution_count": 108,
   "metadata": {},
   "outputs": [],
   "source": [
    "F5 = data_vectors_f2[1]\n",
    "counter = 0\n",
    "for i in range(len(F5)):\n",
    "    if(int(F5[i]) != 0):\n",
    "        counter += 1\n",
    "Average = sum(F5)/counter\n",
    "\n",
    "F5_Average = np.zeros(len(F5))\n",
    "for i in range(len(F5_Average)):\n",
    "    if(int(F5[i]) == 0):\n",
    "        F5_Average[i] = Average\n",
    "    else:\n",
    "        F5_Average[i] = F5[i]\n",
    "        \n",
    "#Apply Mallow's Method to datavector\n",
    "# partitioned data vector\n",
    "# f5 = F_Average\n",
    "k = 5.0\n",
    "    \n",
    "# create tuples for k pairings\n",
    "variable_tuples = alphabet_choose_k(list(range(num_vars)), k)\n",
    "    \n",
    "# calculate adjacency matrix and its eigen values \n",
    "Adjacency = calc_adj_mat(variable_tuples)\n",
    "    \n",
    "# calculate eigenvalues and eigenvectors of Adjacency Matrix\n",
    "eig_vals, eig_vecs = calc_eig_vec_of_adj_matrix(Adjacency)\n",
    "    \n",
    "# create M basis to project data vector onto\n",
    "M_basis = group_eig_vecs(eig_vals, eig_vecs)\n",
    "    \n",
    "# reshape data vector\n",
    "f_5 = F5_Average.reshape(len(F5_Average),1)\n",
    "    \n",
    "# project f onto M basis\n",
    "f5_list = proj_f_onto_M(f_5, M_basis)\n",
    "\n",
    "# Use Mallows method to transform f_is into interpretable vectors\n",
    "MalListf5 = Mallows_list(list(range(num_vars)), f5_list, (num_vars,int(k)))"
   ]
  },
  {
   "cell_type": "markdown",
   "metadata": {},
   "source": [
    "#### Plotting and saving the graphs of $f^{(13,5)}_i$ where $i = 1,2,3,4,5$  "
   ]
  },
  {
   "cell_type": "code",
   "execution_count": 170,
   "metadata": {},
   "outputs": [
    {
     "data": {
      "image/png": "[encoded data removed]",
      "text/plain": [
       "<Figure size 432x288 with 1 Axes>"
      ]
     },
     "metadata": {},
     "output_type": "display_data"
    }
   ],
   "source": [
    "# # plot f^5_1, f^5_2, f^5_3, f^5_4, f^5_5\n",
    "# k = mutations\n",
    "# order range from 1 to 5\n",
    "o = 3\n",
    "color_peaks(MalListf5[o],order=o,k=5,n_max_peak= 6,n_min_peak= 6, leg=1.35)"
   ]
  },
  {
   "cell_type": "markdown",
   "metadata": {},
   "source": [
    "#### Fucntions for accesing spcefic values in the averaged $f^5_i$ where $i=1,...,5$"
   ]
  },
  {
   "cell_type": "code",
   "execution_count": 77,
   "metadata": {},
   "outputs": [],
   "source": [
    "# match values with ids\n",
    "IDMalListf5 = []\n",
    "for order in range(1,len(MalListf5)):\n",
    "    fi = MalListf5[order]\n",
    "    newfi = []\n",
    "    lexOrder = alphabet_choose_k(list(range(13)), order)\n",
    "    for i in range(len(fi)):\n",
    "        newfi.append( (lexOrder[i], fi[i]) )\n",
    "    IDMalListf5.append(newfi)"
   ]
  },
  {
   "cell_type": "code",
   "execution_count": 78,
   "metadata": {},
   "outputs": [
    {
     "data": {
      "text/plain": [
       "[((0, 2, 3, 5, 6), -8.5833333333333073),\n",
       " ((0, 4, 5, 7, 9), -3.7619047619048276),\n",
       " ((0, 2, 3, 4, 7), -2.0714285714288243),\n",
       " ((0, 2, 4, 5, 12), -1.9047619047618563),\n",
       " ((0, 3, 4, 6, 12), -1.8690476190477374),\n",
       " ((0, 2, 3, 8, 12), -1.8238095238096175),\n",
       " ((0, 2, 3, 11, 12), -1.8238095238095906),\n",
       " ((0, 2, 3, 10, 12), -1.8238095238095575),\n",
       " ((0, 1, 2, 3, 12), -1.8238095238094223),\n",
       " ((0, 3, 4, 5, 12), -1.8214285714285843)]"
      ]
     },
     "execution_count": 78,
     "metadata": {},
     "output_type": "execute_result"
    }
   ],
   "source": [
    "# [i] is the order-1 [e.g. 0 is first order]\n",
    "sorted(IDMalListf5[4], key = itemgetter(1), reverse = False)[:10] # True False"
   ]
  },
  {
   "cell_type": "code",
   "execution_count": 79,
   "metadata": {},
   "outputs": [],
   "source": [
    "k = 5\n",
    "combs = combinations_mutations[3][1]\n",
    "real_f5s = []\n",
    "for fi in range(1, len(MalListf5)):\n",
    "    f = MalListf5[fi]\n",
    "    newf = []\n",
    "    lexOrder = alphabet_choose_k(list(range(13)), fi)\n",
    "    for lex in range(len(lexOrder)):\n",
    "        if(isin_data(lexOrder[lex], combs)):\n",
    "            newf.append( (lexOrder[lex], f[lex]) )\n",
    "    real_f5s.append(newf)"
   ]
  },
  {
   "cell_type": "code",
   "execution_count": 80,
   "metadata": {},
   "outputs": [
    {
     "data": {
      "text/plain": [
       "[((0, 5), -18.454545454542959),\n",
       " ((2, 6), -16.136363636363892),\n",
       " ((3, 6), -13.90909090909161),\n",
       " ((3, 5), -13.045454545451225),\n",
       " ((4, 9), -12.863636363637783),\n",
       " ((2, 5), -11.772727272729222),\n",
       " ((0, 6), -10.81818181818424),\n",
       " ((4, 7), -10.636363636360675),\n",
       " ((11, 12), -9.2727272727313519),\n",
       " ((1, 12), -9.2727272727292469),\n",
       " ((4, 11), -7.4545454545469054),\n",
       " ((1, 4), -7.4545454545421732),\n",
       " ((7, 12), -7.454545454542024),\n",
       " ((9, 12), -6.1818181818198337),\n",
       " ((4, 5), -5.4090909090920682),\n",
       " ((0, 9), -5.4090909090898087),\n",
       " ((5, 6), -3.7727272727265153),\n",
       " ((7, 9), -3.5909090909097872),\n",
       " ((0, 7), -3.181818181817774),\n",
       " ((1, 3), -3.0909090909111137)]"
      ]
     },
     "execution_count": 80,
     "metadata": {},
     "output_type": "execute_result"
    }
   ],
   "source": [
    "# real values in f^4\n",
    "# [i]\n",
    "# i is the order-1 [e.g. 0 is first order]\n",
    "# real_f5s[0]\n",
    "\n",
    "# sorted real values in f^4\n",
    "# [i]\n",
    "# i is the order-1 [e.g. 0 is first order]\n",
    "sorted(real_f5s[1], key = itemgetter(1), reverse = False)[:20] # [:7] True False"
   ]
  },
  {
   "cell_type": "markdown",
   "metadata": {},
   "source": [
    "# Data vector for $f^{(13,6)}$ with average instead of zeros"
   ]
  },
  {
   "cell_type": "code",
   "execution_count": 147,
   "metadata": {},
   "outputs": [],
   "source": [
    "F6 = data_vectors_f2[0]\n",
    "counter = 0\n",
    "for i in range(len(F6)):\n",
    "    if(int(F6[i]) != 0):\n",
    "        counter += 1\n",
    "Average = sum(F6)/counter\n",
    "\n",
    "F6_Average = np.zeros(len(F6))\n",
    "for i in range(len(F6_Average)):\n",
    "    if(int(F6[i]) == 0):\n",
    "        F6_Average[i] = Average\n",
    "    else:\n",
    "        F6_Average[i] = F6[i]"
   ]
  },
  {
   "cell_type": "code",
   "execution_count": 148,
   "metadata": {},
   "outputs": [],
   "source": [
    "#Apply Mallow's Method to datavector\n",
    "# partitioned data vector\n",
    "# f2 = F_Average\n",
    "k = 6.0\n",
    "    \n",
    "# create tuples for k pairings\n",
    "variable_tuples = alphabet_choose_k(list(range(num_vars)), k)\n",
    "    \n",
    "# calculate adjacency matrix and its eigen values \n",
    "Adjacency = calc_adj_mat(variable_tuples)\n",
    "    \n",
    "# calculate eigenvalues and eigenvectors of Adjacency Matrix\n",
    "eig_vals, eig_vecs = calc_eig_vec_of_adj_matrix(Adjacency)\n",
    "    \n",
    "# create M basis to project data vector onto\n",
    "M_basis = group_eig_vecs(eig_vals, eig_vecs)\n",
    "    \n",
    "# reshape data vector\n",
    "f_6 = F6_Average.reshape(len(F6_Average),1)\n",
    "    \n",
    "# project f onto M basis\n",
    "f6_list = proj_f_onto_M(f_6, M_basis)\n",
    "\n",
    "# Use Mallows method to transform f_is into interpretable vectors\n",
    "MalListf6 = Mallows_list(list(range(num_vars)), f6_list, (num_vars,int(k)))"
   ]
  },
  {
   "cell_type": "markdown",
   "metadata": {},
   "source": [
    "#### Plotting and saving the graphs of $f^{(13,6)}_i$ where $i = 1,2,...,6$  "
   ]
  },
  {
   "cell_type": "code",
   "execution_count": 174,
   "metadata": {},
   "outputs": [
    {
     "data": {
      "image/png": "[encoded data removed]",
      "text/plain": [
       "<Figure size 432x288 with 1 Axes>"
      ]
     },
     "metadata": {},
     "output_type": "display_data"
    }
   ],
   "source": [
    "# # plot f^6_1, f^6_2, f^6_3, f^6_4,..., f^6_6\n",
    "# k = 6\n",
    "# # order range from 1 to 6\n",
    "o = 3\n",
    "color_peaks(MalListf6[o],order=o,k=6,n_max_peak= 15,n_min_peak= 9,leg=1.35)"
   ]
  },
  {
   "cell_type": "markdown",
   "metadata": {},
   "source": [
    "#### Fucntions for accesing spcefic values in the averaged $f^6_i$ where $i=1,...,6$"
   ]
  },
  {
   "cell_type": "code",
   "execution_count": 71,
   "metadata": {},
   "outputs": [],
   "source": [
    "# match values with ids\n",
    "IDMalListf6 = []\n",
    "for order in range(1,len(MalListf6)):\n",
    "    fi = MalListf6[order]\n",
    "    newfi = []\n",
    "    lexOrder = alphabet_choose_k(list(range(13)), order)\n",
    "    for i in range(len(fi)):\n",
    "        newfi.append( (lexOrder[i], fi[i]) )\n",
    "    IDMalListf6.append(newfi)"
   ]
  },
  {
   "cell_type": "code",
   "execution_count": 72,
   "metadata": {},
   "outputs": [
    {
     "data": {
      "text/plain": [
       "[((0, 2, 3, 5, 7, 11), -7.4769230769231729),\n",
       " ((0, 2, 3, 4, 5, 6), -4.839560439560441),\n",
       " ((0, 2, 3, 6, 7, 12), -4.0344322344321339),\n",
       " ((0, 2, 3, 5, 6, 7), -3.7399267399267448),\n",
       " ((0, 2, 3, 5, 10, 12), -2.7142857142857508),\n",
       " ((0, 2, 3, 5, 8, 12), -2.7142857142857233),\n",
       " ((0, 1, 2, 3, 5, 12), -2.7142857142856167),\n",
       " ((0, 3, 5, 6, 11, 12), -2.6630036630036305),\n",
       " ((0, 2, 4, 6, 7, 11), -2.5003663003662284)]"
      ]
     },
     "execution_count": 72,
     "metadata": {},
     "output_type": "execute_result"
    }
   ],
   "source": [
    "# [i] is the order-1 [e.g. 0 is first order]\n",
    "sorted(IDMalListf6[5], key=itemgetter(1))[:9]"
   ]
  },
  {
   "cell_type": "code",
   "execution_count": 73,
   "metadata": {},
   "outputs": [],
   "source": [
    "k = 6\n",
    "combs = combinations_mutations[4][1]\n",
    "real_f6s = []\n",
    "for fi in range(1, len(MalListf6)):\n",
    "    f = MalListf6[fi]\n",
    "    newf = []\n",
    "    lexOrder = alphabet_choose_k(list(range(13)), fi)\n",
    "    for lex in range(len(lexOrder)):\n",
    "        if(isin_data(lexOrder[lex], combs)):\n",
    "            newf.append( (lexOrder[lex], f[lex]) )\n",
    "    real_f6s.append(newf)"
   ]
  },
  {
   "cell_type": "code",
   "execution_count": 74,
   "metadata": {},
   "outputs": [],
   "source": [
    "# real values in f^6_i\n",
    "# [i]\n",
    "# i is the order-1 [e.g. 0 is first order]\n",
    "# real_f6s[0]"
   ]
  },
  {
   "cell_type": "code",
   "execution_count": 75,
   "metadata": {},
   "outputs": [
    {
     "data": {
      "text/plain": [
       "[((0, 2, 3, 5, 7, 11), -7.4769230769231729),\n",
       " ((0, 2, 3, 4, 5, 6), -4.839560439560441),\n",
       " ((0, 2, 3, 6, 7, 12), -4.0344322344321339),\n",
       " ((0, 2, 3, 5, 6, 7), -3.7399267399267448),\n",
       " ((0, 3, 5, 6, 7, 9), -1.8476190476189345),\n",
       " ((2, 3, 5, 6, 7, 12), -1.0527472527471966),\n",
       " ((0, 2, 6, 7, 9, 12), -0.42710622710623031),\n",
       " ((0, 2, 3, 5, 7, 9), -0.22344322344332893),\n",
       " ((0, 2, 3, 4, 5, 7), 0.66959706959717791)]"
      ]
     },
     "execution_count": 75,
     "metadata": {},
     "output_type": "execute_result"
    }
   ],
   "source": [
    "# sorted real values in f^6\n",
    "# [i]\n",
    "# i is the order+1 [e.g. 0 is first order]\n",
    "sorted(real_f6s[5], key=itemgetter(1))[:9]"
   ]
  },
  {
   "cell_type": "markdown",
   "metadata": {},
   "source": [
    "# Tables for combinations of mutations"
   ]
  },
  {
   "cell_type": "code",
   "execution_count": 109,
   "metadata": {},
   "outputs": [],
   "source": [
    "# intput:\n",
    "# output:\n",
    "# Given a matrix with only nz number of zeros on each row\n",
    "# returns an array of tuples where each tuple is a distinct\n",
    "# combination of mutations in at least one row of the matrix\n",
    "# the length of the tuples are 13-nz\n",
    "def combination_tables(mat, nz):\n",
    "    nrows = mat.shape[0]\n",
    "    tups = []\n",
    "    for row in range(nrows):\n",
    "        tups.append(categorize_row2(mat[row]))\n",
    "    return list(set(tups))"
   ]
  },
  {
   "cell_type": "code",
   "execution_count": 110,
   "metadata": {},
   "outputs": [],
   "source": [
    "# input: one dimensional matrix (horizontal)\n",
    "# output: tuple or int\n",
    "# Takes in a row and categorizes the row by the amount of ones \n",
    "# and returns the corresponding variables to the ones \n",
    "# e.g. the row [1,0,1,0] with the columns 1234, return (1,3)\n",
    "# e.g. the row [0,0,0,1] with columns 1234 returns 4\n",
    "def categorize_row2(row):\n",
    "    # copy row to not alter the data\n",
    "    tempRow = np.copy(row)\n",
    "    tempRow = np.asarray(tempRow)\n",
    "    # length of row without including the last column (which are the results)\n",
    "    length = len(tempRow)-1 # minus hemoglobin\n",
    "    # variable to store the variables corresponding to the zeros\n",
    "    category = []\n",
    "    # check line for zeros\n",
    "    for i in range(length):\n",
    "        if(int(tempRow[i]) == 1):\n",
    "            category.append(i)\n",
    "    # if it is only one zero in the row it returns the int\n",
    "    if(len(category) != 1):\n",
    "        # returns tuple of category\n",
    "        return tuple(category)\n",
    "    else:\n",
    "        return category[0]"
   ]
  },
  {
   "cell_type": "code",
   "execution_count": 111,
   "metadata": {},
   "outputs": [],
   "source": [
    "# store raw data as a copy\n",
    "Raw_Data = np.copy(gene_mut)\n",
    "\n",
    "# count the numebr of variables\n",
    "num_vars = Raw_Data.shape[1]-1\n",
    "\n",
    "# count number of zeros on each row\n",
    "num_zeros = num_of_mutations(Raw_Data)\n",
    "\n",
    "# partition data by amount of zeros (list of matrices)\n",
    "Sub_Data = raw_data_partitions(Raw_Data, num_zeros)\n",
    "\n",
    "# list to hold combinations of mutations\n",
    "combinations_mutations = []\n",
    "\n",
    "# for every partition of data of the form (#zero, sub-data)\n",
    "# create a table and save it that contains its distinct\n",
    "# combinations of mutations\n",
    "for data in range(len(Sub_Data)):\n",
    "    nzero = Sub_Data[data][0]\n",
    "    matr = Sub_Data[data][1]\n",
    "    tupslist = combination_tables(matr, nzero)\n",
    "    combinations_mutations.append((num_vars-nzero, tupslist))\n",
    "    #df = pd.DataFrame(np.asanyarray(tupslist))\n",
    "    #df.to_csv(\"tables/combinations_%d_mutations.csv\"%(num_vars-nzero))"
   ]
  },
  {
   "cell_type": "markdown",
   "metadata": {},
   "source": [
    "# Values of real combinations"
   ]
  },
  {
   "cell_type": "code",
   "execution_count": 112,
   "metadata": {},
   "outputs": [],
   "source": [
    "# input: list of ints, list of tuples\n",
    "# output: bool\n",
    "# Given a list of mutations and a list of tuples where each tuple is a combination of \n",
    "# mutations, it checks if the tuple is a subset of any other tuple on the list\n",
    "# of tuples, if it is, it returns True, otherwise returns False\n",
    "def isin_data(subtup, tuplist):\n",
    "    for i in range(len(tuplist)):\n",
    "        #print(\"tup = \", tuplist[i], i)\n",
    "        if(set(subtup).issubset(tuplist[i])):\n",
    "            return True\n",
    "    return False"
   ]
  },
  {
   "cell_type": "code",
   "execution_count": 113,
   "metadata": {},
   "outputs": [
    {
     "name": "stdout",
     "output_type": "stream",
     "text": [
      "10.0\n",
      "9.0\n",
      "8.0\n",
      "7.0\n",
      "6.0\n",
      "5.0\n"
     ]
    }
   ],
   "source": [
    "for i in range(len(combinations_mutations)):\n",
    "    print(combinations_mutations[i][0])"
   ]
  },
  {
   "cell_type": "code",
   "execution_count": 114,
   "metadata": {},
   "outputs": [
    {
     "data": {
      "text/plain": [
       "True"
      ]
     },
     "execution_count": 114,
     "metadata": {},
     "output_type": "execute_result"
    }
   ],
   "source": [
    "# validate\n",
    "# first argument: tuple of combinations you want to check\n",
    "#.                can have repetitions and can be out of order\n",
    "# second argument: combinations_mutations[i][j]\n",
    "#.          i: index corresponding to group of mutations \n",
    "#.              [0 is 10m, 1 is 9m, ..., 5 is 5m]\n",
    "#.          j: always 1\n",
    "isin_data((2,2,0,6), combinations_mutations[1][1])"
   ]
  },
  {
   "cell_type": "code",
   "execution_count": 115,
   "metadata": {},
   "outputs": [
    {
     "name": "stdout",
     "output_type": "stream",
     "text": [
      "[(0, 2, 3, 4, 12), (0, 3, 4, 6, 7), (0, 4, 5, 7, 9), (0, 2, 3, 5, 6)]\n"
     ]
    }
   ],
   "source": [
    "# [i][j]\n",
    "# i: index to change mutations [0 is 10, 1 is 9, ..., 4 is 6, 5 is 5]\n",
    "# j: 0 is the mutations and 1 is the combinations of that mutation\n",
    "#.    that actually happen on the raw data\n",
    "print(combinations_mutations[5][1])"
   ]
  },
  {
   "cell_type": "markdown",
   "metadata": {},
   "source": [
    "## Tables for mutations 6->5"
   ]
  },
  {
   "cell_type": "code",
   "execution_count": 116,
   "metadata": {},
   "outputs": [],
   "source": [
    "# AllMallowVectors2 - [(6, [f0->f6]), (5, [f0->f5])]\n",
    "# AllMallowVectors - [(10, [f0->f3]), (9, [f0->f4]), (8, [f0->f5]), (7, [f0->f6])]\n",
    "# combinations_mutations - [(10, comb), (9, comb), (8, comb), (7, comb), (6, comb), (5, comb)]\n",
    "# for each fi I want a new fi with tuples for elements ( combo mut, value ) \n",
    "# only in new fi if value happens in data\n",
    "realAllMallowVectors2 = []\n",
    "falseAllMallowVectors2 = []\n",
    "for i in range(len(AllMallowVectors2)):\n",
    "    k = AllMallowVectors2[i][0]\n",
    "    combs = combinations_mutations[i+4][1]\n",
    "    real_fis = []\n",
    "    false_fis = []\n",
    "    for fi in range(1, len(AllMallowVectors2[i][1])):\n",
    "        f = AllMallowVectors2[i][1][fi]\n",
    "        newf = []\n",
    "        falsef = []\n",
    "        lexOrder = alphabet_choose_k(list(range(13)),fi)\n",
    "        for lex in range(len(lexOrder)):\n",
    "            if(isin_data(lexOrder[lex], combs)):\n",
    "                newf.append( (lexOrder[lex], f[lex]) )\n",
    "            else:\n",
    "                falsef.append( (lexOrder[lex], f[lex]) )\n",
    "        real_fis.append(newf)\n",
    "        false_fis.append(falsef)\n",
    "    falseAllMallowVectors2.append( (k, false_fis) )\n",
    "    realAllMallowVectors2.append( (k, real_fis) )"
   ]
  },
  {
   "cell_type": "markdown",
   "metadata": {},
   "source": [
    "#### Look through real values"
   ]
  },
  {
   "cell_type": "code",
   "execution_count": 117,
   "metadata": {},
   "outputs": [
    {
     "name": "stdout",
     "output_type": "stream",
     "text": [
      "6 ((0, 12), -193.86363636363666)\n"
     ]
    }
   ],
   "source": [
    "# look for specific values\n",
    "# i: mutation [0 is 6, 1 is 5]\n",
    "# k: order f_k+1\n",
    "i = 0\n",
    "k = 1\n",
    "com = [0,12]\n",
    "total = len(realAllMallowVectors2[i][1][k])\n",
    "listLook = sorted(realAllMallowVectors2[i][1][k], key=itemgetter(1))\n",
    "for index in range(total):\n",
    "    if(listLook[index][0] == tuple(com)):\n",
    "        if(listLook[index][1] < 0):\n",
    "            place = index+1\n",
    "        else:\n",
    "            place = total-index\n",
    "        print(place, listLook[index])"
   ]
  },
  {
   "cell_type": "code",
   "execution_count": 118,
   "metadata": {},
   "outputs": [],
   "source": [
    "# a = [3,19,6,10,8,11]\n",
    "# for b in range(len(a)):\n",
    "#     print(a[b]/len(realAllMallowVectors2[0][1][2]))\n",
    "# len(realAllMallowVectors2[0][1][2])"
   ]
  },
  {
   "cell_type": "code",
   "execution_count": 119,
   "metadata": {},
   "outputs": [
    {
     "data": {
      "text/plain": [
       "[((0,), 962.8461538461529),\n",
       " ((2,), 976.84615384615199),\n",
       " ((3,), 781.84615384615358),\n",
       " ((4,), -119.15384615384716),\n",
       " ((5,), 641.84615384615165),\n",
       " ((6,), 529.84615384615256),\n",
       " ((7,), 595.84615384615324),\n",
       " ((9,), -515.15384615384664),\n",
       " ((11,), -675.15384615384653),\n",
       " ((12,), -287.15384615384619)]"
      ]
     },
     "execution_count": 119,
     "metadata": {},
     "output_type": "execute_result"
    }
   ],
   "source": [
    "# [i][j][k]\n",
    "# i: mutation [0 is 6, 1 is 5]\n",
    "# j: 0 gives the mutation i, 1 gives the mallow f_i in groupings of i mutations\n",
    "# k: order f_k+1\n",
    "realAllMallowVectors2[0][1][0]"
   ]
  },
  {
   "cell_type": "code",
   "execution_count": 120,
   "metadata": {},
   "outputs": [
    {
     "data": {
      "text/plain": [
       "[((11,), -675.15384615384653),\n",
       " ((9,), -515.15384615384664),\n",
       " ((12,), -287.15384615384619),\n",
       " ((4,), -119.15384615384716),\n",
       " ((6,), 529.84615384615256),\n",
       " ((7,), 595.84615384615324),\n",
       " ((5,), 641.84615384615165),\n",
       " ((3,), 781.84615384615358),\n",
       " ((0,), 962.8461538461529),\n",
       " ((2,), 976.84615384615199)]"
      ]
     },
     "execution_count": 120,
     "metadata": {},
     "output_type": "execute_result"
    }
   ],
   "source": [
    "# [i][j][k]\n",
    "# i: the mutations [0 is 6, 1 is 5]\n",
    "# j: always 1\n",
    "# k: just displays the order of the mutation i (order-1)\n",
    "sorted(realAllMallowVectors2[0][1][0], key=itemgetter(1))"
   ]
  },
  {
   "cell_type": "markdown",
   "metadata": {},
   "source": [
    "#### Look through false values"
   ]
  },
  {
   "cell_type": "code",
   "execution_count": 121,
   "metadata": {},
   "outputs": [],
   "source": [
    "# combinations that do not occur in the data\n",
    "# [i][j][k]\n",
    "# i: mutation [0 is 6, 1 is 5]\n",
    "# j: 0 gives the mutation i, 1 gives the mallow f_i in groupings of i mutations\n",
    "# k: order f_k+1\n",
    "i = 0\n",
    "k = 4\n",
    "com = [1,4,6,10]\n",
    "total = len(falseAllMallowVectors2[i][1][k])\n",
    "listLook = sorted(falseAllMallowVectors2[i][1][k], key=itemgetter(1))\n",
    "for index in range(total):\n",
    "    if(listLook[index][0] == tuple(com)):\n",
    "        print(index+1, listLook[index])\n",
    "# falseAllMallowVectors2[0][1][5][1][0]"
   ]
  },
  {
   "cell_type": "code",
   "execution_count": 122,
   "metadata": {},
   "outputs": [],
   "source": [
    "# combinations that do not occur in the data\n",
    "# [i][j][k]\n",
    "# i: the mutations [0 is 6, 1 is 5]\n",
    "# j: always 1\n",
    "# k: just displays the order of the mutation i (order-1)\n",
    "# sorted(falseAllMallowVectors2[0][1][1], key=itemgetter(1))"
   ]
  },
  {
   "cell_type": "markdown",
   "metadata": {},
   "source": [
    "## Tables for mutations 10->7"
   ]
  },
  {
   "cell_type": "code",
   "execution_count": 123,
   "metadata": {},
   "outputs": [],
   "source": [
    "# AllMallowVectors2 - [(6, [f0->f6]), (5, [f0->f5])]\n",
    "# AllMallowVectors - [(10, [f0->f3]), (9, [f0->f4]), (8, [f0->f5]), (7, [f0->f6])]\n",
    "# combinations_mutations - [(10, comb), (9, comb), (8, comb), (7, comb), (6, comb), (5, comb)]\n",
    "# for each fi I want a new fi with tuples for elements ( combo mut, value ) \n",
    "# only in new fi if value happens in data\n",
    "realAllMallowVectors = []\n",
    "for i in range(len(AllMallowVectors)):\n",
    "    k = AllMallowVectors[i][0]\n",
    "    combs = combinations_mutations[i][1]\n",
    "    real_fis = []\n",
    "    for fi in range(1, len(AllMallowVectors[i][1])):\n",
    "        f = AllMallowVectors[i][1][fi]\n",
    "        newf = []\n",
    "        lexOrder = alphabet_choose_k(list(range(13)),fi)\n",
    "        for lex in range(len(lexOrder)):\n",
    "            if(isin_data(lexOrder[lex], combs)):\n",
    "                newf.append( (lexOrder[lex], f[lex]) )\n",
    "        real_fis.append(newf)\n",
    "    realAllMallowVectors.append( (k, real_fis) )"
   ]
  },
  {
   "cell_type": "code",
   "execution_count": 124,
   "metadata": {},
   "outputs": [
    {
     "name": "stdout",
     "output_type": "stream",
     "text": [
      "10.0\n",
      "9.0\n",
      "8.0\n",
      "7.0\n"
     ]
    }
   ],
   "source": [
    "for i in range(len(realAllMallowVectors)):\n",
    "    print(realAllMallowVectors[i][0])"
   ]
  },
  {
   "cell_type": "code",
   "execution_count": 125,
   "metadata": {},
   "outputs": [],
   "source": [
    "# [i][j][k]\n",
    "# i: the mutations\n",
    "# j: 0 is the mutation i and 1 is the actual list of combinations\n",
    "#.    paired with their value on the data\n",
    "# k: just displays the order of the mutation i (order-1)\n",
    "# realAllMallowVectors[0][1][0]"
   ]
  },
  {
   "cell_type": "markdown",
   "metadata": {},
   "source": [
    "# Mallow's Method for \"raw\" data vectors"
   ]
  },
  {
   "cell_type": "code",
   "execution_count": 126,
   "metadata": {},
   "outputs": [],
   "source": [
    "# input: list (of ints or strings) or string, array, int\n",
    "# output: array\n",
    "# Takes in a data vector f_i and returns Mallow's f_i\n",
    "def calc_Mallow2(alphabet, f_i, i, k):\n",
    "    # variables\n",
    "    rows = list(combinations(alphabet, i))\n",
    "    cols = list(combinations(alphabet, k))\n",
    "    # zero array for storing values\n",
    "    Mallow_f_i = np.zeros(len(rows))\n",
    "    counter = np.zeros(len(rows))\n",
    "    # T matrix just sums the values of the data vector \n",
    "    # where the values of (n choose i) (rows) is a subset\n",
    "    # of the partition (n choose k) (columns)\n",
    "    for iElem in range(len(rows)):\n",
    "        for kElem in range(len(cols)):\n",
    "            if(set(rows[iElem]).issubset(set(cols[kElem]))):\n",
    "                if(int(f_i[0,kElem]) != 0):\n",
    "                    counter[iElem] += 1\n",
    "                # add elements of the data vector to \n",
    "                # Mallows data vector\n",
    "                Mallow_f_i[iElem] = Mallow_f_i[iElem] + f_i[0,kElem]\n",
    "    # Average before returning\n",
    "    for j in range(len(Mallow_f_i)):\n",
    "        if(int(counter[j]) != 0):\n",
    "            Mallow_f_i[j] = Mallow_f_i[j]/counter[j]\n",
    "    # return Mallow's data vector\n",
    "    return Mallow_f_i"
   ]
  },
  {
   "cell_type": "code",
   "execution_count": 127,
   "metadata": {},
   "outputs": [],
   "source": [
    "k2 = [6,5]\n",
    "k1 = [3,4,5,6]\n",
    "MallowRawVec2 = []\n",
    "for findex in range(len(data_vectors_f2)):\n",
    "    listf = []\n",
    "    f = np.copy(data_vectors_f2[findex])\n",
    "    f = f.reshape(1,len(f))\n",
    "    k = k2[findex]\n",
    "    for order in range(1,k+1):\n",
    "        listf.append(calc_Mallow2(list(range(13)),f,order,k))\n",
    "    MallowRawVec2.append( (k, listf) )\n",
    "\n",
    "MallowRawVec1 = []\n",
    "for findex in range(len(data_vectors_f)):\n",
    "    listf = []\n",
    "    f = np.copy(data_vectors_f[findex])\n",
    "    f = f.reshape(1,len(f))\n",
    "    k = k1[findex]\n",
    "    for order in range(1,k+1):\n",
    "        listf.append(calc_Mallow2(list(range(13)),f,order,k))\n",
    "    MallowRawVec1.append( (13-k, listf) )"
   ]
  },
  {
   "cell_type": "code",
   "execution_count": 128,
   "metadata": {},
   "outputs": [
    {
     "name": "stdout",
     "output_type": "stream",
     "text": [
      "10\n",
      "9\n",
      "8\n",
      "7\n",
      "6\n",
      "5\n"
     ]
    }
   ],
   "source": [
    "for i in range(len(MallowRawVec1)):\n",
    "    print(MallowRawVec1[i][0])\n",
    "for i in range(len(MallowRawVec2)):\n",
    "    print(MallowRawVec2[i][0])"
   ]
  },
  {
   "cell_type": "markdown",
   "metadata": {},
   "source": [
    "### Mallow vectors for $f^{(13,5)}$ raw data vector  \n",
    "This could easily be genralized to save all the $f_i$ graphs for each groupings of $k$ mutations since we have them already computed above and saved to lists."
   ]
  },
  {
   "cell_type": "code",
   "execution_count": 194,
   "metadata": {},
   "outputs": [
    {
     "data": {
      "image/png": "[encoded data removed]",
      "text/plain": [
       "<Figure size 432x288 with 1 Axes>"
      ]
     },
     "metadata": {},
     "output_type": "display_data"
    }
   ],
   "source": [
    "# Plot Raw Mallow Vectors\n",
    "f5 = MallowRawVec2[1][1]\n",
    "len(f5)\n",
    "# plot f^6_1, f^6_2,..., f^6_6\n",
    "k = 5 \n",
    "# order range from 1 to 6\n",
    "o = 5\n",
    "p = [4,2]\n",
    "a = 1.45\n",
    "color_peaks(f5[o-1],order=o,k=5,n_max_peak=p[0],n_min_peak=p[1], leg=a)"
   ]
  },
  {
   "cell_type": "markdown",
   "metadata": {},
   "source": [
    "#### Access these values"
   ]
  },
  {
   "cell_type": "code",
   "execution_count": null,
   "metadata": {},
   "outputs": [],
   "source": [
    "# match values with ids\n",
    "IDRawVec = []\n",
    "for order in range(1,len(f6)+1):\n",
    "    fi = f6[order-1]\n",
    "    newfi = []\n",
    "    lexOrder = alphabet_choose_k(list(range(13)), order)\n",
    "    for i in range(len(fi)):\n",
    "        newfi.append( (lexOrder[i], fi[i]) )\n",
    "    IDRawVec.append(newfi)"
   ]
  },
  {
   "cell_type": "code",
   "execution_count": null,
   "metadata": {},
   "outputs": [],
   "source": [
    "# [i] is the order-1 [e.g. 0 is first order]\n",
    "sorted(IDRawVec[5], key=itemgetter(1), reverse=True)[:13]"
   ]
  },
  {
   "cell_type": "markdown",
   "metadata": {},
   "source": [
    "### Mallow vectors for $f^{(13,6)}$ raw data vector  "
   ]
  },
  {
   "cell_type": "code",
   "execution_count": 189,
   "metadata": {},
   "outputs": [
    {
     "data": {
      "image/png": "[encoded data removed]",
      "text/plain": [
       "<Figure size 432x288 with 1 Axes>"
      ]
     },
     "metadata": {},
     "output_type": "display_data"
    }
   ],
   "source": [
    "# Plot Raw Mallow Vectors\n",
    "f6 = MallowRawVec2[0][1]\n",
    "len(f6)\n",
    "# plot f^6_1, f^6_2,..., f^6_6\n",
    "k = 6 \n",
    "# order range from 1 to 6\n",
    "o = 6\n",
    "p = [2,3]\n",
    "a = 1.5\n",
    "color_peaks(f6[o-1],order=o,k=6,n_max_peak=p[0],n_min_peak=p[1], leg=a)"
   ]
  },
  {
   "cell_type": "markdown",
   "metadata": {},
   "source": [
    "#### Access these values"
   ]
  },
  {
   "cell_type": "code",
   "execution_count": 196,
   "metadata": {},
   "outputs": [],
   "source": [
    "# match values with ids\n",
    "IDRawVec = []\n",
    "for order in range(1,len(f6)+1):\n",
    "    fi = f6[order-1]\n",
    "    newfi = []\n",
    "    lexOrder = alphabet_choose_k(list(range(13)), order)\n",
    "    for i in range(len(fi)):\n",
    "        newfi.append( (lexOrder[i], fi[i]) )\n",
    "    IDRawVec.append(newfi)"
   ]
  },
  {
   "cell_type": "code",
   "execution_count": 197,
   "metadata": {},
   "outputs": [
    {
     "data": {
      "text/plain": [
       "[((0, 2, 3, 5, 6, 12), 208.0),\n",
       " ((0, 2, 4, 5, 6, 7), 189.0),\n",
       " ((0, 2, 3, 4, 6, 7), 176.0),\n",
       " ((0, 2, 3, 4, 5, 11), 165.0),\n",
       " ((2, 3, 5, 6, 7, 12), 162.0),\n",
       " ((0, 2, 3, 4, 5, 7), 159.0),\n",
       " ((0, 2, 3, 4, 5, 6), 156.0),\n",
       " ((0, 2, 6, 7, 9, 12), 154.0),\n",
       " ((0, 2, 3, 6, 7, 12), 153.0),\n",
       " ((0, 2, 3, 5, 6, 7), 148.0),\n",
       " ((0, 3, 5, 6, 7, 9), 148.0),\n",
       " ((0, 2, 3, 5, 7, 9), 147.0),\n",
       " ((0, 2, 3, 5, 7, 11), 124.0)]"
      ]
     },
     "execution_count": 197,
     "metadata": {},
     "output_type": "execute_result"
    }
   ],
   "source": [
    "# [i] is the order-1 [e.g. 0 is first order]\n",
    "sorted(IDRawVec[5], key=itemgetter(1), reverse=True)[:13]"
   ]
  },
  {
   "cell_type": "markdown",
   "metadata": {},
   "source": [
    "# Extract values for scatterplots"
   ]
  },
  {
   "cell_type": "code",
   "execution_count": 131,
   "metadata": {},
   "outputs": [],
   "source": [
    "# Sub_Data = [(5.0, M5), (6.0, M6), ..., (12.0, M12)]\n",
    "# k is the grouping of mutations\n",
    "# mutations is a list of the mutations you are interested in extracting \n",
    "#           e.g. [0,1,2] would be ABC\n",
    "# pdata is the variable Sub_Data (always)\n",
    "# combs is combinations_mutations (always)\n",
    "def get_hemoglobin(k, mutations, pdata, combs):\n",
    "    zeros = int(13-k)\n",
    "    for i in range(len(pdata)):\n",
    "        if(zeros == int(pdata[i][0])):\n",
    "            data = pdata[i][1]\n",
    "    hemoglobin = []\n",
    "    mutation_combinations = []\n",
    "    #check if mutations is in data\n",
    "    # capture correct combinations to check\n",
    "    for i in range(len(combinations_mutations)):\n",
    "        if(int(combinations_mutations[i][0]) == int(k)):\n",
    "            combinations = combinations_mutations[i][1]\n",
    "    if(isin_data(mutations, combinations)):\n",
    "        for row in range(len(data)):\n",
    "            # categorize row by the mutations it has\n",
    "            cat = categorize_row2(data[row])\n",
    "            # fix some bugs here (tuples can't have length 1, work around this)\n",
    "            if(isinstance(cat, int)):\n",
    "                cat = [cat]\n",
    "            # check if mutations happen in this row\n",
    "            if(set(mutations).issubset(set(cat))):\n",
    "                # save hemoglobin\n",
    "                hemoglobin.append(float(data[row][-1:]))\n",
    "                # save category \n",
    "                if(len(cat) == 1):\n",
    "                    mutation_combinations.append(cat[0])\n",
    "                else:\n",
    "                    mutation_combinations.append(cat)\n",
    "        # empty list for value tuples\n",
    "        result = []\n",
    "        for i in range(len(hemoglobin)):\n",
    "            if(len(mutations) == int(k)):\n",
    "                result.append( (mutation_combinations[i], hemoglobin[i]) )\n",
    "            # change the elements of the list of mutations to just the one\n",
    "            # we did not input in mutations variable\n",
    "            else:\n",
    "                # rearange mutation_combinations[i]\n",
    "                a = set(mutation_combinations[i])\n",
    "                b = set(mutations)\n",
    "                m = sorted(list(a.difference(b)))\n",
    "                m = tuple(m)\n",
    "                result.append( (m, hemoglobin[i]) )\n",
    "        return result\n",
    "    else:\n",
    "        return(\"these mutations don't occur in these groupings of mutations\")"
   ]
  },
  {
   "cell_type": "code",
   "execution_count": 132,
   "metadata": {},
   "outputs": [
    {
     "data": {
      "text/plain": [
       "[((0, 2, 3, 4), 198.0)]"
      ]
     },
     "execution_count": 132,
     "metadata": {},
     "output_type": "execute_result"
    }
   ],
   "source": [
    "# arguments:\n",
    "# 1st: is the grouping of mutations\n",
    "# 2nd: is a list of the mutations you are interested in extracting \n",
    "#           e.g. [0,1,2] would be ABC\n",
    "# 3rd: pdata is the variable Sub_Data (always)\n",
    "# 4th: combs is combinations_mutations (always)\n",
    "get_hemoglobin(5, [12], Sub_Data, combinations_mutations)"
   ]
  },
  {
   "cell_type": "markdown",
   "metadata": {},
   "source": [
    "# Plot with colors"
   ]
  },
  {
   "cell_type": "code",
   "execution_count": 133,
   "metadata": {},
   "outputs": [],
   "source": [
    "gene_names = ['A','B','C','D','E','F','G','H','I','J','K','L','M']"
   ]
  },
  {
   "cell_type": "code",
   "execution_count": 134,
   "metadata": {},
   "outputs": [],
   "source": [
    "# this function inputs the 13 gene names and the kth grouping of f...\n",
    "# ...and outputs a list of all k combinations of gene names in lexicalgraphical order\n",
    "def create_list_names(gene_names,k):\n",
    "    list_names=[]\n",
    "    for i in range(1,k+1):\n",
    "        list_names.append(alphabet_choose_k(gene_names,i))\n",
    "    return list_names\n",
    "\n",
    "# this function inputs the list of all k combinations of gene names in lexicographical order\n",
    "# ... and outputs the indices (key) for each gene group-name in list_names\n",
    "def dict_names(list_names):\n",
    "    keys = range(1,len(list_names)+1)\n",
    "    return (dict(zip(keys,list_names)))   \n",
    "\n",
    "# this function inputs a Mallow list with specified order and kth grouping...\n",
    "# ...and outputs a single f_i mallow vector from the kth group\n",
    "def Mallow_f_order(MallowList, order, k):\n",
    "    for tup in MallowList:\n",
    "        if (int(tup[0]))==int(k):\n",
    "            list_fi= tup[1]\n",
    "            return list_fi[order]\n",
    "    \n",
    "# input: a single mallow vector\n",
    "# output: returns a list of indices which contain max vals\n",
    "def get_n_max(f_i, n_max_peak):\n",
    "    n = n_max_peak\n",
    "    indices = f_i.ravel().argsort()[-n:]  \n",
    "    top_ind=[i for i in indices]\n",
    "    top_ind.reverse()\n",
    "    return top_ind\n",
    "\n",
    "# similar function as above. Returns list of indices with min vals\n",
    "def get_n_min(f_i, n_min_peak):\n",
    "    n= n_min_peak\n",
    "    indices = f_i.ravel().argsort()[:n]\n",
    "    bot_ind=[i for i in indices]\n",
    "    return bot_ind\n",
    "\n",
    "# similar as above but works for Mallow's method on raw data\n",
    "def get_n_min2(f_i, n_min_peak):\n",
    "    n = n_min_peak\n",
    "    f = np.ma.masked_equal(f_i, 0.0, copy=False)\n",
    "    indices = f.ravel().argsort()[:n]\n",
    "    bot_ind=[i for i in indices]\n",
    "    return bot_ind\n",
    "\n",
    "# this function retrieves the peak name of max peaks, min peaks \n",
    "def retrieve_peak_names(diction,top_ind,order):\n",
    "    order_gene_names=[]\n",
    "    for i in top_ind:\n",
    "        order_gene_names.append(diction.get(order)[i])\n",
    "    return order_gene_names"
   ]
  },
  {
   "cell_type": "code",
   "execution_count": 195,
   "metadata": {},
   "outputs": [],
   "source": [
    "#this function inputs a Mallow list, the i'th order, the kth partition, and the num of peaks...\n",
    "#... and outputs a bar-plot of the i'th order effects within gene groupings of k...\n",
    "#...with the max and min peaks colored\n",
    "def color_peaks(MallowList, order, k, n_max_peak, n_min_peak, leg):\n",
    "    # all inputs from helper functions \n",
    "    #f_i = Mallow_f_order(MallowList, order, k)\n",
    "    f_i = MallowList\n",
    "    top_ind = get_n_max(f_i, n_max_peak)\n",
    "    bot_ind = get_n_min2(f_i,n_min_peak)\n",
    "    list_names = create_list_names(gene_names,k)\n",
    "    diction = dict_names(list_names)\n",
    "    top_peak_gene_names = retrieve_peak_names(diction, top_ind, order)\n",
    "    top_min_peak_gene_names = retrieve_peak_names(diction, bot_ind, order)\n",
    "   \n",
    "    # the codes below changes the size and location of things\n",
    "    x_axis_1 = np.arange(len(f_i))\n",
    "    \n",
    "    # width changes size of bars\n",
    "    plt.bar(x_axis_1, f_i, width = 0.8, align = 'center', alpha = 0.5)\n",
    "    \n",
    "    # axis\n",
    "    # x label\n",
    "    plt.xlabel('Lexicographical Order of Gene Combinations')\n",
    "    # y label\n",
    "    plt.ylabel('Frequency')\n",
    "    \n",
    "    # plotting\n",
    "    plt.ylim((min(f_i)-2),(max(f_i)+2))\n",
    "    for i in range(len(top_ind)):\n",
    "        plt.bar(top_ind[i],f_i[top_ind[i]], align='center',label=top_peak_gene_names[i])\n",
    "    for j in range(len(bot_ind)):\n",
    "        plt.bar(bot_ind[j],f_i[bot_ind[j]], align='center',label=top_min_peak_gene_names[j])\n",
    "\n",
    "    # change location of legend\n",
    "    plt.legend(bbox_to_anchor=(leg, 1), title = 'Mutations \\n Highest %d \\n Lowest %d'%(n_max_peak, n_min_peak))\n",
    "    \n",
    "    # naming the plots\n",
    "    if(int(order) == 1):\n",
    "        plt.title('Mallow\\'s Method on Raw Data \\n %dst Order Effects Within Groupings of %d Mutations'%(order, k))\n",
    "    elif(int(order) == 2):\n",
    "        plt.title('Mallow\\'s Method on Raw Data \\n %dnd Order Effects Within Groupings of %d Mutations'%(order, k))\n",
    "    elif(int(order) == 3):\n",
    "        plt.title('Mallow\\'s Method on Raw Data \\n %drd Order Effects Within Groupings of %d Mutations'%(order, k))\n",
    "    else:\n",
    "        plt.title('Mallow\\'s Method on Raw Data \\n %dth Order Effects Within Groupings of %d Mutations'%(order, k))\n",
    "        \n",
    "    # save plots\n",
    "#     plt.savefig(\"OR Reduction plots/raw_%d_order_%d_mutations.png\"%(order, k), bbox_inches=\"tight\")\n",
    "    \n",
    "    # show plots\n",
    "    plt.show()"
   ]
  },
  {
   "cell_type": "code",
   "execution_count": null,
   "metadata": {},
   "outputs": [],
   "source": []
  }
 ],
 "metadata": {
  "kernelspec": {
   "display_name": "Python 3",
   "language": "python",
   "name": "python3"
  },
  "language_info": {
   "codemirror_mode": {
    "name": "ipython",
    "version": 3
   },
   "file_extension": ".py",
   "mimetype": "text/x-python",
   "name": "python",
   "nbconvert_exporter": "python",
   "pygments_lexer": "ipython3",
   "version": "3.6.5"
  }
 },
 "nbformat": 4,
 "nbformat_minor": 2
}
