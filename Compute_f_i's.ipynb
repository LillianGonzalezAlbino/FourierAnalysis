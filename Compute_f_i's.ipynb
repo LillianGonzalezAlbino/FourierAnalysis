{
 "cells": [
  {
   "cell_type": "code",
   "execution_count": 59,
   "metadata": {},
   "outputs": [],
   "source": [
    "import numpy as np\n",
    "import pandas as pd \n",
    "import scipy\n",
    "import types\n",
    "from itertools import combinations"
   ]
  },
  {
   "cell_type": "code",
   "execution_count": 60,
   "metadata": {},
   "outputs": [],
   "source": [
    "# input: string or list, int\n",
    "# output: list of tuples\n",
    "# This function returns all the combination of the characters in the string \n",
    "# of length k as a list of tuples. It can also take a list as its first \n",
    "# argument and has the same output but treats the elements of the list \n",
    "# like characters in a string. It should be noted that this function\n",
    "# \"renames\" the function combinations of the itertools library\n",
    "# so it is more readable to the user.\n",
    "def alphabet_choose_k(alphabet, k):\n",
    "    return list(combinations(alphabet, k))"
   ]
  },
  {
   "cell_type": "code",
   "execution_count": 61,
   "metadata": {},
   "outputs": [],
   "source": [
    "# input: list of same length tuples\n",
    "# output: matrix\n",
    "# Takes in a tuple list each of the same size k which are all the \n",
    "# combinations of our variables and calculates the adjacency matrix\n",
    "# of its Johnson Graph \n",
    "def calc_adj_mat(tuple_list):\n",
    "    # type check the tuple list\n",
    "    if isinstance(tuple_list, list)==False:\n",
    "        return(\"Argument is not a list!\")\n",
    "    # Create adjacency matrix of size of the amount of tuples in the \n",
    "    # list on both columns and rows\n",
    "    dim = len(tuple_list)       \n",
    "    Adj = np.zeros((dim,dim))\n",
    "    # Go through the matrix \n",
    "    for i in range(dim):\n",
    "        for j in range(dim):\n",
    "            # if the intersection of the nodes (which are the tuples) \n",
    "            # is equal to their length - 1 then they are connected\n",
    "            # and we put a one in the matrix to represent that connection\n",
    "            if len(set(tuple_list[i]).intersection(set(tuple_list[j]))) == len(tuple_list[0])-1:\n",
    "                Adj[i,j] = 1\n",
    "    return Adj"
   ]
  },
  {
   "cell_type": "code",
   "execution_count": 62,
   "metadata": {},
   "outputs": [],
   "source": [
    "# input: matrix\n",
    "# output: list of floats, list of arrays\n",
    "# Takes in an adjacency matrix (which is symmetric) and calculates\n",
    "# the eigen values and eigen vectors and returns them as a list of floats\n",
    "# and as a list of arrays respectively. It should be noted that the \n",
    "# eigen values corrspond with the same indexed eigen vectors.\n",
    "# This function \"renames\" the function np.linalg.eigh for the\n",
    "# purpose of making it easier for the user.\n",
    "def calc_eig_vec_of_adj_matrix(mat):\n",
    "    eig_val, eig_vec = np.linalg.eigh(mat)\n",
    "    return eig_val, eig_vec"
   ]
  },
  {
   "cell_type": "code",
   "execution_count": 63,
   "metadata": {},
   "outputs": [],
   "source": [
    "# input: list of floats\n",
    "# output: list of arrays\n",
    "# Since the eigen vectors corresponding to the same M_i in a \n",
    "# given decomposition (n,k) have the same eigen value, this\n",
    "# function (that takes in eigen vectors and eigen values in \n",
    "# order of correspondance) concatenates (as matrices) eigen \n",
    "# vectors that correspond to the same M_i and returns these \n",
    "# as a list of matricies that are the basis for the M_i's\n",
    "# in ascending order (i.e. [M_0, M_1,...,M_k])\n",
    "def group_eig_vecs(e_vals, e_vecs):\n",
    "    # gather the distinct eigen values and sort them\n",
    "    distinct_vals = np.unique(e_vals.round(decimals=4))\n",
    "    distinct_vals = np.sort(distinct_vals)\n",
    "    # create empty list where we will store the basis\n",
    "    M_basis = []\n",
    "    # for every distinct eigen value we will go through the \n",
    "    # list of eigen values and if they are equal we will add the\n",
    "    # corresponding eigen vector to a list \n",
    "    for val in distinct_vals:\n",
    "        # list for storing eigen vectors that correspond to \n",
    "        # the same M_i\n",
    "        vec_list = []\n",
    "        for i in range(len(e_vals)):\n",
    "            if(val == e_vals[i].round(decimals=4)):\n",
    "                vec_list.append(np.transpose(e_vecs)[i])\n",
    "        # transform list of arrays into matrix to append to M basis list\n",
    "        vec_list = np.array(vec_list).reshape(len(vec_list), len(vec_list[0]))\n",
    "        M_basis.append(vec_list)\n",
    "    # return M basis\n",
    "    M_basis = np.flipud(M_basis)\n",
    "    return M_basis"
   ]
  },
  {
   "cell_type": "code",
   "execution_count": 64,
   "metadata": {},
   "outputs": [],
   "source": [
    "# input: array, list of matrices\n",
    "# output: list of arrays\n",
    "# This functions calculates the projection of the data vector \n",
    "# f onto each of the M_i basis (in the form of a matrix)\n",
    "def proj_f_onto_M(f, M_basis):\n",
    "    # emptylist to store the f_is as we calculate them \n",
    "    f_is = []\n",
    "    # for every element of the list of M basis we will \n",
    "    # calculate f_i and append it to the list\n",
    "    for i in range(len(M_basis)):\n",
    "        f_is.append(proj_onto_M_i(f, M_basis[i]))\n",
    "    # return list of f_i's\n",
    "    return f_is\n",
    "\n",
    "# input: array, matrix\n",
    "# output: array\n",
    "# This function takes in a data vector and a basis for M_i and \n",
    "# projects f onto that basis to calculate f_i\n",
    "def proj_onto_M_i(f, M_i):\n",
    "    # get the dimensions of M_i\n",
    "    nrow = M_i.shape[0]\n",
    "    ncol = M_i.shape[1]\n",
    "    # create a zero vector to add the projections calculated by\n",
    "    # components in the eigen vectors \n",
    "    f_i = np.zeros(ncol)\n",
    "    # for each row of the basis (recall we saved the eigen vectors\n",
    "    # as lines) we calculare the projections\n",
    "    for j in range(nrow):\n",
    "        # temporarily reshape the row to transform it from an array\n",
    "        # to a one dimentional matrix (vertical)\n",
    "        tmp = np.copy(M_i[j])\n",
    "        tmp = tmp.reshape(10,1)\n",
    "        # add the new projection to f_i\n",
    "        f_i = f_i + project(f, tmp)\n",
    "    # return f_i\n",
    "    return f_i\n",
    "    \n",
    "# input: one dimentional matrix, array\n",
    "# output: one dimentional matrix\n",
    "# This funtion calculates the projection of f onto b\n",
    "def project(f, v):\n",
    "    # reshape v to be a one dimentional matrix compatible \n",
    "    # for dot (or inner) product (horizontal)\n",
    "    v = v.reshape(1,10)\n",
    "    # calculate projection and return it\n",
    "    result = (np.dot(v,f)/np.dot(v,np.transpose(v)))*v\n",
    "    return result"
   ]
  },
  {
   "cell_type": "code",
   "execution_count": 65,
   "metadata": {},
   "outputs": [
    {
     "data": {
      "text/plain": [
       "[array([[11., 11., 11., 11., 11., 11., 11., 11., 11., 11.]]),\n",
       " array([[-8.66666667,  5.33333333, -2.66666667, -7.        ,  5.33333333,\n",
       "         -2.66666667, -7.        , 11.33333333,  7.        , -1.        ]]),\n",
       " array([[-3.33333333e-01, -4.33333333e+00,  2.66666667e+00,\n",
       "          2.00000000e+00,  6.66666667e-01, -3.33333333e-01,\n",
       "         -3.33066907e-15,  1.66666667e+00,  2.00000000e+00,\n",
       "         -4.00000000e+00]])]"
      ]
     },
     "execution_count": 65,
     "metadata": {},
     "output_type": "execute_result"
    }
   ],
   "source": [
    "# validate code with example from reference [2] (see technical report)\n",
    "pairs = alphabet_choose_k('ABCDE', 2)\n",
    "Adj = calc_adj_mat(pairs)\n",
    "vals, vecs = calc_eig_vec_of_adj_matrix(Adj)\n",
    "Mbasis = group_eig_vecs(vals, vecs)\n",
    "f = np.array([2,12,11,6,17,8,4,24,20,6]).reshape(10,1)\n",
    "f_list = proj_f_onto_M(f, Mbasis)\n",
    "f_list"
   ]
  },
  {
   "cell_type": "code",
   "execution_count": null,
   "metadata": {},
   "outputs": [],
   "source": []
  }
 ],
 "metadata": {
  "kernelspec": {
   "display_name": "Python 3",
   "language": "python",
   "name": "python3"
  },
  "language_info": {
   "codemirror_mode": {
    "name": "ipython",
    "version": 3
   },
   "file_extension": ".py",
   "mimetype": "text/x-python",
   "name": "python",
   "nbconvert_exporter": "python",
   "pygments_lexer": "ipython3",
   "version": "3.6.5"
  }
 },
 "nbformat": 4,
 "nbformat_minor": 2
}
