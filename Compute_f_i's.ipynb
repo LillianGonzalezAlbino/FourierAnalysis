{
 "cells": [
  {
   "cell_type": "code",
   "execution_count": 110,
   "metadata": {},
   "outputs": [],
   "source": [
    "import numpy as np\n",
    "import pandas as pd \n",
    "import scipy\n",
    "import types\n",
    "from itertools import combinations\n",
    "import pylab as plt"
   ]
  },
  {
   "cell_type": "code",
   "execution_count": 18,
   "metadata": {},
   "outputs": [],
   "source": [
    "# input: string or list, int\n",
    "# output: list of tuples\n",
    "# This function returns all the combination of the characters in the string \n",
    "# of length k as a list of tuples. It can also take a list as its first \n",
    "# argument and has the same output but treats the elements of the list \n",
    "# like characters in a string. It should be noted that this function\n",
    "# \"renames\" the function combinations of the itertools library\n",
    "# so it is more readable to the user.\n",
    "def alphabet_choose_k(alphabet, k):\n",
    "    return list(combinations(alphabet, k))"
   ]
  },
  {
   "cell_type": "code",
   "execution_count": 19,
   "metadata": {},
   "outputs": [],
   "source": [
    "# input: list of same length tuples\n",
    "# output: matrix\n",
    "# Takes in a tuple list each of the same size k which are all the \n",
    "# combinations of our variables and calculates the adjacency matrix\n",
    "# of its Johnson Graph \n",
    "def calc_adj_mat(tuple_list):\n",
    "    # type check the tuple list\n",
    "    if isinstance(tuple_list, list)==False:\n",
    "        return(\"Argument is not a list!\")\n",
    "    # Create adjacency matrix of size of the amount of tuples in the \n",
    "    # list on both columns and rows\n",
    "    dim = len(tuple_list)       \n",
    "    Adj = np.zeros((dim,dim))\n",
    "    # Go through the matrix \n",
    "    for i in range(dim):\n",
    "        for j in range(dim):\n",
    "            # if the intersection of the nodes (which are the tuples) \n",
    "            # is equal to their length - 1 then they are connected\n",
    "            # and we put a one in the matrix to represent that connection\n",
    "            if len(set(tuple_list[i]).intersection(set(tuple_list[j]))) == len(tuple_list[0])-1:\n",
    "                Adj[i,j] = 1\n",
    "    return Adj"
   ]
  },
  {
   "cell_type": "code",
   "execution_count": 20,
   "metadata": {},
   "outputs": [],
   "source": [
    "# input: matrix\n",
    "# output: list of floats, list of arrays\n",
    "# Takes in an adjacency matrix (which is symmetric) and calculates\n",
    "# the eigen values and eigen vectors and returns them as a list of floats\n",
    "# and as a list of arrays respectively. It should be noted that the \n",
    "# eigen values corrspond with the same indexed eigen vectors.\n",
    "# This function \"renames\" the function np.linalg.eigh for the\n",
    "# purpose of making it easier for the user.\n",
    "def calc_eig_vec_of_adj_matrix(mat):\n",
    "    eig_val, eig_vec = np.linalg.eigh(mat)\n",
    "    return eig_val, eig_vec"
   ]
  },
  {
   "cell_type": "code",
   "execution_count": 21,
   "metadata": {},
   "outputs": [],
   "source": [
    "# input: list of floats\n",
    "# output: list of arrays\n",
    "# Since the eigen vectors corresponding to the same M_i in a \n",
    "# given decomposition (n,k) have the same eigen value, this\n",
    "# function (that takes in eigen vectors and eigen values in \n",
    "# order of correspondance) concatenates (as matrices) eigen \n",
    "# vectors that correspond to the same M_i and returns these \n",
    "# as a list of matricies that are the basis for the M_i's\n",
    "# in ascending order (i.e. [M_0, M_1,...,M_k])\n",
    "def group_eig_vecs(e_vals, e_vecs):\n",
    "    # gather the distinct eigen values and sort them\n",
    "    distinct_vals = np.unique(e_vals.round(decimals=4))\n",
    "    distinct_vals = np.sort(distinct_vals)\n",
    "    # create empty list where we will store the basis\n",
    "    M_basis = []\n",
    "    # for every distinct eigen value we will go through the \n",
    "    # list of eigen values and if they are equal we will add the\n",
    "    # corresponding eigen vector to a list \n",
    "    for val in distinct_vals:\n",
    "        # list for storing eigen vectors that correspond to \n",
    "        # the same M_i\n",
    "        vec_list = []\n",
    "        for i in range(len(e_vals)):\n",
    "            if(val == e_vals[i].round(decimals=4)):\n",
    "                vec_list.append(np.transpose(e_vecs)[i])\n",
    "        # transform list of arrays into matrix to append to M basis list\n",
    "        vec_list = np.array(vec_list).reshape(len(vec_list), len(vec_list[0]))\n",
    "        M_basis.append(vec_list)\n",
    "    # return M basis\n",
    "    M_basis = np.flipud(M_basis)\n",
    "    return M_basis"
   ]
  },
  {
   "cell_type": "code",
   "execution_count": 22,
   "metadata": {},
   "outputs": [],
   "source": [
    "# input: array, list of matrices\n",
    "# output: list of arrays\n",
    "# This functions calculates the projection of the data vector \n",
    "# f onto each of the M_i basis (in the form of a matrix)\n",
    "def proj_f_onto_M(f, M_basis):\n",
    "    # emptylist to store the f_is as we calculate them \n",
    "    f_is = []\n",
    "    # for every element of the list of M basis we will \n",
    "    # calculate f_i and append it to the list\n",
    "    for i in range(len(M_basis)):\n",
    "        f_is.append(proj_onto_M_i(f, M_basis[i]))\n",
    "    # return list of f_i's\n",
    "    return f_is\n",
    "\n",
    "# input: array, matrix\n",
    "# output: array\n",
    "# This function takes in a data vector and a basis for M_i and \n",
    "# projects f onto that basis to calculate f_i\n",
    "def proj_onto_M_i(f, M_i):\n",
    "    # get the dimensions of M_i\n",
    "    nrow = M_i.shape[0]\n",
    "    ncol = M_i.shape[1]\n",
    "    # create a zero vector to add the projections calculated by\n",
    "    # components in the eigen vectors \n",
    "    f_i = np.zeros(ncol)\n",
    "    # for each row of the basis (recall we saved the eigen vectors\n",
    "    # as lines) we calculare the projections\n",
    "    for j in range(nrow):\n",
    "        # temporarily reshape the row to transform it from an array\n",
    "        # to a one dimentional matrix (vertical)\n",
    "        tmp = np.copy(M_i[j])\n",
    "        tmp = tmp.reshape(10,1)\n",
    "        # add the new projection to f_i\n",
    "        f_i = f_i + project(f, tmp)\n",
    "    # return f_i\n",
    "    return f_i\n",
    "    \n",
    "# input: one dimentional matrix, array\n",
    "# output: one dimentional matrix\n",
    "# This funtion calculates the projection of f onto b\n",
    "def project(f, v):\n",
    "    # reshape v to be a one dimentional matrix compatible \n",
    "    # for dot (or inner) product (horizontal)\n",
    "    v = v.reshape(1,10)\n",
    "    # calculate projection and return it\n",
    "    result = (np.dot(v,f)/np.dot(v,np.transpose(v)))*v\n",
    "    return result"
   ]
  },
  {
   "cell_type": "code",
   "execution_count": 65,
   "metadata": {},
   "outputs": [],
   "source": [
    "def Mallows_list(alphabet, f_iList, partition):\n",
    "    k = partition[1]\n",
    "    MallowsList = [f_iList[0]]\n",
    "    for f_iIndex in range(1,k):\n",
    "        MallowsList.append(calc_Mallow(alphabet, f_iList[f_iIndex], f_iIndex, k))\n",
    "    MallowsList.append(f_iList[-1])\n",
    "    return MallowsList\n",
    "    \n",
    "def calc_Mallow(alphabet, f_i, i, k):\n",
    "    rows = list(combinations(alphabet, i))\n",
    "    cols = alphabet_choose_k(alphabet, k)\n",
    "    Mallow_f_i = np.zeros(len(rows))\n",
    "    for iElem in range(len(rows)):\n",
    "        for kElem in range(len(cols)):\n",
    "            if(set(rows[iElem]).issubset(set(cols[kElem]))):\n",
    "                Mallow_f_i[iElem] = Mallow_f_i[iElem] + f_i[0,kElem]\n",
    "    return Mallow_f_i"
   ]
  },
  {
   "cell_type": "code",
   "execution_count": 260,
   "metadata": {},
   "outputs": [],
   "source": [
    "def categorize_row(row):\n",
    "    tempRow = np.copy(row)\n",
    "    tempRow = np.asarray(tempRow[0])\n",
    "    length = len(tempRow)-1 # we dont want to include the hemoglobin\n",
    "    category = []\n",
    "    for i in range(length):\n",
    "        if(int(tempRow[i]) == 0):\n",
    "            category.append(i)\n",
    "    \n",
    "    if(len(category) != 1):\n",
    "        print(\"TUPLE\")\n",
    "        return tuple(category)\n",
    "    else:\n",
    "        return category[0]"
   ]
  },
  {
   "cell_type": "code",
   "execution_count": 261,
   "metadata": {},
   "outputs": [],
   "source": [
    "def calc_f(PartitionTuple):\n",
    "    k = PartitionTuple[0]\n",
    "    data = PartitionTuple[1]\n",
    "    nrows = data.shape[0]\n",
    "    nvars = data.shape[1]-1\n",
    "    rowCategory = [0]*nvars\n",
    "    singles = []\n",
    "    lexOrder = list(combinations(list(range(nvars)),nvars-k))\n",
    "    f = np.zeros(int(scipy.special.binom(nvars,nvars-k)))\n",
    "    for row in range(nrows):\n",
    "        cat = categorize_row(data[row,])\n",
    "        if(isinstance(cat, tuple)):\n",
    "#             print(\"TUP\")\n",
    "            rowCategory.append(cat)\n",
    "        else:\n",
    "#             print(\"ELSE\")\n",
    "            singles.append(cat)\n",
    "#     print(\"row cat = \", rowCategory)\n",
    "    for row in range(nrows):\n",
    "        for order in range(len(lexOrder)):\n",
    "            if(rowCategory[row] == lexOrder[order]):\n",
    "                f[order] = f[order] + data[row,-1]\n",
    "#     print(\"ind = \", singles)\n",
    "    for i in range(len(singles)):\n",
    "        f[i] = singles[i]\n",
    "    return f"
   ]
  },
  {
   "cell_type": "code",
   "execution_count": 262,
   "metadata": {},
   "outputs": [],
   "source": [
    "def create_data_vectors(PartitionList):\n",
    "    dataVectors = []\n",
    "    for data in range(len(PartitionList)):\n",
    "        dataVectors.append(calc_f(PartitionList[data]))\n",
    "    return dataVectors"
   ]
  },
  {
   "cell_type": "code",
   "execution_count": 263,
   "metadata": {},
   "outputs": [],
   "source": [
    "def num_of_mutations(RDM):\n",
    "    tempRDM = np.copy(RDM)\n",
    "    tempRDM = np.delete(tempRDM,-1,1)\n",
    "    nones = []\n",
    "    nrows = RDM.shape[0]\n",
    "    for row in range(nrows):\n",
    "        nones.append(sum(tempRDM[row,]))\n",
    "    nzeros = [tempRDM.shape[1]]*(len(nones))\n",
    "    nzeros = [a_i - b_i for a_i, b_i in zip(nzeros, nones)]\n",
    "    return nzeros"
   ]
  },
  {
   "cell_type": "code",
   "execution_count": 264,
   "metadata": {},
   "outputs": [],
   "source": [
    "def raw_data_partitions(RDM, nzeros):\n",
    "    nrows = RDM.shape[0]\n",
    "    ncols = RDM.shape[1]\n",
    "    fPartitions = []\n",
    "    distinct_amounts_zeros = np.unique(nzeros)\n",
    "    distinct_amounts_zeros = np.sort(distinct_amounts_zeros)\n",
    "    for amount in distinct_amounts_zeros:\n",
    "        list_amount_i = []\n",
    "        for row in range(nrows):\n",
    "            if(nzeros[row]==amount):\n",
    "                list_amount_i.append(RDM[row,])\n",
    "        Matrix_amount_i = np.concatenate(list_amount_i)\n",
    "        fPartitions.append((amount,\n",
    "                            Matrix_amount_i))\n",
    "    return fPartitions"
   ]
  },
  {
   "cell_type": "code",
   "execution_count": 265,
   "metadata": {},
   "outputs": [
    {
     "ename": "IndexError",
     "evalue": "list index out of range",
     "output_type": "error",
     "traceback": [
      "\u001b[0;31m---------------------------------------------------------------------------\u001b[0m",
      "\u001b[0;31mIndexError\u001b[0m                                Traceback (most recent call last)",
      "\u001b[0;32m<ipython-input-265-82a8cf839c59>\u001b[0m in \u001b[0;36m<module>\u001b[0;34m()\u001b[0m\n\u001b[1;32m      5\u001b[0m \u001b[0mn0s\u001b[0m \u001b[0;34m=\u001b[0m \u001b[0mnum_of_mutations\u001b[0m\u001b[0;34m(\u001b[0m\u001b[0mexample\u001b[0m\u001b[0;34m)\u001b[0m\u001b[0;34m\u001b[0m\u001b[0m\n\u001b[1;32m      6\u001b[0m \u001b[0mfs\u001b[0m \u001b[0;34m=\u001b[0m \u001b[0mraw_data_partitions\u001b[0m\u001b[0;34m(\u001b[0m\u001b[0mexample\u001b[0m\u001b[0;34m,\u001b[0m \u001b[0mn0s\u001b[0m\u001b[0;34m)\u001b[0m\u001b[0;34m\u001b[0m\u001b[0m\n\u001b[0;32m----> 7\u001b[0;31m \u001b[0mfs\u001b[0m \u001b[0;34m=\u001b[0m \u001b[0mcreate_data_vectors\u001b[0m\u001b[0;34m(\u001b[0m\u001b[0mfs\u001b[0m\u001b[0;34m)\u001b[0m\u001b[0;34m\u001b[0m\u001b[0m\n\u001b[0m\u001b[1;32m      8\u001b[0m \u001b[0mfs\u001b[0m\u001b[0;34m\u001b[0m\u001b[0m\n",
      "\u001b[0;32m<ipython-input-262-cd49e53b264a>\u001b[0m in \u001b[0;36mcreate_data_vectors\u001b[0;34m(PartitionList)\u001b[0m\n\u001b[1;32m      2\u001b[0m     \u001b[0mdataVectors\u001b[0m \u001b[0;34m=\u001b[0m \u001b[0;34m[\u001b[0m\u001b[0;34m]\u001b[0m\u001b[0;34m\u001b[0m\u001b[0m\n\u001b[1;32m      3\u001b[0m     \u001b[0;32mfor\u001b[0m \u001b[0mdata\u001b[0m \u001b[0;32min\u001b[0m \u001b[0mrange\u001b[0m\u001b[0;34m(\u001b[0m\u001b[0mlen\u001b[0m\u001b[0;34m(\u001b[0m\u001b[0mPartitionList\u001b[0m\u001b[0;34m)\u001b[0m\u001b[0;34m)\u001b[0m\u001b[0;34m:\u001b[0m\u001b[0;34m\u001b[0m\u001b[0m\n\u001b[0;32m----> 4\u001b[0;31m         \u001b[0mdataVectors\u001b[0m\u001b[0;34m.\u001b[0m\u001b[0mappend\u001b[0m\u001b[0;34m(\u001b[0m\u001b[0mcalc_f\u001b[0m\u001b[0;34m(\u001b[0m\u001b[0mPartitionList\u001b[0m\u001b[0;34m[\u001b[0m\u001b[0mdata\u001b[0m\u001b[0;34m]\u001b[0m\u001b[0;34m)\u001b[0m\u001b[0;34m)\u001b[0m\u001b[0;34m\u001b[0m\u001b[0m\n\u001b[0m\u001b[1;32m      5\u001b[0m     \u001b[0;32mreturn\u001b[0m \u001b[0mdataVectors\u001b[0m\u001b[0;34m\u001b[0m\u001b[0m\n",
      "\u001b[0;32m<ipython-input-261-e1487ea9d461>\u001b[0m in \u001b[0;36mcalc_f\u001b[0;34m(PartitionTuple)\u001b[0m\n\u001b[1;32m     19\u001b[0m     \u001b[0;32mfor\u001b[0m \u001b[0mrow\u001b[0m \u001b[0;32min\u001b[0m \u001b[0mrange\u001b[0m\u001b[0;34m(\u001b[0m\u001b[0mnrows\u001b[0m\u001b[0;34m)\u001b[0m\u001b[0;34m:\u001b[0m\u001b[0;34m\u001b[0m\u001b[0m\n\u001b[1;32m     20\u001b[0m         \u001b[0;32mfor\u001b[0m \u001b[0morder\u001b[0m \u001b[0;32min\u001b[0m \u001b[0mrange\u001b[0m\u001b[0;34m(\u001b[0m\u001b[0mlen\u001b[0m\u001b[0;34m(\u001b[0m\u001b[0mlexOrder\u001b[0m\u001b[0;34m)\u001b[0m\u001b[0;34m)\u001b[0m\u001b[0;34m:\u001b[0m\u001b[0;34m\u001b[0m\u001b[0m\n\u001b[0;32m---> 21\u001b[0;31m             \u001b[0;32mif\u001b[0m\u001b[0;34m(\u001b[0m\u001b[0mrowCategory\u001b[0m\u001b[0;34m[\u001b[0m\u001b[0mrow\u001b[0m\u001b[0;34m]\u001b[0m \u001b[0;34m==\u001b[0m \u001b[0mlexOrder\u001b[0m\u001b[0;34m[\u001b[0m\u001b[0morder\u001b[0m\u001b[0;34m]\u001b[0m\u001b[0;34m)\u001b[0m\u001b[0;34m:\u001b[0m\u001b[0;34m\u001b[0m\u001b[0m\n\u001b[0m\u001b[1;32m     22\u001b[0m                 \u001b[0mf\u001b[0m\u001b[0;34m[\u001b[0m\u001b[0morder\u001b[0m\u001b[0;34m]\u001b[0m \u001b[0;34m=\u001b[0m \u001b[0mf\u001b[0m\u001b[0;34m[\u001b[0m\u001b[0morder\u001b[0m\u001b[0;34m]\u001b[0m \u001b[0;34m+\u001b[0m \u001b[0mdata\u001b[0m\u001b[0;34m[\u001b[0m\u001b[0mrow\u001b[0m\u001b[0;34m,\u001b[0m\u001b[0;34m-\u001b[0m\u001b[0;36m1\u001b[0m\u001b[0;34m]\u001b[0m\u001b[0;34m\u001b[0m\u001b[0m\n\u001b[1;32m     23\u001b[0m \u001b[0;31m#     print(\"ind = \", singles)\u001b[0m\u001b[0;34m\u001b[0m\u001b[0;34m\u001b[0m\u001b[0m\n",
      "\u001b[0;31mIndexError\u001b[0m: list index out of range"
     ]
    }
   ],
   "source": [
    "example = np.matrix([[0, 1, 1, 1, 1],[1, 1, 0, 1, 1],[1, 0, 1, 0, 1],\n",
    "                     [1, 0, 0, 1, 1],[1, 1, 1, 0, 1],[0, 1, 1, 0, 1],\n",
    "                     [1, 1, 1, 0, 1],[1, 0, 0, 1, 1],[1, 1, 1, 0, 1],\n",
    "                     [1, 0, 0, 1, 1]])\n",
    "n0s = num_of_mutations(example)\n",
    "fs = raw_data_partitions(example, n0s)\n",
    "fs = create_data_vectors(fs)\n",
    "fs"
   ]
  },
  {
   "cell_type": "code",
   "execution_count": 69,
   "metadata": {},
   "outputs": [
    {
     "data": {
      "text/plain": [
       "[array([[ 11.,  11.,  11.,  11.,  11.,  11.,  11.,  11.,  11.,  11.]]),\n",
       " array([-12., -11.,  16.,   6.,   1.]),\n",
       " array([[ 7.66666667, -2.33333333, -5.        , -0.33333333, -3.66666667,\n",
       "         -2.33333333, -1.66666667,  5.66666667,  0.33333333,  1.66666667]])]"
      ]
     },
     "execution_count": 69,
     "metadata": {},
     "output_type": "execute_result"
    }
   ],
   "source": [
    "# validate code with example from reference [2] (see technical report)\n",
    "pairs = alphabet_choose_k('ABCDE', 2)\n",
    "Adj = calc_adj_mat(pairs)\n",
    "vals, vecs = calc_eig_vec_of_adj_matrix(Adj)\n",
    "Mbasis = group_eig_vecs(vals, vecs)\n",
    "f = np.array([11,10,4,7,9,7,6,24,17,15]).reshape(10,1)\n",
    "f_list = proj_f_onto_M(f, Mbasis)\n",
    "#print(f_list)\n",
    "MalList = Mallows_list('ABCDE',f_list, (5,2))\n",
    "MalList"
   ]
  },
  {
   "cell_type": "code",
   "execution_count": 97,
   "metadata": {
    "scrolled": true
   },
   "outputs": [
    {
     "data": {
      "image/png": "[encoded data removed]",
      "text/plain": [
       "<Figure size 432x288 with 1 Axes>"
      ]
     },
     "metadata": {},
     "output_type": "display_data"
    }
   ],
   "source": [
    "plt.imshow(Adj)\n",
    "plt.show()"
   ]
  },
  {
   "cell_type": "code",
   "execution_count": 244,
   "metadata": {},
   "outputs": [
    {
     "data": {
      "text/plain": [
       "[1, 2, 3, 1, 2, 3, 1, 2, 3]"
      ]
     },
     "execution_count": 244,
     "metadata": {},
     "output_type": "execute_result"
    }
   ],
   "source": [
    "a = [1,2,3]\n",
    "a*3"
   ]
  },
  {
   "cell_type": "code",
   "execution_count": 108,
   "metadata": {},
   "outputs": [
    {
     "ename": "NameError",
     "evalue": "name 'nCr' is not defined",
     "output_type": "error",
     "traceback": [
      "\u001b[0;31m---------------------------------------------------------------------------\u001b[0m",
      "\u001b[0;31mNameError\u001b[0m                                 Traceback (most recent call last)",
      "\u001b[0;32m<ipython-input-108-77c9d9e0bdad>\u001b[0m in \u001b[0;36m<module>\u001b[0;34m()\u001b[0m\n\u001b[0;32m----> 1\u001b[0;31m \u001b[0mnCr\u001b[0m\u001b[0;34m(\u001b[0m\u001b[0;36m4\u001b[0m\u001b[0;34m,\u001b[0m\u001b[0;36m2\u001b[0m\u001b[0;34m)\u001b[0m\u001b[0;34m\u001b[0m\u001b[0m\n\u001b[0m",
      "\u001b[0;31mNameError\u001b[0m: name 'nCr' is not defined"
     ]
    }
   ],
   "source": [
    "nCr(4,2)"
   ]
  },
  {
   "cell_type": "code",
   "execution_count": null,
   "metadata": {},
   "outputs": [],
   "source": []
  }
 ],
 "metadata": {
  "kernelspec": {
   "display_name": "Python 3",
   "language": "python",
   "name": "python3"
  },
  "language_info": {
   "codemirror_mode": {
    "name": "ipython",
    "version": 3
   },
   "file_extension": ".py",
   "mimetype": "text/x-python",
   "name": "python",
   "nbconvert_exporter": "python",
   "pygments_lexer": "ipython3",
   "version": "3.6.5"
  }
 },
 "nbformat": 4,
 "nbformat_minor": 2
}
