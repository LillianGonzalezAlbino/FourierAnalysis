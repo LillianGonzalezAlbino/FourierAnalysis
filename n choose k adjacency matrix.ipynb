{
 "cells": [
  {
   "cell_type": "code",
   "execution_count": 62,
   "metadata": {},
   "outputs": [],
   "source": [
    "import numpy as np\n",
    "import pandas as pd \n",
    "from scipy import special\n",
    "import scipy\n",
    "import scipy.linalg\n",
    "import types\n",
    "import math\n",
    "from itertools import combinations\n",
    "from timeit import default_timer as timer \n",
    "import csv\n",
    "import os\n",
    "import sys\n",
    "import matplotlib.pyplot as plt\n",
    "os.mkdir(\"adj_matrices\")\n"
   ]
  },
  {
   "cell_type": "code",
   "execution_count": 60,
   "metadata": {},
   "outputs": [],
   "source": [
    "def alphabet_choose_k(alphabet, k):\n",
    "    return list(combinations(alphabet, k))\n",
    "\n",
    "def calc_adj_mat(tuple_list):\n",
    "    if isinstance(tuple_list, list)==False:\n",
    "        return(\"Argument is not a list!\")\n",
    "    dim = len(tuple_list)       \n",
    "    Adj = np.zeros((dim,dim))\n",
    "    for i in range(dim):\n",
    "        for j in range(dim):\n",
    "            if len(set(tuple_list[i]).intersection(set(tuple_list[j]))) == len(tuple_list[0])-1:\n",
    "                Adj[i,j] = 1\n",
    "    return Adj"
   ]
  },
  {
   "cell_type": "code",
   "execution_count": 61,
   "metadata": {},
   "outputs": [
    {
     "data": {
      "image/png": "[encoded data removed]",
      "text/plain": [
       "<Figure size 432x288 with 1 Axes>"
      ]
     },
     "metadata": {},
     "output_type": "display_data"
    }
   ],
   "source": [
    "list_times=[]\n",
    "for k in range(1,14):   \n",
    "    tuples = alphabet_choose_k(list(range(0, 26)), k)\n",
    "    start= timer()\n",
    "    Adj= calc_adj_mat(tuples)\n",
    "    end = timer()\n",
    "    AdjDf= pd.DataFrame(Adj)\n",
    "    AdjDf.to_csv(\"adj_matrices/AdjDf26c%d.csv\"%k, header= None, index=False)\n",
    "    times = list_times.append(((26, k), end-start))\n",
    "    print((26, k), end-start))\n",
    "    #fig= plt.imshow(AdjDf)\n",
    "    #plt.savefig(\"adj_matrices/AdjGraph26c%d.png\"%k)\n",
    "timesDf = pd.DataFrame(list_times)\n",
    "timesDf.to_csv(\"adj_matrices/times26c.csv\", header=None, index=False)"
   ]
  },
  {
   "cell_type": "code",
   "execution_count": null,
   "metadata": {},
   "outputs": [],
   "source": []
  },
  {
   "cell_type": "code",
   "execution_count": null,
   "metadata": {},
   "outputs": [],
   "source": []
  }
 ],
 "metadata": {
  "kernelspec": {
   "display_name": "Python 3",
   "language": "python",
   "name": "python3"
  },
  "language_info": {
   "codemirror_mode": {
    "name": "ipython",
    "version": 3
   },
   "file_extension": ".py",
   "mimetype": "text/x-python",
   "name": "python",
   "nbconvert_exporter": "python",
   "pygments_lexer": "ipython3",
   "version": "3.6.5"
  }
 },
 "nbformat": 4,
 "nbformat_minor": 2
}
