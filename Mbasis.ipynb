{
 "cells": [
  {
   "cell_type": "code",
   "execution_count": 4,
   "metadata": {},
   "outputs": [],
   "source": [
    "import numpy as np\n",
    "import pandas as pd \n",
    "import scipy\n",
    "import types\n",
    "from itertools import combinations"
   ]
  },
  {
   "cell_type": "code",
   "execution_count": 5,
   "metadata": {},
   "outputs": [],
   "source": [
    "variables = [\"A\",\"B\",\"C\",\"D\"]"
   ]
  },
  {
   "cell_type": "code",
   "execution_count": 6,
   "metadata": {},
   "outputs": [],
   "source": [
    "def alphabet_choose_k(alphabet, k):\n",
    "    return list(combinations(alphabet, k))"
   ]
  },
  {
   "cell_type": "code",
   "execution_count": 10,
   "metadata": {},
   "outputs": [],
   "source": [
    "def calc_adj_mat(tuple_list):\n",
    "    if isinstance(tuple_list, list)==False:\n",
    "        return(\"Argument is not a list!\")\n",
    "    dim = len(tuple_list)       \n",
    "    Adj = np.zeros((dim,dim))\n",
    "    for i in range(dim):\n",
    "        for j in range(dim): \n",
    "            if len(set(tuple_list[i]).intersection(set(tuple_list[j]))) == len(tuple_list[0])-1:\n",
    "                Adj[i,j] = 1\n",
    "    return Adj"
   ]
  },
  {
   "cell_type": "code",
   "execution_count": 8,
   "metadata": {},
   "outputs": [],
   "source": [
    "def calc_eig_vec_of_adj_matrix(mat):\n",
    "    eig_val, eig_vec = np.linalg.eigh(mat)\n",
    "    return eig_val, eig_vec"
   ]
  },
  {
   "cell_type": "code",
   "execution_count": 41,
   "metadata": {},
   "outputs": [],
   "source": [
    "def group_eig_vecs(e_vals, e_vecs):\n",
    "    distinct_vals = np.unique(e_vals.round(decimals=4))\n",
    "    distinct_vals = np.sort(distinct_vals)\n",
    "    M_basis = []\n",
    "    for val in distinct_vals:\n",
    "        vec_list = []\n",
    "        for i in range(len(e_vals)):\n",
    "            if(val == e_vals[i].round(decimals=4)):\n",
    "                vec_list.append(np.transpose(e_vecs)[i])\n",
    "        M_basis.append(vec_list)\n",
    "    M_basis = np.flipud(M_basis)\n",
    "    return M_basis"
   ]
  },
  {
   "cell_type": "code",
   "execution_count": 42,
   "metadata": {},
   "outputs": [],
   "source": [
    "tups = alphabet_choose_k('ABCDE', 2)\n",
    "A = calc_adj_mat(tups)\n",
    "vals, vecs = calc_eig_vec_of_adj_matrix(A)\n",
    "M = group_eig_vecs(vals, vecs)"
   ]
  },
  {
   "cell_type": "code",
   "execution_count": 47,
   "metadata": {},
   "outputs": [
    {
     "data": {
      "text/plain": [
       "[array([-0.31622777, -0.31622777, -0.31622777, -0.31622777, -0.31622777,\n",
       "        -0.31622777, -0.31622777, -0.31622777, -0.31622777, -0.31622777])]"
      ]
     },
     "execution_count": 47,
     "metadata": {},
     "output_type": "execute_result"
    }
   ],
   "source": [
    "M[0]"
   ]
  },
  {
   "cell_type": "code",
   "execution_count": null,
   "metadata": {},
   "outputs": [],
   "source": []
  }
 ],
 "metadata": {
  "kernelspec": {
   "display_name": "Python 3",
   "language": "python",
   "name": "python3"
  },
  "language_info": {
   "codemirror_mode": {
    "name": "ipython",
    "version": 3
   },
   "file_extension": ".py",
   "mimetype": "text/x-python",
   "name": "python",
   "nbconvert_exporter": "python",
   "pygments_lexer": "ipython3",
   "version": "3.6.5"
  }
 },
 "nbformat": 4,
 "nbformat_minor": 2
}
