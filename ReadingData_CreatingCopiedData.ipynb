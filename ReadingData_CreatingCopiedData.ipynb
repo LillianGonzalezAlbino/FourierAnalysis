{
 "cells": [
  {
   "cell_type": "code",
   "execution_count": 11,
   "metadata": {
    "collapsed": true
   },
   "outputs": [],
   "source": [
    "import numpy as np\n",
    "import matplotlib as mpl\n",
    "import pandas as pd\n",
    "import pylab as plt\n",
    "import csv\n",
    "import os\n",
    "import sys\n",
    "import matplotlib.pyplot as plt"
   ]
  },
  {
   "cell_type": "code",
   "execution_count": 12,
   "metadata": {
    "collapsed": true
   },
   "outputs": [],
   "source": [
    "# make sure to have the gene data within your current working directory\n",
    "gene_dat=pd.read_csv('vcf_FA.csv',index_col='Unnamed: 0',encoding='utf-8')\n",
    "matrix=gene_dat.as_matrix()\n",
    "#print(matrix.shape[0])\n",
    "#matrix[0]"
   ]
  },
  {
   "cell_type": "code",
   "execution_count": 13,
   "metadata": {
    "collapsed": false
   },
   "outputs": [
    {
     "name": "stdout",
     "output_type": "stream",
     "text": [
      "(146, 14)\n"
     ]
    }
   ],
   "source": [
    "gene_mut=np.zeros((matrix.shape[0],int(np.ceil((matrix.shape[1])/2))))\n",
    "print(gene_mut.shape)"
   ]
  },
  {
   "cell_type": "code",
   "execution_count": 14,
   "metadata": {
    "collapsed": true
   },
   "outputs": [],
   "source": [
    "# will go through each row (# of observations)\n",
    "for rows in range(matrix.shape[0]):\n",
    "    for cols in range(0,matrix.shape[1]-1,2):\n",
    "        # within those observations, it will go until the 2nd to last column (excludes phenotype)\n",
    "        #sanity check (next 2 lines)\n",
    "        #print('cols val is:',cols)\n",
    "        #print('matrix values are: ',matrix[rows][cols],matrix[rows][cols+1])\n",
    "        #checks to see if either the L or R gene has a mutation\n",
    "        if(matrix[rows][cols]==1 or matrix[rows][cols+1]==1):\n",
    "            #if it does, then in the copied matrix, a 1 will be input\n",
    "            gene_mut[rows][int(cols/2)]=1\n",
    "            #reason for int(cols/2) is to match up indexes with the pairing # that it's on\n",
    "            #ex: 0&1 gene output val. will be in the 0 index of copied matrix\n",
    "            # 2&3 gene output val. will be in the 1 index, 4*6 in the 2nd index\n",
    "        #sanity check of what is being output\n",
    "        #print('copy matrix val is:',gene_mut[rows][int(cols/2)], 'for row:',rows,'for col:',int(cols/2))"
   ]
  },
  {
   "cell_type": "code",
   "execution_count": 15,
   "metadata": {
    "collapsed": true
   },
   "outputs": [],
   "source": [
    "gene_mut[:,-1]=matrix[:,-1] # gets last column from original matrix, puts it as last column for copied matrix"
   ]
  },
  {
   "cell_type": "code",
   "execution_count": 17,
   "metadata": {
    "collapsed": false
   },
   "outputs": [],
   "source": [
    "#gene_mut"
   ]
  },
  {
   "cell_type": "code",
   "execution_count": 18,
   "metadata": {
    "collapsed": true
   },
   "outputs": [],
   "source": [
    "# getting column names of genes without the L or R\n",
    "names=gene_dat.columns\n",
    "new_colnames=[]\n",
    "for n in range(0,len(names),2):\n",
    "    new_colnames.append(names[n].split(\"-\")[0])\n",
    "#print(new_colnames)"
   ]
  },
  {
   "cell_type": "code",
   "execution_count": 19,
   "metadata": {
    "collapsed": true
   },
   "outputs": [],
   "source": [
    "copied_data=pd.DataFrame(gene_mut,index=gene_dat.index,columns=new_colnames)"
   ]
  },
  {
   "cell_type": "code",
   "execution_count": 21,
   "metadata": {
    "collapsed": false
   },
   "outputs": [],
   "source": [
    "copied_data.to_csv(\"copiedGeneData.csv\")"
   ]
  }
 ],
 "metadata": {
  "kernelspec": {
   "display_name": "Python 3",
   "language": "python",
   "name": "python3"
  },
  "language_info": {
   "codemirror_mode": {
    "name": "ipython",
    "version": 3
   },
   "file_extension": ".py",
   "mimetype": "text/x-python",
   "name": "python",
   "nbconvert_exporter": "python",
   "pygments_lexer": "ipython3",
   "version": "3.6.0"
  }
 },
 "nbformat": 4,
 "nbformat_minor": 2
}
