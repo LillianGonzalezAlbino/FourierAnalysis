{
 "cells": [
  {
   "cell_type": "code",
   "execution_count": 231,
   "metadata": {},
   "outputs": [],
   "source": [
    "import numpy as np\n",
    "import pandas as pd \n",
    "from scipy import special\n",
    "import scipy\n",
    "import scipy.linalg\n",
    "import types\n",
    "from itertools import combinations\n",
    "from timeit import default_timer as timer \n"
   ]
  },
  {
   "cell_type": "code",
   "execution_count": 234,
   "metadata": {},
   "outputs": [],
   "source": [
    "variables=[\"A\",\"B\",\"C\",\"D\",\"E\",\"F\",\"G\",\"H\",\"I\",\"J\",\"K\",\"L\",\"M\",\"N\"]\n",
    "\n",
    "\n",
    "\n",
    "\n"
   ]
  },
  {
   "cell_type": "code",
   "execution_count": 235,
   "metadata": {},
   "outputs": [],
   "source": [
    "def alphabet_choose_k(alphabet, k):\n",
    "    return list(combinations(alphabet, k))\n",
    "\n",
    "def calc_adj_mat(tuple_list):\n",
    "    if isinstance(tuple_list, list)==False:\n",
    "        return(\"Argument is not a list!\")\n",
    "    dim = len(tuple_list)       \n",
    "    M = np.zeros((dim,dim))\n",
    "    for i in range(0, dim):\n",
    "        for j in range(0, dim): \n",
    "            if len(set(tuple_list[i]).intersection(set(tuple_list[j]))) == len(tuple_list[0])-1:\n",
    "                M[i,j] = 1\n",
    "            else: \n",
    "                M[i,j] = 0\n",
    "\n",
    "    return M"
   ]
  },
  {
   "cell_type": "code",
   "execution_count": 251,
   "metadata": {},
   "outputs": [
    {
     "name": "stdout",
     "output_type": "stream",
     "text": [
      "6.290635733050294\n"
     ]
    }
   ],
   "source": [
    "start = timer()\n",
    "Z= calc_adj_mat(alphabet_choose_k(variables, 5))\n",
    "#use n-k instead of n!!! it's about 1 sec faster \n",
    "Z\n",
    "end=timer()\n",
    "print(end - start)"
   ]
  },
  {
   "cell_type": "code",
   "execution_count": 245,
   "metadata": {},
   "outputs": [
    {
     "data": {
      "text/plain": [
       "(array([-6., -6., -6., ..., 34., 34., 48.]),\n",
       " array([[ 0.06845086, -0.        ,  0.        , ..., -0.06577003,\n",
       "          0.        , -0.0182483 ],\n",
       "        [-0.14511364, -0.00527202, -0.01890094, ..., -0.04729051,\n",
       "         -0.0109772 , -0.0182483 ],\n",
       "        [-0.33480792, -0.00262085, -0.00233129, ..., -0.0461424 ,\n",
       "         -0.00567817, -0.0182483 ],\n",
       "        ...,\n",
       "        [ 0.00641686,  0.02382398, -0.00730151, ...,  0.04936047,\n",
       "         -0.02534858, -0.0182483 ],\n",
       "        [ 0.00426212, -0.01986934, -0.01835277, ...,  0.04963291,\n",
       "         -0.01118766, -0.0182483 ],\n",
       "        [ 0.01009149,  0.00843488, -0.00268039, ...,  0.04954539,\n",
       "         -0.00861037, -0.0182483 ]]))"
      ]
     },
     "execution_count": 245,
     "metadata": {},
     "output_type": "execute_result"
    }
   ],
   "source": [
    "#start= timer()\n",
    "R= np.linalg.eigh(Z)\n",
    "R\n",
    "#end = timer()\n",
    "#print(end - start)"
   ]
  },
  {
   "cell_type": "code",
   "execution_count": 60,
   "metadata": {},
   "outputs": [
    {
     "ename": "SyntaxError",
     "evalue": "invalid syntax (<ipython-input-60-a641e7a56bf1>, line 20)",
     "output_type": "error",
     "traceback": [
      "\u001b[0;36m  File \u001b[0;32m\"<ipython-input-60-a641e7a56bf1>\"\u001b[0;36m, line \u001b[0;32m20\u001b[0m\n\u001b[0;31m    if sum(abs((2*(-index_to_set(i,S))-(2*(-index_to_set(j,S)))) == 2:\u001b[0m\n\u001b[0m                                                                     ^\u001b[0m\n\u001b[0;31mSyntaxError\u001b[0m\u001b[0;31m:\u001b[0m invalid syntax\n"
     ]
    }
   ],
   "source": [
    "#David's code\n",
    "\n",
    "\n",
    "\n",
    "function [M] = GenerateJohnson(N);\n",
    "#Generate Johnson takes in a value N and computes the adjacency matrices for the\n",
    "#(N choose k) johnson graphs k = 1...floor(N/2) and returns a cell of the matrices % M.\n",
    "\n",
    "# Author: David Uminsky, Spring 2003\n",
    "K = floor(N/2);\n",
    "M = cell(1, K);\n",
    "#use timeit to time this for loop \n",
    "for i in range(1,K):\n",
    "       M[1,i] = Johnson([N-i,i]);\n",
    "#function [A] = Johnson(S);\n",
    "A = Johnson(S)\n",
    "#Johnson returns the adjacency matrix of the Johnson graph for the particular split % [N,k]. Such as (7,1),(6,2)...\n",
    "\n",
    "#Author: David Uminsky, January 2003\n",
    "N = S(1)+S(2); #the total number elements in the set\n",
    "K= choose(S(2),N); #size of matrix A = sparse(K,K);\n",
    "for i in range(1,K):\n",
    "       for j in range (1,K):\n",
    "        if sum(abs((2*(-index_to_set(i,S))-(2*(-index_to_set(j,S)))) == 2:\n",
    "            print(no) \n",
    "        else\n",
    "             A[i,j] = 0\n",
    "end end\n",
    "end"
   ]
  },
  {
   "cell_type": "code",
   "execution_count": null,
   "metadata": {},
   "outputs": [],
   "source": []
  },
  {
   "cell_type": "code",
   "execution_count": null,
   "metadata": {},
   "outputs": [],
   "source": []
  }
 ],
 "metadata": {
  "kernelspec": {
   "display_name": "Python 3",
   "language": "python",
   "name": "python3"
  },
  "language_info": {
   "codemirror_mode": {
    "name": "ipython",
    "version": 3
   },
   "file_extension": ".py",
   "mimetype": "text/x-python",
   "name": "python",
   "nbconvert_exporter": "python",
   "pygments_lexer": "ipython3",
   "version": "3.6.5"
  }
 },
 "nbformat": 4,
 "nbformat_minor": 2
}
