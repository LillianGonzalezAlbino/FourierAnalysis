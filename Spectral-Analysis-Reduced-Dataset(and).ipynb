{
 "cells": [
  {
   "cell_type": "markdown",
   "metadata": {},
   "source": [
    "# Fourier Analysis for a reduced genomics dataset   \n",
    "Memebers: R. Garza, L. González, S. Nwakanma  \n",
    "We are reducing the dataset when we have both copies of a mutation not just one ore both (instead of an or, its now an and)"
   ]
  },
  {
   "cell_type": "markdown",
   "metadata": {},
   "source": [
    "# Dependancies"
   ]
  },
  {
   "cell_type": "code",
   "execution_count": 1,
   "metadata": {},
   "outputs": [],
   "source": [
    "import numpy as np\n",
    "import pandas as pd \n",
    "from scipy import special\n",
    "import scipy.sparse\n",
    "# import scipy.sparse.linalg\n",
    "import types\n",
    "from itertools import combinations\n",
    "import pylab as plt\n",
    "from timeit import default_timer as timer\n",
    "import matplotlib.pyplot as plt\n",
    "import csv\n",
    "import os\n",
    "import sys\n",
    "from matplotlib.legend import Legend\n",
    "from matplotlib.pyplot import figure\n",
    "from operator import itemgetter, attrgetter"
   ]
  },
  {
   "cell_type": "markdown",
   "metadata": {},
   "source": [
    "#### Directories made"
   ]
  },
  {
   "cell_type": "code",
   "execution_count": 380,
   "metadata": {},
   "outputs": [],
   "source": [
    "#os.mkdir(\"plots-and\")\n",
    "#os.mkdir(\"plots2-and\")\n",
    "# os.mkdir(\"Averaged4Mutations\")\n",
    "# os.mkdir(\"RawMallowVectorf4\")\n",
    "# os.mkdir(\"Presentation\")\n",
    "os.mkdir(\"AveragedAND\")"
   ]
  },
  {
   "cell_type": "markdown",
   "metadata": {},
   "source": [
    "# Dataset (and)"
   ]
  },
  {
   "cell_type": "code",
   "execution_count": 3,
   "metadata": {},
   "outputs": [
    {
     "name": "stderr",
     "output_type": "stream",
     "text": [
      "/usr/local/lib/python3.6/site-packages/ipykernel_launcher.py:2: FutureWarning: Method .as_matrix will be removed in a future version. Use .values instead.\n",
      "  \n"
     ]
    }
   ],
   "source": [
    "gene_dat = pd.read_csv('../vcf_FA.csv',index_col='Unnamed: 0',encoding='utf-8')\n",
    "matrix = gene_dat.as_matrix()\n",
    "gene_mut = np.zeros((matrix.shape[0],int(np.ceil((matrix.shape[1])/2))))"
   ]
  },
  {
   "cell_type": "code",
   "execution_count": 4,
   "metadata": {},
   "outputs": [],
   "source": [
    "# will go through each row (# of observations)\n",
    "for rows in range(matrix.shape[0]):\n",
    "    for cols in range(0,matrix.shape[1]-1,2):\n",
    "        # within those observations, it will go until the \n",
    "        # 2nd to last column (excludes phenotype)\n",
    "        # checks to see if either the L or R gene has a mutation\n",
    "        if(matrix[rows][cols]==1 and matrix[rows][cols+1]==1):\n",
    "            # if it does, then in the copied matrix, \n",
    "            # a 1 will be input\n",
    "            gene_mut[rows][int(cols/2)]=1\n",
    "            #reason for int(cols/2) is to match up \n",
    "            #indexes with the pairing # that it's on\n",
    "            #ex: 0&1 gene output val. will be in the \n",
    "            # 0 index of copied matrix 2&3 gene output \n",
    "            # val. will be in the 1 index, 4*6 in the \n",
    "            # 2nd index"
   ]
  },
  {
   "cell_type": "code",
   "execution_count": 5,
   "metadata": {},
   "outputs": [],
   "source": [
    "# gets last column from original matrix, puts it as last column for copied matrix\n",
    "gene_mut[:,-1]=matrix[:,-1] "
   ]
  },
  {
   "cell_type": "markdown",
   "metadata": {},
   "source": [
    "#### Test"
   ]
  },
  {
   "cell_type": "code",
   "execution_count": 6,
   "metadata": {},
   "outputs": [
    {
     "data": {
      "text/plain": [
       "array([[  1.,   0.,   1., ...,   0.,   0., 196.],\n",
       "       [  1.,   1.,   1., ...,   0.,   0., 173.],\n",
       "       [  1.,   0.,   0., ...,   0.,   0., 198.],\n",
       "       ...,\n",
       "       [  1.,   0.,   1., ...,   0.,   0., 168.],\n",
       "       [  1.,   0.,   0., ...,   0.,   0., 155.],\n",
       "       [  1.,   0.,   1., ...,   0.,   0., 145.]])"
      ]
     },
     "execution_count": 6,
     "metadata": {},
     "output_type": "execute_result"
    }
   ],
   "source": [
    "gene_mut"
   ]
  },
  {
   "cell_type": "markdown",
   "metadata": {},
   "source": [
    "# Data exploration"
   ]
  },
  {
   "cell_type": "code",
   "execution_count": 7,
   "metadata": {},
   "outputs": [],
   "source": [
    "## input: raw copied data as a matrix\n",
    "## output: a list of summation for each observation and the number of mutations\n",
    "def num_gene_mutations(raw_data):\n",
    "    n_ones=[]\n",
    "    # 0 to number of total rows\n",
    "    for row in range(0,(raw_data.shape[0])):\n",
    "        #calculating each person's number of gene mutations, excluding last column with phenotype levels\n",
    "        n_ones.append(sum(raw_data[row,:-1]))\n",
    "    return n_ones\n",
    "\n",
    "## Will need \"num_gene_mutations\" function in order to develop histogram of number of people\n",
    "## for each number of mutations\n",
    "sum_gene_mut = num_gene_mutations(gene_mut)"
   ]
  },
  {
   "cell_type": "code",
   "execution_count": 26,
   "metadata": {},
   "outputs": [
    {
     "data": {
      "image/png": "[encoded data removed]",
      "text/plain": [
       "<Figure size 432x288 with 1 Axes>"
      ]
     },
     "metadata": {},
     "output_type": "display_data"
    }
   ],
   "source": [
    "plt.hist(sum_gene_mut, bins = 15, rwidth = 1)\n",
    "plt.title('Histogram of Total Gene Mutations')\n",
    "plt.xlabel('Number of Gene Mutations')\n",
    "plt.ylabel('Number of People')\n",
    "#plt.savefig(\"plots/FirstOrder_13_5.png\")\n",
    "plt.show()"
   ]
  },
  {
   "cell_type": "markdown",
   "metadata": {},
   "source": [
    "# Spectral Analysis\n",
    "### Helper functions"
   ]
  },
  {
   "cell_type": "code",
   "execution_count": 365,
   "metadata": {},
   "outputs": [],
   "source": [
    "# input: matrix\n",
    "# output: list\n",
    "# Takes in a matrix and returns a list that contains the numbers \n",
    "# of zeros on each line of the matrix correspondingly\n",
    "def num_of_mutations(RDM):\n",
    "    # make copy of data to not alter \n",
    "    tempRDM = np.copy(RDM)\n",
    "    tempRDM = np.delete(tempRDM,-1,1)\n",
    "    # list to count the number of ones\n",
    "    nones = []\n",
    "    nrows = RDM.shape[0]\n",
    "    # for each row, sum the rows and save in list of ones\n",
    "    for row in range(nrows):\n",
    "        nones.append(sum(tempRDM[row,]))\n",
    "    # create list of zeros by subracting the total amount of \n",
    "    # columns by the ones\n",
    "    nzeros = [tempRDM.shape[1]]*(len(nones))\n",
    "    nzeros = [a_i - b_i for a_i, b_i in zip(nzeros, nones)]\n",
    "    # return list of ceros\n",
    "    return nzeros\n",
    "\n",
    "# input: matrix, list\n",
    "# output: list of matrices\n",
    "# Takes in a matrix and divides it into smalles matrices that \n",
    "# have the same amount of zeron in each line\n",
    "def raw_data_partitions(RDM, nzeros):\n",
    "    nrows = RDM.shape[0]\n",
    "    ncols = RDM.shape[1]\n",
    "    # variable to store matrices\n",
    "    fPartitions = []\n",
    "    # get unique values of the amount of zeros \n",
    "    distinct_amounts_zeros = np.unique(nzeros)\n",
    "    distinct_amounts_zeros = np.sort(distinct_amounts_zeros)\n",
    "    # for each amount of zeros\n",
    "    for amount in distinct_amounts_zeros:\n",
    "        list_amount_i = []\n",
    "        # check every row if compatible with amount of zeros\n",
    "        for row in range(nrows):\n",
    "            if(nzeros[row]==amount):\n",
    "                # and store them\n",
    "                list_amount_i.append(RDM[row,])\n",
    "        # to concatenate into a matrix\n",
    "        Matrix_amount_i = np.concatenate(list_amount_i).reshape(len(list_amount_i), ncols)\n",
    "        # and append it to the list of smaller matrices\n",
    "        fPartitions.append((amount, Matrix_amount_i))\n",
    "    # return list of smaller matrices\n",
    "    return fPartitions\n",
    "\n",
    "# input: list of tuples of float and matrix\n",
    "# output: two lists of tuples of float and matrix\n",
    "# Takes in a list of tuples that contain k \n",
    "# and data matrix with k zeros in each row and \n",
    "# separates them into two lists one with majority \n",
    "# zeros the other with minority zeros\n",
    "def MinoritiesMajorities(dataPartition):\n",
    "    Minorities = []\n",
    "    Majorieties = []\n",
    "    nvars = dataPartition[0][1].shape[1] - 1\n",
    "    limit = np.floor(nvars/2)\n",
    "    for elem in range(len(dataPartition)):\n",
    "        k = dataPartition[elem][0]\n",
    "        if (k > limit):\n",
    "            Majorieties.append(dataPartition[elem])\n",
    "        else:\n",
    "            Minorities.append(dataPartition[elem])\n",
    "    return Minorities, Majorieties\n",
    "\n",
    "# input: one dimensional matrix (horizontal)\n",
    "# output: tuple or int\n",
    "# Takes in a row and categorizes the row by the amount of zeros \n",
    "# and returns the corresponding variables to the zeros \n",
    "# e.g. the row [1,0,1,0] with the columns 1234, return (2,4)\n",
    "# e.g. the row [0,1,1,1] with columns 1234 returns 1\n",
    "def categorize_row(row):\n",
    "    # copy row to not alter the data\n",
    "    tempRow = np.copy(row)\n",
    "    tempRow = np.asarray(tempRow)\n",
    "    # length of row without including the last column (which are the results)\n",
    "    length = len(tempRow)-1 # minus hemoglobin\n",
    "    # variable to store the variables corresponding to the zeros\n",
    "    category = []\n",
    "    # check line for zeros\n",
    "    for i in range(length):\n",
    "        if(int(tempRow[i]) == 0):\n",
    "            category.append(i)\n",
    "    # if it is only one zero in the row it returns the int\n",
    "    if(len(category) != 1):\n",
    "        # returns tuple of category\n",
    "        return tuple(category)\n",
    "    else:\n",
    "        return category[0]\n",
    "    \n",
    "# input: tuple of int and matrix\n",
    "# output: array\n",
    "# Takes in a tuple of the number of zeros in the matrix and \n",
    "# the matrix and calculates f^(n, n-#0s)\n",
    "def calc_f(PartitionTuple):\n",
    "    # save all the variables\n",
    "    k = PartitionTuple[0]\n",
    "    data = PartitionTuple[1]\n",
    "    nrows = data.shape[0]\n",
    "    nvars = data.shape[1]-1\n",
    "    # list to append the categories to\n",
    "    rowCategory = []\n",
    "    # for individual values the row categories are calculated\n",
    "    # differently because we dont have to use the function \n",
    "    # combinations for the lexicographical order\n",
    "    if(k == 1):\n",
    "        # counter to know how many hemoglobin we add so we can average them\n",
    "        counter = np.zeros(int(nvars))\n",
    "        f = np.zeros(int(nvars))\n",
    "        lexOrder = list(range(int(nvars)))\n",
    "    else:\n",
    "        # counter to know how many hemoglobin we add so we can average them\n",
    "        counter = np.zeros(int(special.binom(nvars,nvars-int(k))))\n",
    "        f = np.zeros(int(special.binom(nvars,nvars-int(k))))\n",
    "        lexOrder = list(combinations(list(range(nvars)),int(k)))\n",
    "    # for every row in the matrix add a category for each line\n",
    "    # to rowCategory list\n",
    "    for row in range(nrows):\n",
    "        cat = categorize_row(data[row,])\n",
    "        rowCategory.append(cat)\n",
    "    # for every row in the data\n",
    "    for row in range(nrows):\n",
    "        # go through all the orgers\n",
    "        for order in range(len(lexOrder)):\n",
    "            # and check if the categories match\n",
    "            if(rowCategory[row] == lexOrder[order]):\n",
    "                # add one to the counter\n",
    "                counter[order] = counter[order] + 1\n",
    "                # if they do, add the results (hemoglobin) to the data vector\n",
    "                f[order] = f[order] + data[row,-1]    \n",
    "    # divide data vector by the counter to average it\n",
    "    averagef = np.zeros(len(f))\n",
    "    # be sure not to divide by zero\n",
    "    for i in range(len(averagef)):\n",
    "        if(int(counter[i]) == 0):\n",
    "            averagef[i] = f[i]\n",
    "        else:\n",
    "            averagef[i] = f[i]/counter[i]\n",
    "    # return data vector\n",
    "    return averagef, counter\n",
    "\n",
    "# input: tuple of int and matrix\n",
    "# output: list of arrays\n",
    "# Caluclates f^(n, n-k) for all ks and returns them \n",
    "# in a list of data vectors\n",
    "def create_data_vectors(PartitionList):\n",
    "    dataVectors = []\n",
    "    counterVectors = []\n",
    "    for data in range(len(PartitionList)):\n",
    "        datavec, counter = calc_f(PartitionList[data])\n",
    "        dataVectors.append(datavec)\n",
    "        counterVectors.append(counter)\n",
    "    return dataVectors, counterVectors\n",
    "\n",
    "# input: string or list, int\n",
    "# output: list of tuples\n",
    "# This function returns all the combination of the characters in the string \n",
    "# of length k as a list of tuples. It can also take a list as its first \n",
    "# argument and has the same output but treats the elements of the list \n",
    "# like characters in a string. It should be noted that this function\n",
    "# \"renames\" the function combinations of the itertools library\n",
    "# so it is more readable to the user.\n",
    "def alphabet_choose_k(alphabet, k):\n",
    "    return list(combinations(alphabet, int(k)))\n",
    "\n",
    "# input: list of same length tuples\n",
    "# output: matrix\n",
    "# Takes in a tuple list each of the same size k which are all the \n",
    "# combinations of our variables and calculates the adjacency matrix\n",
    "# of its Johnson Graph \n",
    "def calc_adj_mat(tuple_list):\n",
    "    # type check the tuple list\n",
    "    if isinstance(tuple_list, list)==False:\n",
    "        return(\"Argument is not a list!\")\n",
    "    # Create adjacency matrix of size of the amount of tuples in the \n",
    "    # list on both columns and rows\n",
    "    dim = len(tuple_list)  \n",
    "    # SparseAdj = dok_matrix((dim,dim))\n",
    "    Adj = np.zeros((dim,dim))\n",
    "    # Go through the matrix \n",
    "    for i in range(dim):\n",
    "        for j in range(dim):\n",
    "            # if the intersection of the nodes (which are the tuples) \n",
    "            # is equal to their length - 1 then they are connected\n",
    "            # and we put a one in the matrix to represent that connection\n",
    "            if len(set(tuple_list[i]).intersection(set(tuple_list[j]))) == len(tuple_list[0])-1:\n",
    "                # SparseAdj[i,j] = 1\n",
    "                Adj[i,j] = 1\n",
    "    return Adj\n",
    "\n",
    "# input: matrix\n",
    "# output: list of floats, list of arrays\n",
    "# Takes in an adjacency matrix (which is symmetric) and calculates\n",
    "# the eigen values and eigen vectors and returns them as a list of floats\n",
    "# and as a list of arrays respectively. It should be noted that the \n",
    "# eigen values corrspond with the same indexed eigen vectors.\n",
    "# This function \"renames\" the function np.linalg.eigh for the\n",
    "# purpose of making it easier for the user.\n",
    "def calc_eig_vec_of_adj_matrix(mat):\n",
    "    eig_val, eig_vec = np.linalg.eigh(mat)\n",
    "    return eig_val, eig_vec\n",
    "\n",
    "# input: list of floats\n",
    "# output: list of arrays\n",
    "# Since the eigen vectors corresponding to the same M_i in a \n",
    "# given decomposition (n,k) have the same eigen value, this\n",
    "# function (that takes in eigen vectors and eigen values in \n",
    "# order of correspondance) concatenates (as matrices) eigen \n",
    "# vectors that correspond to the same M_i and returns these \n",
    "# as a list of matricies that are the basis for the M_i's\n",
    "# in ascending order (i.e. [M_0, M_1,...,M_k])\n",
    "def group_eig_vecs(e_vals, e_vecs):\n",
    "    # gather the distinct eigen values and sort them\n",
    "    distinct_vals = np.unique(e_vals.round(decimals=4))\n",
    "    distinct_vals = np.sort(distinct_vals)\n",
    "    # create empty list where we will store the basis\n",
    "    M_basis = []\n",
    "    # for every distinct eigen value we will go through the \n",
    "    # list of eigen values and if they are equal we will add the\n",
    "    # corresponding eigen vector to a list \n",
    "    for val in distinct_vals:\n",
    "        # list for storing eigen vectors that correspond to \n",
    "        # the same M_i\n",
    "        vec_list = []\n",
    "        for i in range(len(e_vals)):\n",
    "            if(val == e_vals[i].round(decimals=4)):\n",
    "                vec_list.append(np.transpose(e_vecs)[i])\n",
    "        # transform list of arrays into matrix to append to M basis list\n",
    "        vec_list = np.array(vec_list).reshape(len(vec_list), len(vec_list[0]))\n",
    "        M_basis.append(vec_list)\n",
    "    # return M basis\n",
    "    M_basis = np.flipud(M_basis)\n",
    "    return M_basis\n",
    "\n",
    "# input: array, list of matrices\n",
    "# output: list of arrays\n",
    "# This functions calculates the projection of the data vector \n",
    "# f onto each of the M_i basis (in the form of a matrix)\n",
    "def proj_f_onto_M(f, M_basis):\n",
    "    # emptylist to store the f_is as we calculate them \n",
    "    f_is = []\n",
    "    # for every element of the list of M basis we will \n",
    "    # calculate f_i and append it to the list\n",
    "    for i in range(len(M_basis)):\n",
    "        f_is.append(proj_onto_M_i(f, M_basis[i]))\n",
    "    # return list of f_i's\n",
    "    return f_is\n",
    "\n",
    "# input: array, matrix\n",
    "# output: array\n",
    "# This function takes in a data vector and a basis for M_i and \n",
    "# projects f onto that basis to calculate f_i\n",
    "def proj_onto_M_i(f, M_i):\n",
    "    # get the dimensions of M_i\n",
    "    nrow = M_i.shape[0]\n",
    "    ncol = M_i.shape[1]\n",
    "    # create a zero vector to add the projections calculated by\n",
    "    # components in the eigen vectors \n",
    "    f_i = np.zeros(ncol)\n",
    "    # for each row of the basis (recall we saved the eigen vectors\n",
    "    # as lines) we calculare the projections\n",
    "    for j in range(nrow):\n",
    "        # temporarily reshape the row to transform it from an array\n",
    "        # to a one dimentional matrix (vertical)\n",
    "        tmp = np.copy(M_i[j])\n",
    "        tmp = tmp.reshape(len(M_i[j]),1)\n",
    "        # add the new projection to f_i\n",
    "        f_i = f_i + project(f, tmp)\n",
    "    # return f_i\n",
    "    return f_i\n",
    "    \n",
    "# input: one dimentional matrix, array\n",
    "# output: one dimentional matrix\n",
    "# This funtion calculates the projection of f onto b\n",
    "def project(f, v):\n",
    "    # reshape v to be a one dimentional matrix compatible \n",
    "    # for dot (or inner) product (horizontal)\n",
    "    v = v.reshape(1,len(v))\n",
    "    # calculate projection and return it\n",
    "    result = (np.dot(v,f)/np.dot(v,np.transpose(v)))*v\n",
    "    return result\n",
    "\n",
    "# input: list (of ints or strings) or string, list, tuple\n",
    "# output: list of arrays\n",
    "# Takes in a list of data vectos given a partition (n,k)\n",
    "# k being the amount of zeros in a row, implements Mallow's\n",
    "# method and returns a list of data vectors as arrays\n",
    "def Mallows_list(alphabet, f_iList, partition):\n",
    "    # partition = (n,k)\n",
    "    k = partition[1]\n",
    "    # first data vector f_0 does nor change \n",
    "    # so we append it intact\n",
    "    MallowsList = [np.concatenate(f_iList[0])]\n",
    "    # for every data vecto f_i, 0<i<k-1, implement \n",
    "    # Mallows method\n",
    "    for f_iIndex in range(1,k):\n",
    "        MallowsList.append(calc_Mallow(alphabet, f_iList[f_iIndex], f_iIndex, k))\n",
    "    # last data vecto f_k does not change so we append it\n",
    "    # without changes\n",
    "    MallowsList.append(np.concatenate(f_iList[-1]))\n",
    "    # return mallows list\n",
    "    return MallowsList\n",
    "\n",
    "# input: list (of ints or strings) or string, array, int\n",
    "# output: array\n",
    "# Takes in a data vector f_i and returns Mallow's f_i\n",
    "def calc_Mallow(alphabet, f_i, i, k):\n",
    "    # variables\n",
    "    rows = list(combinations(alphabet, i))\n",
    "    cols = list(combinations(alphabet, k))\n",
    "    # zero array for storing values\n",
    "    Mallow_f_i = np.zeros(len(rows))\n",
    "    # T matrix just sums the values of the data vector \n",
    "    # where the values of (n choose i) (rows) is a subset\n",
    "    # of the partition (n choose k) (columns)\n",
    "    for iElem in range(len(rows)):\n",
    "        for kElem in range(len(cols)):\n",
    "            if(set(rows[iElem]).issubset(set(cols[kElem]))):\n",
    "                # add elements of the data vector to \n",
    "                # Mallows data vector\n",
    "                Mallow_f_i[iElem] = Mallow_f_i[iElem] + f_i[0,kElem]\n",
    "    # return Maloow's data vector\n",
    "    return Mallow_f_i"
   ]
  },
  {
   "cell_type": "markdown",
   "metadata": {},
   "source": [
    "## Main function  \n",
    "### Zeros in the minority"
   ]
  },
  {
   "cell_type": "code",
   "execution_count": 10,
   "metadata": {},
   "outputs": [],
   "source": [
    "# store raw data as a copy\n",
    "Raw_Data = np.copy(gene_mut)\n",
    "\n",
    "# count number of zeros on each row\n",
    "num_zeros = num_of_mutations(Raw_Data)\n",
    "\n",
    "# count the numebr of variables\n",
    "num_vars = Raw_Data.shape[1]-1\n",
    "\n",
    "# partition data by amount of zeros (list of matrices)\n",
    "Sub_Data = raw_data_partitions(Raw_Data, num_zeros)\n",
    "\n",
    "# capture just the data where 0 is in the minority\n",
    "Min_Sub_Data, Maj_Sub_Data = MinoritiesMajorities(Sub_Data)\n",
    "\n",
    "# create list of data vectors (data vector partitioned)\n",
    "# i.e. data vector contains individuals, pairs, triples, etc\n",
    "# we will partition the data vector into a list of arrays\n",
    "# containing individual data vector, pairs data vector, etc\n",
    "data_vectors_f, counter_vectors = create_data_vectors(Min_Sub_Data)\n",
    "\n",
    "# save the k that are in the minorities\n",
    "zero_minorities = []\n",
    "for i in range(len(Min_Sub_Data)):\n",
    "    zero_minorities.append(Min_Sub_Data[i][0])\n",
    "    \n",
    "# create list to contain Mallow Vectors and \n",
    "# their corresponding n-k amount of mutations\n",
    "AllMallowVectors = []\n",
    "\n",
    "# for every partition (n,k) data vector we want to calculate\n",
    "# the decomposition: f = f_0 + f_1 + ... + f_k\n",
    "for kindex in range(len(zero_minorities)):\n",
    "    \n",
    "    # partition data vector\n",
    "    f = data_vectors_f[kindex]\n",
    "    k = zero_minorities[kindex]\n",
    "    \n",
    "    # create tuples for k pairings\n",
    "    variable_tuples = alphabet_choose_k(list(range(num_vars)), k)\n",
    "    \n",
    "    # calculate adjacency matrix and its eigen values \n",
    "    Adjacency = calc_adj_mat(variable_tuples)\n",
    "    \n",
    "    # calculate eigenvalues and eigenvectors of Adjacency Matrix\n",
    "    eig_vals, eig_vecs = calc_eig_vec_of_adj_matrix(Adjacency)\n",
    "    \n",
    "    # create M basis to project data vector onto\n",
    "    M_basis = group_eig_vecs(eig_vals, eig_vecs)\n",
    "    \n",
    "    # capture correct data vector to project\n",
    "    f = data_vectors_f[kindex].reshape(len(data_vectors_f[kindex]),1)\n",
    "    \n",
    "    # project f onto M basis\n",
    "    f_list = proj_f_onto_M(f, M_basis)\n",
    "    \n",
    "    # Use Mallows method to transform f_is into interpretable vectors\n",
    "    MalList = Mallows_list(list(range(num_vars)), f_list, (num_vars,int(k)))\n",
    "    \n",
    "    # Append to list of all Mallow data vectors\n",
    "    AllMallowVectors.append( (num_vars-k,MalList) )"
   ]
  },
  {
   "cell_type": "code",
   "execution_count": 27,
   "metadata": {},
   "outputs": [
    {
     "name": "stdout",
     "output_type": "stream",
     "text": [
      "8.0\n",
      "7.0\n"
     ]
    }
   ],
   "source": [
    "for i in range(len(AllMallowVectors)):\n",
    "    print(AllMallowVectors[i][0])"
   ]
  },
  {
   "cell_type": "markdown",
   "metadata": {},
   "source": [
    "#### Examples for how to use this variable"
   ]
  },
  {
   "cell_type": "code",
   "execution_count": 28,
   "metadata": {},
   "outputs": [
    {
     "data": {
      "text/plain": [
       "array([0.22066822, 0.22066822, 0.22066822, ..., 0.22066822, 0.22066822,\n",
       "       0.22066822])"
      ]
     },
     "execution_count": 28,
     "metadata": {},
     "output_type": "execute_result"
    }
   ],
   "source": [
    "# [i][j][k]\n",
    "# i: the mutation (0 is 8, 1 is 7)\n",
    "# j: 0 gives the mutation i, 1 gives the actual values for groupings of i mutations\n",
    "# k: f_k from groupings of i mutations\n",
    "AllMallowVectors[0][1][0]"
   ]
  },
  {
   "cell_type": "markdown",
   "metadata": {},
   "source": [
    "### Ones in the minorities  \n",
    "We currently have saved all Mallow vectors for when zero is in the minority (i.e. when we have 10,9,8,7 mutations). Now we need to analyze when zeros are in the majority (i.e. when we have 5 and 6 mutations).\n",
    "\n",
    "An option is to just flip all the data set, but it would be more costly computation wise, so we can flip the matrices in the list $Maj\\_Sub\\_Data$ and run the same calculations there. "
   ]
  },
  {
   "cell_type": "code",
   "execution_count": 29,
   "metadata": {},
   "outputs": [],
   "source": [
    "# input: list of tuples of length two (float, matrix)\n",
    "# output: list of tuples of length two (float, matrix)\n",
    "# This function takes in a list of tuples where the \n",
    "# first value is the amount of zeros on each row (denoted k) of the \n",
    "# matrix (second value of tuple) and it flips the matricies\n",
    "# i.e. changes all the 1's to 0's and vice versa\n",
    "# it also changes the k to the total amount of variables \n",
    "# (denoted n) minus k (so it does keep count of the amount of zeros)\n",
    "def flipMajorities(Majority_Data):\n",
    "    New_Minorities = []\n",
    "    for tupIndex in range(len(Majority_Data)):\n",
    "        k = Majority_Data[tupIndex][0]\n",
    "        data = Majority_Data[tupIndex][1]\n",
    "        ncols = data.shape[1]-1\n",
    "        nrows = data.shape[0]\n",
    "        newMatrix = np.zeros((nrows, ncols+1))\n",
    "        for i in range(nrows):\n",
    "            for j in range(ncols):\n",
    "                if(int(data[i,j]) == 1):\n",
    "                    newMatrix[i,j] = 0\n",
    "                elif(int(data[i,j]) == 0):\n",
    "                    newMatrix[i,j] = 1\n",
    "        # copy hemoglobin as is\n",
    "        for h in range(nrows):\n",
    "            newMatrix[h, -1] = data[h, -1]\n",
    "        New_Minorities.append( (ncols-k, newMatrix) )\n",
    "    return New_Minorities"
   ]
  },
  {
   "cell_type": "code",
   "execution_count": 30,
   "metadata": {},
   "outputs": [],
   "source": [
    "New_Min_Data = flipMajorities(Maj_Sub_Data)"
   ]
  },
  {
   "cell_type": "code",
   "execution_count": 31,
   "metadata": {},
   "outputs": [],
   "source": [
    "# create list of data vectors (data vector partitioned)\n",
    "# i.e. data vector contains individuals, pairs, triples, etc\n",
    "# we will partition the data vector into a list of arrays\n",
    "# containing individual data vector, pairs data vector, etc\n",
    "data_vectors_f2, counter_vectors2 = create_data_vectors(New_Min_Data)\n",
    "\n",
    "# save the k that are in the minorities\n",
    "zero_minorities2 = []\n",
    "for i in range(len(New_Min_Data)):\n",
    "    zero_minorities2.append(New_Min_Data[i][0])\n",
    "    \n",
    "# create list to contain Mallow Vectors and \n",
    "# their corresponding n-k amount of mutations\n",
    "AllMallowVectors2 = []\n",
    "\n",
    "# for every partition (n,k) data vector we want to calculate\n",
    "# the decomposition: f = f_0 + f_1 + ... + f_k\n",
    "for kindex2 in range(len(zero_minorities2)):\n",
    "    \n",
    "    # partitioned data vector\n",
    "    f2 = data_vectors_f2[kindex2]\n",
    "    k2 = zero_minorities2[kindex2]\n",
    "    \n",
    "    # create tuples for k pairings\n",
    "    variable_tuples = alphabet_choose_k(list(range(num_vars)), k2)\n",
    "    \n",
    "    # calculate adjacency matrix and its eigen values \n",
    "    Adjacency = calc_adj_mat(variable_tuples)\n",
    "    \n",
    "    # calculate eigenvalues and eigenvectors of Adjacency Matrix\n",
    "    eig_vals, eig_vecs = calc_eig_vec_of_adj_matrix(Adjacency)\n",
    "    \n",
    "    # create M basis to project data vector onto\n",
    "    M_basis = group_eig_vecs(eig_vals, eig_vecs)\n",
    "    \n",
    "    # capture correct data vector to project (wait what)\n",
    "    f = data_vectors_f2[kindex2].reshape(len(data_vectors_f2[kindex2]),1)\n",
    "    \n",
    "    # project f onto M basis\n",
    "    f_list = proj_f_onto_M(f, M_basis)\n",
    "    \n",
    "    # Use Mallows method to transform f_is into interpretable vectors\n",
    "    MalList = Mallows_list(list(range(num_vars)), f_list, (num_vars,int(k2)))\n",
    "    \n",
    "    # Append to list of all Mallow data vectors\n",
    "    AllMallowVectors2.append( (k2,MalList) )"
   ]
  },
  {
   "cell_type": "code",
   "execution_count": 32,
   "metadata": {},
   "outputs": [
    {
     "data": {
      "text/plain": [
       "array([3.63455063, 3.63455063, 3.63455063, ..., 3.63455063, 3.63455063,\n",
       "       3.63455063])"
      ]
     },
     "execution_count": 32,
     "metadata": {},
     "output_type": "execute_result"
    }
   ],
   "source": [
    "#[i][j][k]\n",
    "# i is the mutation (0 is 6, 1 is 5,..., 5 is 1)\n",
    "# j is ither 1 or 0, 0 displays i and 1 displays the Mallos vectors for f^(13,i)\n",
    "# k is the Mallow vector f_k \n",
    "AllMallowVectors2[1][1][0]"
   ]
  },
  {
   "cell_type": "code",
   "execution_count": 33,
   "metadata": {},
   "outputs": [
    {
     "name": "stdout",
     "output_type": "stream",
     "text": [
      "6.0\n",
      "5.0\n",
      "4.0\n",
      "3.0\n",
      "2.0\n",
      "1.0\n"
     ]
    }
   ],
   "source": [
    "for i in range(len(AllMallowVectors2)):\n",
    "    print(AllMallowVectors2[i][0])"
   ]
  },
  {
   "cell_type": "markdown",
   "metadata": {},
   "source": [
    "#### Examples for how to use this variable"
   ]
  },
  {
   "cell_type": "code",
   "execution_count": 34,
   "metadata": {},
   "outputs": [
    {
     "data": {
      "text/plain": [
       "array([3.63455063, 3.63455063, 3.63455063, ..., 3.63455063, 3.63455063,\n",
       "       3.63455063])"
      ]
     },
     "execution_count": 34,
     "metadata": {},
     "output_type": "execute_result"
    }
   ],
   "source": [
    "# [i][j][k]\n",
    "# i: mutation (0 is 6, 1 is 5, ..., 5 is 1)\n",
    "# j: 0 is mutation i, 1 is the mallow vectors for mutation i\n",
    "# k: f_k of groupings of i mutations\n",
    "AllMallowVectors2[1][1][0]"
   ]
  },
  {
   "cell_type": "markdown",
   "metadata": {},
   "source": [
    "# Save all the plots for main function"
   ]
  },
  {
   "cell_type": "code",
   "execution_count": 35,
   "metadata": {},
   "outputs": [],
   "source": [
    "# for nmut in range(len(AllMallowVectors2)-1,-1,-1):\n",
    "#     k = AllMallowVectors2[nmut][0]\n",
    "#     MallowList = AllMallowVectors2[nmut][1]\n",
    "#     for order in range(1,len(MallowList)):\n",
    "#         y_axis = np.arange(len(MallowList[order]))\n",
    "#         plt.bar(y_axis, MallowList[order], align='center')\n",
    "#         plt.title('%d rd order effects within groupings of %d mutations'%(order, k))\n",
    "#         plt.ylim((min(MallowList[order])-50),(max(MallowList[order])+50))\n",
    "#         plt.savefig(\"plots-and/%d_order_13_%d.png\"%(order,k))\n",
    "#         plt.show()"
   ]
  },
  {
   "cell_type": "code",
   "execution_count": 36,
   "metadata": {},
   "outputs": [],
   "source": [
    "# for nmut in range(len(AllMallowVectors)):\n",
    "#     k = AllMallowVectors[nmut][0]\n",
    "#     MallowList = AllMallowVectors[nmut][1]\n",
    "#     for order in range(1,len(MallowList)):\n",
    "#         y_axis = np.arange(len(MallowList[order]))\n",
    "#         plt.bar(y_axis, MallowList[order], align='center')\n",
    "#         plt.title('%d rd order effects within groupings of %d mutations'%(order, k))\n",
    "#         plt.ylim((min(MallowList[order])-50),(max(MallowList[order])+50))\n",
    "#         plt.savefig(\"plots2-and/%d_order_13_%d.png\"%(order,k))\n",
    "#         plt.show()"
   ]
  },
  {
   "cell_type": "markdown",
   "metadata": {},
   "source": [
    "# Data vector for $f^{(13,1)}$ with average instead of zeros"
   ]
  },
  {
   "cell_type": "code",
   "execution_count": 216,
   "metadata": {},
   "outputs": [],
   "source": [
    "F1 = data_vectors_f2[5]\n",
    "counter = 0\n",
    "for i in range(len(F1)):\n",
    "    if(int(F1[i]) != 0):\n",
    "        counter += 1\n",
    "Average = sum(F1)/counter\n",
    "\n",
    "F1_Average = np.zeros(len(F1))\n",
    "for i in range(len(F1_Average)):\n",
    "    if(int(F1[i]) == 0):\n",
    "        F1_Average[i] = Average\n",
    "    else:\n",
    "        F1_Average[i] = F1[i]\n",
    "        \n",
    "#Apply Mallow's Method to datavector\n",
    "# partitioned data vector\n",
    "# f = F1_Average\n",
    "k = 1.0\n",
    "    \n",
    "# create tuples for k pairings\n",
    "variable_tuples = alphabet_choose_k(list(range(num_vars)), k)\n",
    "    \n",
    "# calculate adjacency matrix and its eigen values \n",
    "Adjacency = calc_adj_mat(variable_tuples)\n",
    "    \n",
    "# calculate eigenvalues and eigenvectors of Adjacency Matrix\n",
    "eig_vals, eig_vecs = calc_eig_vec_of_adj_matrix(Adjacency)\n",
    "    \n",
    "# create M basis to project data vector onto\n",
    "M_basis = group_eig_vecs(eig_vals, eig_vecs)\n",
    "    \n",
    "# reshape data vector\n",
    "f_1 = F1_Average.reshape(len(F1_Average),1)\n",
    "    \n",
    "# project f onto M basis\n",
    "f1_list = proj_f_onto_M(f_1, M_basis)\n",
    "# print(f_list)\n",
    "\n",
    "# Use Mallows method to transform f_is into interpretable vectors\n",
    "MalListf1 = Mallows_list(list(range(num_vars)), f1_list, (num_vars,int(k)))"
   ]
  },
  {
   "cell_type": "markdown",
   "metadata": {},
   "source": [
    "#### Plotting and saving the graph of $f^{(13,1)}_1$  "
   ]
  },
  {
   "cell_type": "code",
   "execution_count": 219,
   "metadata": {},
   "outputs": [
    {
     "data": {
      "image/png": "[encoded data removed]",
      "text/plain": [
       "<Figure size 432x288 with 1 Axes>"
      ]
     },
     "metadata": {},
     "output_type": "display_data"
    }
   ],
   "source": [
    "# # plot f^2_1, f^2_2\n",
    "# order range from 1 to 2\n",
    "color_peaks(MalListf1[1], order = 1, k = 1, n_max_peak = 3, n_min_peak = 1)"
   ]
  },
  {
   "cell_type": "markdown",
   "metadata": {},
   "source": [
    "#### Fucntions for accesing spcefic values in the averaged $f^1_1$"
   ]
  },
  {
   "cell_type": "code",
   "execution_count": 222,
   "metadata": {},
   "outputs": [],
   "source": [
    "# match values with ids\n",
    "IDMalListf1 = []\n",
    "for order in range(1,len(MalListf1)):\n",
    "    fi = MalListf1[order]\n",
    "    newfi = []\n",
    "    lexOrder = alphabet_choose_k(list(range(13)), order)\n",
    "    for i in range(len(fi)):\n",
    "        newfi.append( (lexOrder[i], fi[i]) )\n",
    "    IDMalListf1.append(newfi)"
   ]
  },
  {
   "cell_type": "code",
   "execution_count": 223,
   "metadata": {},
   "outputs": [
    {
     "data": {
      "text/plain": [
       "[((7,), 28.874999999999993),\n",
       " ((0,), 15.87500000000006),\n",
       " ((2,), 7.375000000000005),\n",
       " ((9,), 4.8627768478581856e-14),\n",
       " ((11,), 4.796163466380676e-14),\n",
       " ((4,), 3.5915714846623814e-14),\n",
       " ((12,), 1.0658141036401503e-14),\n",
       " ((10,), -1.8984813721090177e-14),\n",
       " ((6,), -2.7033930649622562e-14),\n",
       " ((5,), -2.8602120671905595e-14),\n",
       " ((8,), -5.4012350148013866e-14),\n",
       " ((1,), -9.992007221626409e-14),\n",
       " ((3,), -52.12499999999997)]"
      ]
     },
     "execution_count": 223,
     "metadata": {},
     "output_type": "execute_result"
    }
   ],
   "source": [
    "# [i] is the order-1 [e.g. 0 is first order]\n",
    "sorted(IDMalListf1[0], key = itemgetter(1), reverse = True)"
   ]
  },
  {
   "cell_type": "code",
   "execution_count": 226,
   "metadata": {},
   "outputs": [
    {
     "data": {
      "text/plain": [
       "[0, 2, 3, 7]"
      ]
     },
     "execution_count": 226,
     "metadata": {},
     "output_type": "execute_result"
    }
   ],
   "source": [
    "combinations_mutations[7][1]"
   ]
  },
  {
   "cell_type": "markdown",
   "metadata": {},
   "source": [
    "# Data vector for $f^{(13,2)}$ with average instead of zeros"
   ]
  },
  {
   "cell_type": "code",
   "execution_count": 188,
   "metadata": {},
   "outputs": [],
   "source": [
    "F2 = data_vectors_f2[4]\n",
    "counter = 0\n",
    "for i in range(len(F2)):\n",
    "    if(int(F2[i]) != 0):\n",
    "        counter += 1\n",
    "Average = sum(F2)/counter\n",
    "\n",
    "F2_Average = np.zeros(len(F2))\n",
    "for i in range(len(F2_Average)):\n",
    "    if(int(F2[i]) == 0):\n",
    "        F2_Average[i] = Average\n",
    "    else:\n",
    "        F2_Average[i] = F2[i]\n",
    "        \n",
    "#Apply Mallow's Method to datavector\n",
    "# partitioned data vector\n",
    "# f = F2_Average\n",
    "k = 2.0\n",
    "    \n",
    "# create tuples for k pairings\n",
    "variable_tuples = alphabet_choose_k(list(range(num_vars)), k)\n",
    "    \n",
    "# calculate adjacency matrix and its eigen values \n",
    "Adjacency = calc_adj_mat(variable_tuples)\n",
    "    \n",
    "# calculate eigenvalues and eigenvectors of Adjacency Matrix\n",
    "eig_vals, eig_vecs = calc_eig_vec_of_adj_matrix(Adjacency)\n",
    "    \n",
    "# create M basis to project data vector onto\n",
    "M_basis = group_eig_vecs(eig_vals, eig_vecs)\n",
    "    \n",
    "# reshape data vector\n",
    "f_2 = F2_Average.reshape(len(F2_Average),1)\n",
    "    \n",
    "# project f onto M basis\n",
    "f2_list = proj_f_onto_M(f_2, M_basis)\n",
    "# print(f_list)\n",
    "\n",
    "# Use Mallows method to transform f_is into interpretable vectors\n",
    "MalListf2 = Mallows_list(list(range(num_vars)), f2_list, (num_vars,int(k)))"
   ]
  },
  {
   "cell_type": "markdown",
   "metadata": {},
   "source": [
    "#### Plotting and saving the graphs of $f^{(13,2)}_i$ where $i = 1,2$  "
   ]
  },
  {
   "cell_type": "code",
   "execution_count": 220,
   "metadata": {},
   "outputs": [
    {
     "data": {
      "image/png": "[encoded data removed]",
      "text/plain": [
       "<Figure size 432x288 with 1 Axes>"
      ]
     },
     "metadata": {},
     "output_type": "display_data"
    }
   ],
   "source": [
    "# # plot f^2_1, f^2_2\n",
    "# order range from 1 to 2\n",
    "color_peaks(MalListf2[2], order = 2, k = 2, n_max_peak = 5, n_min_peak = 3)"
   ]
  },
  {
   "cell_type": "markdown",
   "metadata": {},
   "source": [
    "#### Fucntions for accesing spcefic values in the averaged $f^2_i$ where $i=1,2$"
   ]
  },
  {
   "cell_type": "code",
   "execution_count": 191,
   "metadata": {},
   "outputs": [],
   "source": [
    "# match values with ids\n",
    "IDMalListf2 = []\n",
    "for order in range(1,len(MalListf2)):\n",
    "    fi = MalListf2[order]\n",
    "    newfi = []\n",
    "    lexOrder = alphabet_choose_k(list(range(13)), order)\n",
    "    for i in range(len(fi)):\n",
    "        newfi.append( (lexOrder[i], fi[i]) )\n",
    "    IDMalListf2.append(newfi)"
   ]
  },
  {
   "cell_type": "code",
   "execution_count": 199,
   "metadata": {},
   "outputs": [
    {
     "data": {
      "text/plain": [
       "[((0, 9), 29.741735537190063),\n",
       " ((2, 9), 26.73415977961414),\n",
       " ((0, 7), 26.00137741046828),\n",
       " ((2, 5), 20.79269972451797),\n",
       " ((1, 7), 15.63705234159793)]"
      ]
     },
     "execution_count": 199,
     "metadata": {},
     "output_type": "execute_result"
    }
   ],
   "source": [
    "# [i] is the order-1 [e.g. 0 is first order]\n",
    "sorted(IDMalListf2[1], key = itemgetter(1), reverse = True)[:5]"
   ]
  },
  {
   "cell_type": "code",
   "execution_count": 193,
   "metadata": {},
   "outputs": [],
   "source": [
    "k = 2\n",
    "combs = combinations_mutations[6][1]\n",
    "real_f2s = []\n",
    "for fi in range(1, len(MalListf2)):\n",
    "    f = MalListf2[fi]\n",
    "    newf = []\n",
    "    lexOrder = alphabet_choose_k(list(range(13)), fi)\n",
    "    for lex in range(len(lexOrder)):\n",
    "        if(isin_data(lexOrder[lex], combs)):\n",
    "            newf.append( (lexOrder[lex], f[lex]) )\n",
    "    real_f2s.append(newf)"
   ]
  },
  {
   "cell_type": "code",
   "execution_count": 202,
   "metadata": {},
   "outputs": [
    {
     "data": {
      "text/plain": [
       "[((2, 7), -58.50619834710743),\n",
       " ((0, 4), -45.95730027548219),\n",
       " ((0, 2), -13.29752066115661),\n",
       " ((0, 6), 0.24173553718988383),\n",
       " ((3, 6), 1.7052341597796505),\n",
       " ((2, 3), 6.91597796143245)]"
      ]
     },
     "execution_count": 202,
     "metadata": {},
     "output_type": "execute_result"
    }
   ],
   "source": [
    "# real values in f^2\n",
    "# [i]\n",
    "# i is the order-1 [e.g. 0 is first order]\n",
    "# real_f2s[0]\n",
    "\n",
    "# sorted real values in f^2\n",
    "# [i]\n",
    "# i is the order-1 [e.g. 0 is first order]\n",
    "sorted(real_f2s[1], key = itemgetter(1), reverse = False)[:6]"
   ]
  },
  {
   "cell_type": "markdown",
   "metadata": {},
   "source": [
    "# Data vector for $f^{(13,3)}$ with average instead of zeros"
   ]
  },
  {
   "cell_type": "code",
   "execution_count": 147,
   "metadata": {},
   "outputs": [],
   "source": [
    "F3 = data_vectors_f2[3]\n",
    "counter = 0\n",
    "for i in range(len(F3)):\n",
    "    if(int(F3[i]) != 0):\n",
    "        counter += 1\n",
    "Average = sum(F3)/counter\n",
    "\n",
    "F3_Average = np.zeros(len(F3))\n",
    "for i in range(len(F3_Average)):\n",
    "    if(int(F3[i]) == 0):\n",
    "        F3_Average[i] = Average\n",
    "    else:\n",
    "        F3_Average[i] = F3[i]\n",
    "        \n",
    "#Apply Mallow's Method to datavector\n",
    "# partitioned data vector\n",
    "# f = F3_Average\n",
    "k = 3.0\n",
    "    \n",
    "# create tuples for k pairings\n",
    "variable_tuples = alphabet_choose_k(list(range(num_vars)), k)\n",
    "    \n",
    "# calculate adjacency matrix and its eigen values \n",
    "Adjacency = calc_adj_mat(variable_tuples)\n",
    "    \n",
    "# calculate eigenvalues and eigenvectors of Adjacency Matrix\n",
    "eig_vals, eig_vecs = calc_eig_vec_of_adj_matrix(Adjacency)\n",
    "    \n",
    "# create M basis to project data vector onto\n",
    "M_basis = group_eig_vecs(eig_vals, eig_vecs)\n",
    "    \n",
    "# reshape data vector\n",
    "f_3 = F3_Average.reshape(len(F3_Average),1)\n",
    "    \n",
    "# project f onto M basis\n",
    "f3_list = proj_f_onto_M(f_3, M_basis)\n",
    "# print(f_list)\n",
    "\n",
    "# Use Mallows method to transform f_is into interpretable vectors\n",
    "MalListf3 = Mallows_list(list(range(num_vars)), f3_list, (num_vars,int(k)))"
   ]
  },
  {
   "cell_type": "markdown",
   "metadata": {},
   "source": [
    "#### Plotting and saving the graphs of $f^{(13,3)}_i$ where $i = 1,2,3$  "
   ]
  },
  {
   "cell_type": "code",
   "execution_count": 221,
   "metadata": {},
   "outputs": [
    {
     "data": {
      "image/png": "[encoded data removed]",
      "text/plain": [
       "<Figure size 432x288 with 1 Axes>"
      ]
     },
     "metadata": {},
     "output_type": "display_data"
    }
   ],
   "source": [
    "# # plot f^3_1, f^3_2, f^3_3\n",
    "# order range from 1 to 4\n",
    "color_peaks(MalListf3[3], order = 3, k = 3, n_max_peak = 4, n_min_peak = 5)"
   ]
  },
  {
   "cell_type": "markdown",
   "metadata": {},
   "source": [
    "#### Fucntions for accesing spcefic values in the averaged $f^3_i$ where $i=1,2,3$"
   ]
  },
  {
   "cell_type": "code",
   "execution_count": 149,
   "metadata": {},
   "outputs": [],
   "source": [
    "# match values with ids\n",
    "IDMalListf3 = []\n",
    "for order in range(1,len(MalListf3)):\n",
    "    fi = MalListf3[order]\n",
    "    newfi = []\n",
    "    lexOrder = alphabet_choose_k(list(range(13)), order)\n",
    "    for i in range(len(fi)):\n",
    "        newfi.append( (lexOrder[i], fi[i]) )\n",
    "    IDMalListf3.append(newfi)"
   ]
  },
  {
   "cell_type": "code",
   "execution_count": 370,
   "metadata": {},
   "outputs": [
    {
     "data": {
      "text/plain": [
       "[((2, 12), -49.988142292489755),\n",
       " ((3, 5), -49.2766798418972),\n",
       " ((0, 5), -47.59683794466385),\n",
       " ((2, 7), -36.36363636363622),\n",
       " ((2, 9), -35.82213438735178),\n",
       " ((0, 3), -29.458498023715585),\n",
       " ((7, 9), -28.95652173913053)]"
      ]
     },
     "execution_count": 370,
     "metadata": {},
     "output_type": "execute_result"
    }
   ],
   "source": [
    "# [i] is the order-1 [e.g. 0 is first order]\n",
    "sorted(IDMalListf3[1], key = itemgetter(1), reverse = False)[:7]"
   ]
  },
  {
   "cell_type": "code",
   "execution_count": 151,
   "metadata": {},
   "outputs": [],
   "source": [
    "k = 3\n",
    "combs = combinations_mutations[5][1]\n",
    "real_f3s = []\n",
    "for fi in range(1, len(MalListf3)):\n",
    "    f = MalListf3[fi]\n",
    "    newf = []\n",
    "    lexOrder = alphabet_choose_k(list(range(13)), fi)\n",
    "    for lex in range(len(lexOrder)):\n",
    "        if(isin_data(lexOrder[lex], combs)):\n",
    "            newf.append( (lexOrder[lex], f[lex]) )\n",
    "    real_f3s.append(newf)"
   ]
  },
  {
   "cell_type": "code",
   "execution_count": 375,
   "metadata": {},
   "outputs": [
    {
     "data": {
      "text/plain": [
       "[((2, 12), -49.988142292489755),\n",
       " ((3, 5), -49.2766798418972),\n",
       " ((0, 5), -47.59683794466385),\n",
       " ((2, 7), -36.36363636363622),\n",
       " ((2, 9), -35.82213438735178),\n",
       " ((0, 3), -29.458498023715585),\n",
       " ((7, 9), -28.95652173913053),\n",
       " ((1, 7), -19.830039525691703),\n",
       " ((0, 2), -15.48221343873653),\n",
       " ((3, 4), -15.367588932806573),\n",
       " ((4, 5), -13.02766798418999),\n",
       " ((2, 6), -11.798418972331618),\n",
       " ((7, 12), -10.079051383398898),\n",
       " ((3, 9), -9.320158102766761),\n",
       " ((2, 4), -5.913043478260576),\n",
       " ((6, 7), -4.367588932806364),\n",
       " ((5, 7), -2.913043478260462),\n",
       " ((3, 12), -1.9209486166006435),\n",
       " ((3, 6), 2.747035573122577),\n",
       " ((4, 7), 4.474308300395279)]"
      ]
     },
     "execution_count": 375,
     "metadata": {},
     "output_type": "execute_result"
    }
   ],
   "source": [
    "# real values in f^3\n",
    "# [i]\n",
    "# i is the order-1 [e.g. 0 is first order]\n",
    "# real_f3s[0]\n",
    "\n",
    "# sorted real values in f^3\n",
    "# [i]\n",
    "# i is the order-1 [e.g. 0 is first order]\n",
    "sorted(real_f3s[1], key = itemgetter(1), reverse = False)[:20] # )[:7]#"
   ]
  },
  {
   "cell_type": "markdown",
   "metadata": {},
   "source": [
    "# Data vector for $f^{(13,4)}$ with average instead of zeros"
   ]
  },
  {
   "cell_type": "code",
   "execution_count": 376,
   "metadata": {},
   "outputs": [],
   "source": [
    "F4 = data_vectors_f2[2]\n",
    "counter = 0\n",
    "for i in range(len(F4)):\n",
    "    if(int(F4[i]) != 0):\n",
    "        counter += 1\n",
    "Average = sum(F4)/counter\n",
    "\n",
    "F4_Average = np.zeros(len(F4))\n",
    "for i in range(len(F4_Average)):\n",
    "    if(int(F4[i]) == 0):\n",
    "        F4_Average[i] = Average\n",
    "    else:\n",
    "        F4_Average[i] = F4[i]"
   ]
  },
  {
   "cell_type": "code",
   "execution_count": 39,
   "metadata": {},
   "outputs": [
    {
     "name": "stdout",
     "output_type": "stream",
     "text": [
      "715 715\n",
      "4379.0 115962.4074074061\n"
     ]
    }
   ],
   "source": [
    "# validation (of sorts)\n",
    "print(len(F4), len(F4_Average))\n",
    "print(sum(F4), sum(F4_Average))"
   ]
  },
  {
   "cell_type": "code",
   "execution_count": 377,
   "metadata": {},
   "outputs": [],
   "source": [
    "#Apply Mallow's Method to datavector\n",
    "# partitioned data vector\n",
    "# f = F4_Average\n",
    "k = 4.0\n",
    "    \n",
    "# create tuples for k pairings\n",
    "variable_tuples = alphabet_choose_k(list(range(num_vars)), k)\n",
    "    \n",
    "# calculate adjacency matrix and its eigen values \n",
    "Adjacency = calc_adj_mat(variable_tuples)\n",
    "    \n",
    "# calculate eigenvalues and eigenvectors of Adjacency Matrix\n",
    "eig_vals, eig_vecs = calc_eig_vec_of_adj_matrix(Adjacency)\n",
    "    \n",
    "# create M basis to project data vector onto\n",
    "M_basis = group_eig_vecs(eig_vals, eig_vecs)\n",
    "    \n",
    "# reshape data vector\n",
    "f_4 = F4_Average.reshape(len(F4_Average),1)\n",
    "    \n",
    "# project f onto M basis\n",
    "f4_list = proj_f_onto_M(f_4, M_basis)\n",
    "# print(f_list)\n",
    "\n",
    "# Use Mallows method to transform f_is into interpretable vectors\n",
    "MalListf4 = Mallows_list(list(range(num_vars)), f4_list, (num_vars,int(k)))"
   ]
  },
  {
   "cell_type": "markdown",
   "metadata": {},
   "source": [
    "#### Plotting and saving the graphs of $f^{(13,4)}_i$ where $i = 1,2,3,4$  "
   ]
  },
  {
   "cell_type": "code",
   "execution_count": 378,
   "metadata": {},
   "outputs": [
    {
     "data": {
      "image/png": "[encoded data removed]",
      "text/plain": [
       "<Figure size 432x288 with 1 Axes>"
      ]
     },
     "metadata": {},
     "output_type": "display_data"
    }
   ],
   "source": [
    "# # plot f^4_1, f^4_2, f^4_3, f^4_4\n",
    "# order range from 1 to 4\n",
    "color_peaks(MalListf4[1], order = 1, k = 4, n_max_peak = 3, n_min_peak = 3)"
   ]
  },
  {
   "cell_type": "markdown",
   "metadata": {},
   "source": [
    "#### Fucntions for accesing spcefic values in the averaged $f^4_i$ where $i=1,...,4$"
   ]
  },
  {
   "cell_type": "code",
   "execution_count": 49,
   "metadata": {},
   "outputs": [],
   "source": [
    "# match values with ids\n",
    "IDMalListf4 = []\n",
    "for order in range(1,len(MalListf4)):\n",
    "    fi = MalListf4[order]\n",
    "    newfi = []\n",
    "    lexOrder = alphabet_choose_k(list(range(13)), order)\n",
    "    for i in range(len(fi)):\n",
    "        newfi.append( (lexOrder[i], fi[i]) )\n",
    "    IDMalListf4.append(newfi)"
   ]
  },
  {
   "cell_type": "code",
   "execution_count": 50,
   "metadata": {},
   "outputs": [
    {
     "data": {
      "text/plain": [
       "[((0, 2, 3, 12), -43.777998236331364),\n",
       " ((2, 3, 7, 12), -26.889440035273477),\n",
       " ((0, 3, 4, 9), -14.379519400352777),\n",
       " ((2, 5, 6, 9), -13.992945326278607)]"
      ]
     },
     "execution_count": 50,
     "metadata": {},
     "output_type": "execute_result"
    }
   ],
   "source": [
    "# [i] is the order-1 [e.g. 0 is first order]\n",
    "sorted(IDMalListf4[3], key = itemgetter(1))[:4]#, reverse=True)[:7] # )#"
   ]
  },
  {
   "cell_type": "code",
   "execution_count": 60,
   "metadata": {},
   "outputs": [],
   "source": [
    "k = 4\n",
    "combs = combinations_mutations[4][1]\n",
    "real_f4s = []\n",
    "for fi in range(1, len(MalListf4)):\n",
    "    f = MalListf4[fi]\n",
    "    newf = []\n",
    "    lexOrder = alphabet_choose_k(list(range(13)), fi)\n",
    "    for lex in range(len(lexOrder)):\n",
    "        if(isin_data(lexOrder[lex], combs)):\n",
    "            newf.append( (lexOrder[lex], f[lex]) )\n",
    "    real_f4s.append(newf)"
   ]
  },
  {
   "cell_type": "code",
   "execution_count": 154,
   "metadata": {},
   "outputs": [
    {
     "data": {
      "text/plain": [
       "[((0,), 37.66666666669206),\n",
       " ((2,), -43.203703703694195),\n",
       " ((3,), -26.462962962945554),\n",
       " ((4,), 1.8981481481430327),\n",
       " ((5,), 5.888888888880261),\n",
       " ((6,), 18.333333333326426),\n",
       " ((7,), 104.0277777777719),\n",
       " ((9,), -15.16666666667617),\n",
       " ((11,), -17.55555555555923),\n",
       " ((12,), -65.42592592593384)]"
      ]
     },
     "execution_count": 154,
     "metadata": {},
     "output_type": "execute_result"
    }
   ],
   "source": [
    "# real values in f^4\n",
    "# [i]\n",
    "# i is the order-1 [e.g. 0 is first order]\n",
    "real_f4s[0]\n",
    "\n",
    "# sorted real values in f^4\n",
    "# [i]\n",
    "# i is the order-1 [e.g. 0 is first order]\n",
    "# sorted(real_f4s[0], key = itemgetter(1), reverse = True) # )[:7]#"
   ]
  },
  {
   "cell_type": "markdown",
   "metadata": {},
   "source": [
    "# Data vector for $f^{(13,5)}$ with average instead of zeros"
   ]
  },
  {
   "cell_type": "code",
   "execution_count": 65,
   "metadata": {},
   "outputs": [],
   "source": [
    "F5 = data_vectors_f2[1]\n",
    "counter = 0\n",
    "for i in range(len(F5)):\n",
    "    if(int(F5[i]) != 0):\n",
    "        counter += 1\n",
    "Average = sum(F5)/counter\n",
    "\n",
    "F5_Average = np.zeros(len(F5))\n",
    "for i in range(len(F5_Average)):\n",
    "    if(int(F5[i]) == 0):\n",
    "        F5_Average[i] = Average\n",
    "    else:\n",
    "        F5_Average[i] = F5[i]"
   ]
  },
  {
   "cell_type": "code",
   "execution_count": 66,
   "metadata": {},
   "outputs": [
    {
     "name": "stdout",
     "output_type": "stream",
     "text": [
      "1287 1287\n",
      "4677.666666666666 207591.6206896546\n"
     ]
    }
   ],
   "source": [
    "# validation (of sorts)\n",
    "print(len(F5), len(F5_Average))\n",
    "print(sum(F5), sum(F5_Average))"
   ]
  },
  {
   "cell_type": "code",
   "execution_count": 67,
   "metadata": {},
   "outputs": [],
   "source": [
    "#Apply Mallow's Method to datavector\n",
    "# partitioned data vector\n",
    "# f5 = F_Average\n",
    "k = 5.0\n",
    "    \n",
    "# create tuples for k pairings\n",
    "variable_tuples = alphabet_choose_k(list(range(num_vars)), k)\n",
    "    \n",
    "# calculate adjacency matrix and its eigen values \n",
    "Adjacency = calc_adj_mat(variable_tuples)\n",
    "    \n",
    "# calculate eigenvalues and eigenvectors of Adjacency Matrix\n",
    "eig_vals, eig_vecs = calc_eig_vec_of_adj_matrix(Adjacency)\n",
    "    \n",
    "# create M basis to project data vector onto\n",
    "M_basis = group_eig_vecs(eig_vals, eig_vecs)\n",
    "    \n",
    "# reshape data vector\n",
    "f_5 = F5_Average.reshape(len(F5_Average),1)\n",
    "    \n",
    "# project f onto M basis\n",
    "f5_list = proj_f_onto_M(f_5, M_basis)\n",
    "\n",
    "# Use Mallows method to transform f_is into interpretable vectors\n",
    "MalListf5 = Mallows_list(list(range(num_vars)), f5_list, (num_vars,int(k)))"
   ]
  },
  {
   "cell_type": "markdown",
   "metadata": {},
   "source": [
    "#### Plotting and saving the graphs of $f^{(13,5)}_i$ where $i = 1,2,3,4,5$  "
   ]
  },
  {
   "cell_type": "code",
   "execution_count": 312,
   "metadata": {},
   "outputs": [
    {
     "data": {
      "image/png": "[encoded data removed]",
      "text/plain": [
       "<Figure size 432x288 with 1 Axes>"
      ]
     },
     "metadata": {},
     "output_type": "display_data"
    }
   ],
   "source": [
    "# # plot f^5_1, f^5_2, f^5_3, f^5_4, f^5_5\n",
    "# k = mutations\n",
    "# order range from 1 to 5\n",
    "color_peaks(MalListf5[1], order = 1, k = 5, n_max_peak = 3, n_min_peak = 3)"
   ]
  },
  {
   "cell_type": "markdown",
   "metadata": {},
   "source": [
    "#### Fucntions for accesing spcefic values in the averaged $f^5_i$ where $i=1,...,5$"
   ]
  },
  {
   "cell_type": "code",
   "execution_count": 69,
   "metadata": {},
   "outputs": [],
   "source": [
    "# match values with ids\n",
    "IDMalListf5 = []\n",
    "for order in range(1,len(MalListf5)):\n",
    "    fi = MalListf5[order]\n",
    "    newfi = []\n",
    "    lexOrder = alphabet_choose_k(list(range(13)), order)\n",
    "    for i in range(len(fi)):\n",
    "        newfi.append( (lexOrder[i], fi[i]) )\n",
    "    IDMalListf5.append(newfi)"
   ]
  },
  {
   "cell_type": "code",
   "execution_count": 126,
   "metadata": {},
   "outputs": [
    {
     "data": {
      "text/plain": [
       "[((0, 4, 6, 7, 9), -26.9391078270388),\n",
       " ((0, 2, 3, 7, 9), -14.042966611931877),\n",
       " ((0, 2, 3, 4, 12), -10.707170224411598),\n",
       " ((0, 1, 4, 9, 12), -9.818773946360077),\n",
       " ((0, 3, 4, 6, 9), -9.677640941433989),\n",
       " ((0, 6, 7, 9, 12), -9.55117679255624),\n",
       " ((0, 3, 5, 6, 7), -8.077859879583949),\n",
       " ((2, 3, 5, 6, 7), -7.950191570881132),\n",
       " ((0, 2, 3, 5, 7), -7.68281335522688),\n",
       " ((0, 1, 3, 4, 7), -6.459113300492212)]"
      ]
     },
     "execution_count": 126,
     "metadata": {},
     "output_type": "execute_result"
    }
   ],
   "source": [
    "# [i] is the order-1 [e.g. 0 is first order]\n",
    "sorted(IDMalListf5[4], key = itemgetter(1), reverse = False)[:10] # True False"
   ]
  },
  {
   "cell_type": "code",
   "execution_count": 71,
   "metadata": {},
   "outputs": [],
   "source": [
    "k = 5\n",
    "combs = combinations_mutations[3][1]\n",
    "real_f5s = []\n",
    "for fi in range(1, len(MalListf5)):\n",
    "    f = MalListf5[fi]\n",
    "    newf = []\n",
    "    lexOrder = alphabet_choose_k(list(range(13)), fi)\n",
    "    for lex in range(len(lexOrder)):\n",
    "        if(isin_data(lexOrder[lex], combs)):\n",
    "            newf.append( (lexOrder[lex], f[lex]) )\n",
    "    real_f5s.append(newf)"
   ]
  },
  {
   "cell_type": "code",
   "execution_count": 328,
   "metadata": {},
   "outputs": [
    {
     "data": {
      "text/plain": [
       "[((7, 9), -72.94043887147203),\n",
       " ((2, 5), -64.47335423197825),\n",
       " ((6, 9), -57.566875653084495),\n",
       " ((6, 7), -53.32915360501818),\n",
       " ((2, 12), -49.85788923720356),\n",
       " ((4, 6), -47.69383490073588),\n",
       " ((0, 9), -43.4947753396041),\n",
       " ((0, 4), -40.989550679204896),\n",
       " ((3, 11), -39.05956112852843),\n",
       " ((4, 9), -38.20167189132579),\n",
       " ((0, 7), -37.02716823406774),\n",
       " ((0, 6), -29.153605015670742),\n",
       " ((1, 12), -27.94148380355232),\n",
       " ((3, 5), -23.617032392896938),\n",
       " ((2, 11), -23.312434691744176),\n",
       " ((2, 3), -21.355799373038245),\n",
       " ((5, 11), -19.504702194357282),\n",
       " ((4, 12), -18.464994775338205),\n",
       " ((5, 7), -17.81922675025852),\n",
       " ((1, 3), -8.514106583070808)]"
      ]
     },
     "execution_count": 328,
     "metadata": {},
     "output_type": "execute_result"
    }
   ],
   "source": [
    "# real values in f^4\n",
    "# [i]\n",
    "# i is the order-1 [e.g. 0 is first order]\n",
    "# real_f5s[0]\n",
    "\n",
    "# sorted real values in f^4\n",
    "# [i]\n",
    "# i is the order-1 [e.g. 0 is first order]\n",
    "sorted(real_f5s[1], key = itemgetter(1), reverse = False)[:20] # [:7] True False"
   ]
  },
  {
   "cell_type": "markdown",
   "metadata": {},
   "source": [
    "# Data vector for $f^{(13,6)}$ with average instead of zeros"
   ]
  },
  {
   "cell_type": "code",
   "execution_count": 232,
   "metadata": {},
   "outputs": [],
   "source": [
    "F6 = data_vectors_f2[0]\n",
    "counter = 0\n",
    "for i in range(len(F6)):\n",
    "    if(int(F6[i]) != 0):\n",
    "        counter += 1\n",
    "Average = sum(F6)/counter\n",
    "\n",
    "F6_Average = np.zeros(len(F6))\n",
    "for i in range(len(F6_Average)):\n",
    "    if(int(F6[i]) == 0):\n",
    "        F6_Average[i] = Average\n",
    "    else:\n",
    "        F6_Average[i] = F6[i]\n",
    "        \n",
    "#Apply Mallow's Method to datavector\n",
    "# partitioned data vector\n",
    "# f5 = F_Average\n",
    "k = 6.0\n",
    "    \n",
    "# create tuples for k pairings\n",
    "variable_tuples = alphabet_choose_k(list(range(num_vars)), k)\n",
    "    \n",
    "# calculate adjacency matrix and its eigen values \n",
    "Adjacency = calc_adj_mat(variable_tuples)\n",
    "    \n",
    "# calculate eigenvalues and eigenvectors of Adjacency Matrix\n",
    "eig_vals, eig_vecs = calc_eig_vec_of_adj_matrix(Adjacency)\n",
    "    \n",
    "# create M basis to project data vector onto\n",
    "M_basis = group_eig_vecs(eig_vals, eig_vecs)\n",
    "    \n",
    "# reshape data vector\n",
    "f_6 = F6_Average.reshape(len(F6_Average),1)\n",
    "    \n",
    "# project f onto M basis\n",
    "f6_list = proj_f_onto_M(f_6, M_basis)\n",
    "\n",
    "# Use Mallows method to transform f_is into interpretable vectors\n",
    "MalListf6 = Mallows_list(list(range(num_vars)), f6_list, (num_vars,int(k)))"
   ]
  },
  {
   "cell_type": "markdown",
   "metadata": {},
   "source": [
    "#### Plotting and saving the graphs of $f^{(13,6)}_i$ where $i = 1,2,3,4,5,6$  "
   ]
  },
  {
   "cell_type": "code",
   "execution_count": 277,
   "metadata": {},
   "outputs": [
    {
     "data": {
      "image/png": "[encoded data removed]",
      "text/plain": [
       "<Figure size 432x288 with 1 Axes>"
      ]
     },
     "metadata": {},
     "output_type": "display_data"
    }
   ],
   "source": [
    "# # plot f^6_1, f^6_2, f^6_3, ..., f^6_6\n",
    "# k = mutations\n",
    "# order range from 1 to 6\n",
    "color_peaks(MalListf6[6], order = 6, k = 6, n_max_peak = 2, n_min_peak = 5)"
   ]
  },
  {
   "cell_type": "markdown",
   "metadata": {},
   "source": [
    "#### Fucntions for accesing spcefic values in the averaged $f^6_i$ where $i=1,...,6$"
   ]
  },
  {
   "cell_type": "code",
   "execution_count": 234,
   "metadata": {},
   "outputs": [],
   "source": [
    "# match values with ids\n",
    "IDMalListf6 = []\n",
    "for order in range(1,len(MalListf6)):\n",
    "    fi = MalListf6[order]\n",
    "    newfi = []\n",
    "    lexOrder = alphabet_choose_k(list(range(13)), order)\n",
    "    for i in range(len(fi)):\n",
    "        newfi.append( (lexOrder[i], fi[i]) )\n",
    "    IDMalListf6.append(newfi)"
   ]
  },
  {
   "cell_type": "code",
   "execution_count": 319,
   "metadata": {},
   "outputs": [
    {
     "data": {
      "text/plain": [
       "[((0, 2, 7), 16.73333333333346),\n",
       " ((7, 8, 10), 15.599999999997815),\n",
       " ((4, 8, 9), 15.377777777778682),\n",
       " ((0, 4, 6), 14.933333333332751),\n",
       " ((0, 4, 7), 14.066666666666713)]"
      ]
     },
     "execution_count": 319,
     "metadata": {},
     "output_type": "execute_result"
    }
   ],
   "source": [
    "# [i] is the order-1 [e.g. 0 is first order]\n",
    "sorted(IDMalListf6[2], key = itemgetter(1), reverse = True)[:5] # True False"
   ]
  },
  {
   "cell_type": "code",
   "execution_count": 236,
   "metadata": {},
   "outputs": [],
   "source": [
    "k = 6\n",
    "combs = combinations_mutations[2][1]\n",
    "real_f6s = []\n",
    "for fi in range(1, len(MalListf6)):\n",
    "    f = MalListf6[fi]\n",
    "    newf = []\n",
    "    lexOrder = alphabet_choose_k(list(range(13)), fi)\n",
    "    for lex in range(len(lexOrder)):\n",
    "        if(isin_data(lexOrder[lex], combs)):\n",
    "            newf.append( (lexOrder[lex], f[lex]) )\n",
    "    real_f6s.append(newf)"
   ]
  },
  {
   "cell_type": "code",
   "execution_count": 323,
   "metadata": {},
   "outputs": [
    {
     "data": {
      "text/plain": [
       "[((0, 2, 7), 16.73333333333346),\n",
       " ((0, 4, 6), 14.933333333332751),\n",
       " ((0, 4, 7), 14.066666666666713),\n",
       " ((0, 2, 4), 13.266666666665754),\n",
       " ((2, 5, 7), 13.133333333331672),\n",
       " ((2, 4, 6), 12.666666666666035),\n",
       " ((0, 6, 7), 12.622222222222344),\n",
       " ((2, 4, 7), 11.799999999999732),\n",
       " ((1, 2, 3), 11.711111111110037),\n",
       " ((0, 5, 7), 11.622222222220556),\n",
       " ((2, 6, 7), 10.355555555557329),\n",
       " ((0, 1, 3), 10.199999999999486),\n",
       " ((4, 5, 6), 9.266666666665301),\n",
       " ((0, 2, 6), 8.599999999998273),\n",
       " ((1, 2, 9), 7.977777777779041),\n",
       " ((4, 5, 7), 7.5999999999999135),\n",
       " ((5, 7, 9), 7.444444444445947),\n",
       " ((2, 3, 11), 7.422222222222205),\n",
       " ((0, 1, 2), 7.2888888888882715),\n",
       " ((0, 2, 5), 6.488888888891651)]"
      ]
     },
     "execution_count": 323,
     "metadata": {},
     "output_type": "execute_result"
    }
   ],
   "source": [
    "# real values in f^4\n",
    "# [i]\n",
    "# i is the order-1 [e.g. 0 is first order]\n",
    "# real_f6s[0]\n",
    "\n",
    "# sorted real values in f^4\n",
    "# [i]\n",
    "# i is the order-1 [e.g. 0 is first order]\n",
    "sorted(real_f6s[2], key = itemgetter(1), reverse = True)[:20] # [:7] True False"
   ]
  },
  {
   "cell_type": "markdown",
   "metadata": {},
   "source": [
    "# Tables for combinations of mutations  \n",
    "### Helper functions"
   ]
  },
  {
   "cell_type": "code",
   "execution_count": 74,
   "metadata": {},
   "outputs": [],
   "source": [
    "# intput:\n",
    "# output:\n",
    "# Given a matrix with only nz number of zeros on each row\n",
    "# returns an array of tuples where each tuple is a distinct\n",
    "# combination of mutations in at least one row of the matrix\n",
    "# the length of the tuples are 13-nz\n",
    "def combination_tables(mat, nz):\n",
    "    nrows = mat.shape[0]\n",
    "    tups = []\n",
    "    for row in range(nrows):\n",
    "        tups.append(categorize_row2(mat[row]))\n",
    "    return list(set(tups))\n",
    "\n",
    "# input: one dimensional matrix (horizontal)\n",
    "# output: tuple or int\n",
    "# Takes in a row and categorizes the row by the amount of ones \n",
    "# and returns the corresponding variables to the ones \n",
    "# e.g. the row [1,0,1,0] with the columns 1234, return (1,3)\n",
    "# e.g. the row [0,0,0,1] with columns 1234 returns 4\n",
    "def categorize_row2(row):\n",
    "    # copy row to not alter the data\n",
    "    tempRow = np.copy(row)\n",
    "    tempRow = np.asarray(tempRow)\n",
    "    # length of row without including the last column (which are the results)\n",
    "    length = len(tempRow)-1 # minus hemoglobin\n",
    "    # variable to store the variables corresponding to the zeros\n",
    "    category = []\n",
    "    # check line for zeros\n",
    "    for i in range(length):\n",
    "        if(int(tempRow[i]) == 1):\n",
    "            category.append(i)\n",
    "    # if it is only one zero in the row it returns the int\n",
    "    if(len(category) != 1):\n",
    "        # returns tuple of category\n",
    "        return tuple(category)\n",
    "    else:\n",
    "        return category[0]"
   ]
  },
  {
   "cell_type": "markdown",
   "metadata": {},
   "source": [
    "### Main function for tables of combinations of mutations"
   ]
  },
  {
   "cell_type": "code",
   "execution_count": 53,
   "metadata": {},
   "outputs": [],
   "source": [
    "# store raw data as a copy\n",
    "Raw_Data = np.copy(gene_mut)\n",
    "\n",
    "# count the numebr of variables\n",
    "num_vars = Raw_Data.shape[1]-1\n",
    "\n",
    "# count number of zeros on each row\n",
    "num_zeros = num_of_mutations(Raw_Data)\n",
    "\n",
    "# partition data by amount of zeros (list of matrices)\n",
    "Sub_Data = raw_data_partitions(Raw_Data, num_zeros)\n",
    "\n",
    "# list to hold combinations of mutations\n",
    "combinations_mutations = []\n",
    "\n",
    "# for every partition of data of the form (#zero, sub-data)\n",
    "# create a table and save it that contains its distinct\n",
    "# combinations of mutations\n",
    "for data in range(len(Sub_Data)):\n",
    "    nzero = Sub_Data[data][0]\n",
    "    matr = Sub_Data[data][1]\n",
    "    tupslist = combination_tables(matr, nzero)\n",
    "    combinations_mutations.append((num_vars-nzero, tupslist))\n",
    "    #df = pd.DataFrame(np.asanyarray(tupslist))\n",
    "    #df.to_csv(\"tables/combinations_%d_mutations.csv\"%(num_vars-nzero))"
   ]
  },
  {
   "cell_type": "code",
   "execution_count": 54,
   "metadata": {},
   "outputs": [
    {
     "name": "stdout",
     "output_type": "stream",
     "text": [
      "8.0\n",
      "7.0\n",
      "6.0\n",
      "5.0\n",
      "4.0\n",
      "3.0\n",
      "2.0\n",
      "1.0\n"
     ]
    }
   ],
   "source": [
    "for i in range(len(combinations_mutations)):\n",
    "    print(combinations_mutations[i][0])"
   ]
  },
  {
   "cell_type": "markdown",
   "metadata": {},
   "source": [
    "# Values for real combinations"
   ]
  },
  {
   "cell_type": "code",
   "execution_count": 56,
   "metadata": {},
   "outputs": [],
   "source": [
    "# input: list of ints, list of tuples\n",
    "# output: bool\n",
    "# Given a list of mutations and a list of tuples where each tuple is a combination of \n",
    "# mutations, it checks if the tuple is a subset of any other tuple on the list\n",
    "# of tuples, if it is, it returns True, otherwise returns False\n",
    "def isin_data(subtup, tuplist):\n",
    "    for i in range(len(tuplist)):\n",
    "        #print(\"tup = \", tuplist[i], i)\n",
    "        if(set(subtup).issubset(tuplist[i])):\n",
    "            return True\n",
    "    return False"
   ]
  },
  {
   "cell_type": "code",
   "execution_count": 57,
   "metadata": {},
   "outputs": [
    {
     "name": "stdout",
     "output_type": "stream",
     "text": [
      "8.0\n",
      "7.0\n",
      "6.0\n",
      "5.0\n",
      "4.0\n",
      "3.0\n",
      "2.0\n",
      "1.0\n"
     ]
    }
   ],
   "source": [
    "for i in range(len(combinations_mutations)):\n",
    "    print(combinations_mutations[i][0])"
   ]
  },
  {
   "cell_type": "markdown",
   "metadata": {},
   "source": [
    "#### Examples of how to use these functions"
   ]
  },
  {
   "cell_type": "code",
   "execution_count": 58,
   "metadata": {},
   "outputs": [
    {
     "data": {
      "text/plain": [
       "True"
      ]
     },
     "execution_count": 58,
     "metadata": {},
     "output_type": "execute_result"
    }
   ],
   "source": [
    "# validate\n",
    "# first argument: tuple of combinations you want to check\n",
    "#.                can have repetitions and can be out of order\n",
    "# second argument: combinations_mutations[i][j]\n",
    "#.          i: index to change mutations [0 is 8, 1 is 7, ..., 7 is 1]\n",
    "#.          j: always 1\n",
    "isin_data((2,2,0,6), combinations_mutations[1][1])"
   ]
  },
  {
   "cell_type": "code",
   "execution_count": 59,
   "metadata": {},
   "outputs": [
    {
     "name": "stdout",
     "output_type": "stream",
     "text": [
      "2.0\n"
     ]
    }
   ],
   "source": [
    "# [i][j]\n",
    "# i: index to change mutations [0 is 8, 1 is 7, ..., 7 is 1]\n",
    "# j: 0 is the mutations and 1 is the combinations of that mutation\n",
    "#.    that actually happen on the raw data\n",
    "print(combinations_mutations[6][0])"
   ]
  },
  {
   "cell_type": "markdown",
   "metadata": {},
   "source": [
    "### Tables for mutations 6->1 without average"
   ]
  },
  {
   "cell_type": "code",
   "execution_count": 129,
   "metadata": {},
   "outputs": [],
   "source": [
    "# AllMallowVectors2 - [(6, [f0->f6]), (5, [f0->f5]), ..., (1, [f1])]\n",
    "# AllMallowVectors - [(8, [f0->f5]), (7, [f0->f6])]\n",
    "# combinations_mutations - [(8, comb), (7, comb), ..., (1, comb)]\n",
    "# for each fi I want a new fi with tuples for elements ( combo mut, value ) \n",
    "# only in new fi if value happens in data\n",
    "realAllMallowVectors2 = []\n",
    "for i in range(len(AllMallowVectors2)):\n",
    "    k = AllMallowVectors2[i][0]\n",
    "    combs = combinations_mutations[i+2][1]\n",
    "    real_fis = []\n",
    "    for fi in range(1, len(AllMallowVectors2[i][1])-1):\n",
    "        f = AllMallowVectors2[i][1][fi]\n",
    "        newf = []\n",
    "        lexOrder = alphabet_choose_k(list(range(13)),fi)\n",
    "        for lex in range(len(lexOrder)):\n",
    "            if(isin_data(lexOrder[lex], combs)):\n",
    "                newf.append( (lexOrder[lex], f[lex]) )\n",
    "        real_fis.append(newf)\n",
    "    realAllMallowVectors2.append( (k, real_fis) )"
   ]
  },
  {
   "cell_type": "code",
   "execution_count": 130,
   "metadata": {},
   "outputs": [
    {
     "name": "stdout",
     "output_type": "stream",
     "text": [
      "6.0\n",
      "5.0\n",
      "4.0\n",
      "3.0\n",
      "2.0\n",
      "1.0\n"
     ]
    }
   ],
   "source": [
    "for i in range(len(realAllMallowVectors2)):\n",
    "    print(realAllMallowVectors2[i][0])"
   ]
  },
  {
   "cell_type": "markdown",
   "metadata": {},
   "source": [
    "Remark: Starts with data that has only 2 mutations, there is a bug in this previous code because it doens't make a table for data with individuals that only have 1 mutation"
   ]
  },
  {
   "cell_type": "markdown",
   "metadata": {},
   "source": [
    "#### Examples for how to use this variable"
   ]
  },
  {
   "cell_type": "code",
   "execution_count": 131,
   "metadata": {},
   "outputs": [
    {
     "name": "stdout",
     "output_type": "stream",
     "text": [
      "1 ((2, 12), -303.59090909090872)\n"
     ]
    }
   ],
   "source": [
    "# look for specific values\n",
    "i = 2\n",
    "k = 1\n",
    "com = [2,12]\n",
    "total = len(realAllMallowVectors2[i][1][k])\n",
    "listLook = sorted(realAllMallowVectors2[i][1][k], key=itemgetter(1))\n",
    "for index in range(total):\n",
    "    if(listLook[index][0] == tuple(com)):\n",
    "        if(listLook[index][1] < 0):\n",
    "            place = index+1\n",
    "        else:\n",
    "            place = total-index\n",
    "        print(place, listLook[index])"
   ]
  },
  {
   "cell_type": "code",
   "execution_count": 132,
   "metadata": {},
   "outputs": [
    {
     "data": {
      "text/plain": [
       "6.0"
      ]
     },
     "execution_count": 132,
     "metadata": {},
     "output_type": "execute_result"
    }
   ],
   "source": [
    "# [i][j][k]\n",
    "# i: the mutations\n",
    "# j: 0 is the mutation i and 1 is the actual list of combinations\n",
    "#.    paired with their value on the data\n",
    "# k: just displays the order of the mutation i\n",
    "realAllMallowVectors2[0][0]"
   ]
  },
  {
   "cell_type": "code",
   "execution_count": 133,
   "metadata": {},
   "outputs": [
    {
     "data": {
      "text/plain": [
       "[((11,), -878.38461538461593),\n",
       " ((12,), -601.88461538461468),\n",
       " ((5,), -368.38461538461473),\n",
       " ((9,), 97.115384615385295),\n",
       " ((6,), 130.61538461538407),\n",
       " ((4,), 276.36538461538572),\n",
       " ((7,), 702.8653846153843),\n",
       " ((3,), 1221.1153846153859),\n",
       " ((0,), 1609.6153846153834),\n",
       " ((2,), 1853.1153846153848)]"
      ]
     },
     "execution_count": 133,
     "metadata": {},
     "output_type": "execute_result"
    }
   ],
   "source": [
    "# [i][j][k]\n",
    "# i: the mutations [0 is 6, 1 is 5,..., 4 is 2] \n",
    "# j: always 1\n",
    "# k: just displays the order of the mutation i (order-1)\n",
    "sorted(realAllMallowVectors2[2][1][0], key=itemgetter(1))"
   ]
  },
  {
   "cell_type": "markdown",
   "metadata": {},
   "source": [
    "### Tables for non-mutations 8->7 without average"
   ]
  },
  {
   "cell_type": "code",
   "execution_count": 134,
   "metadata": {},
   "outputs": [],
   "source": [
    "# AllMallowVectors2 - [(6, [f0->f6]), (5, [f0->f5]), ..., (1, [f1])]\n",
    "# AllMallowVectors - [(8, [f0->f5]), (7, [f0->f6])]\n",
    "# combinations_mutations - [(8, comb), (7, comb), ..., (1, comb)]\n",
    "# for each fi I want a new fi with tuples for elements ( combo mut, value ) \n",
    "# only in new fi if value happens in data\n",
    "realAllMallowVectors = []\n",
    "for i in range(len(AllMallowVectors)):\n",
    "    k = AllMallowVectors[i][0]\n",
    "    combs = combinations_mutations[i][1]\n",
    "    real_fis = []\n",
    "    for fi in range(1, len(AllMallowVectors[i][1])):\n",
    "        f = AllMallowVectors[i][1][fi]\n",
    "        newf = []\n",
    "        lexOrder = alphabet_choose_k(list(range(13)),fi)\n",
    "        for lex in range(len(lexOrder)):\n",
    "            if(isin_data(lexOrder[lex], combs)):\n",
    "                newf.append( (lexOrder[lex], f[lex]) )\n",
    "        real_fis.append(newf)\n",
    "    realAllMallowVectors.append( (k, real_fis) )"
   ]
  },
  {
   "cell_type": "code",
   "execution_count": 135,
   "metadata": {},
   "outputs": [
    {
     "name": "stdout",
     "output_type": "stream",
     "text": [
      "8.0\n",
      "7.0\n"
     ]
    }
   ],
   "source": [
    "for i in range(len(realAllMallowVectors)):\n",
    "    print(realAllMallowVectors[i][0])"
   ]
  },
  {
   "cell_type": "markdown",
   "metadata": {},
   "source": [
    "#### Examples for how to use this variable"
   ]
  },
  {
   "cell_type": "code",
   "execution_count": 136,
   "metadata": {},
   "outputs": [
    {
     "data": {
      "text/plain": [
       "8.0"
      ]
     },
     "execution_count": 136,
     "metadata": {},
     "output_type": "execute_result"
    }
   ],
   "source": [
    "# [i][j][k]\n",
    "# i: the mutations\n",
    "# j: 0 is the mutation i and 1 is the actual list of combinations\n",
    "#.    paired with their value on the data\n",
    "# k: just displays the order of the mutation i\n",
    "realAllMallowVectors[0][0]"
   ]
  },
  {
   "cell_type": "markdown",
   "metadata": {},
   "source": [
    "# Mallow's Method for \"raw\" data vectors"
   ]
  },
  {
   "cell_type": "code",
   "execution_count": 75,
   "metadata": {},
   "outputs": [],
   "source": [
    "k2 = [6,5,4,3,2,1]\n",
    "k1 = [5,6]\n",
    "MallowRawVec2 = []\n",
    "for findex in range(len(data_vectors_f2)):\n",
    "    listf = []\n",
    "    f = np.copy(data_vectors_f2[findex])\n",
    "    f = f.reshape(1,len(f))\n",
    "    k = k2[findex]\n",
    "    for order in range(1,k+1):\n",
    "        listf.append(calc_Mallow(list(range(13)),f,order,k))\n",
    "    MallowRawVec2.append( (k, listf) )\n",
    "\n",
    "MallowRawVec1 = []\n",
    "for findex in range(len(data_vectors_f)):\n",
    "    listf = []\n",
    "    f = np.copy(data_vectors_f[findex])\n",
    "    f = f.reshape(1,len(f))\n",
    "    k = k1[findex]\n",
    "    for order in range(1,k+1):\n",
    "        listf.append(calc_Mallow(list(range(13)),f,order,k))\n",
    "    MallowRawVec1.append( (13-k, listf) )"
   ]
  },
  {
   "cell_type": "code",
   "execution_count": 76,
   "metadata": {},
   "outputs": [
    {
     "name": "stdout",
     "output_type": "stream",
     "text": [
      "8\n",
      "7\n",
      "6\n",
      "5\n",
      "4\n",
      "3\n",
      "2\n",
      "1\n"
     ]
    }
   ],
   "source": [
    "for i in range(len(MallowRawVec1)):\n",
    "    print(MallowRawVec1[i][0])\n",
    "for i in range(len(MallowRawVec2)):\n",
    "    print(MallowRawVec2[i][0])"
   ]
  },
  {
   "cell_type": "markdown",
   "metadata": {},
   "source": [
    "### Mallow vectors for $f^{(13,1)}$ raw data vector  \n",
    "This could easily be genralized to save all the $f_i$ graphs for each groupings of $k$ mutations since we have them already computed above and saved to lists."
   ]
  },
  {
   "cell_type": "code",
   "execution_count": 295,
   "metadata": {},
   "outputs": [
    {
     "data": {
      "image/png": "[encoded data removed]",
      "text/plain": [
       "<Figure size 432x288 with 1 Axes>"
      ]
     },
     "metadata": {},
     "output_type": "display_data"
    }
   ],
   "source": [
    "# Plot Raw Mallow Vectors\n",
    "f1 = MallowRawVec2[5][1]\n",
    "# plot f^1_1\n",
    "# order 1\n",
    "color_peaks(f1[0], order = 1, k = 1, n_max_peak = 4, n_min_peak = 0)"
   ]
  },
  {
   "cell_type": "code",
   "execution_count": 229,
   "metadata": {},
   "outputs": [],
   "source": [
    "# match values with ids\n",
    "IDRawVecf1 = []\n",
    "for order in range(1,len(f1)+1):\n",
    "    fi = f1[order-1]\n",
    "    newfi = []\n",
    "    lexOrder = alphabet_choose_k(list(range(13)), order)\n",
    "    for i in range(len(fi)):\n",
    "        newfi.append( (lexOrder[i], fi[i]) )\n",
    "    IDRawVecf1.append(newfi)"
   ]
  },
  {
   "cell_type": "code",
   "execution_count": 230,
   "metadata": {
    "scrolled": true
   },
   "outputs": [
    {
     "data": {
      "text/plain": [
       "[((7,), 204.0),\n",
       " ((0,), 191.0),\n",
       " ((2,), 182.5),\n",
       " ((3,), 123.0),\n",
       " ((1,), 0.0),\n",
       " ((4,), 0.0),\n",
       " ((5,), 0.0),\n",
       " ((6,), 0.0),\n",
       " ((8,), 0.0),\n",
       " ((9,), 0.0),\n",
       " ((10,), 0.0),\n",
       " ((11,), 0.0),\n",
       " ((12,), 0.0)]"
      ]
     },
     "execution_count": 230,
     "metadata": {},
     "output_type": "execute_result"
    }
   ],
   "source": [
    "# [i] is the order-1 [e.g. 0 is first order]\n",
    "sorted(IDRawVecf1[0], key = itemgetter(1), reverse = True)"
   ]
  },
  {
   "cell_type": "markdown",
   "metadata": {},
   "source": [
    "### Mallow vectors for $f^{(13,2)}$ raw data vector  "
   ]
  },
  {
   "cell_type": "code",
   "execution_count": 213,
   "metadata": {},
   "outputs": [
    {
     "data": {
      "image/png": "[encoded data removed]",
      "text/plain": [
       "<Figure size 432x288 with 1 Axes>"
      ]
     },
     "metadata": {},
     "output_type": "display_data"
    }
   ],
   "source": [
    "# Plot Raw Mallow Vectors\n",
    "f2 = MallowRawVec2[4][1]\n",
    "# plot f^2_1, f^2_2\n",
    "# order range from 1 to 2\n",
    "color_peaks(f2[1], order = 2, k = 2, n_max_peak = 8, n_min_peak = 0)"
   ]
  },
  {
   "cell_type": "markdown",
   "metadata": {},
   "source": [
    "#### Access these values"
   ]
  },
  {
   "cell_type": "code",
   "execution_count": 206,
   "metadata": {},
   "outputs": [],
   "source": [
    "# match values with ids\n",
    "IDRawVecf2 = []\n",
    "for order in range(1,len(f2)+1):\n",
    "    fi = f2[order-1]\n",
    "    newfi = []\n",
    "    lexOrder = alphabet_choose_k(list(range(13)), order)\n",
    "    for i in range(len(fi)):\n",
    "        newfi.append( (lexOrder[i], fi[i]) )\n",
    "    IDRawVecf2.append(newfi)"
   ]
  },
  {
   "cell_type": "code",
   "execution_count": 215,
   "metadata": {},
   "outputs": [
    {
     "data": {
      "text/plain": [
       "[((0, 9), 199.0),\n",
       " ((2, 9), 195.0),\n",
       " ((0, 7), 187.0),\n",
       " ((2, 5), 185.0),\n",
       " ((1, 7), 179.0),\n",
       " ((2, 3), 170.0),\n",
       " ((3, 6), 167.0),\n",
       " ((0, 6), 163.75),\n",
       " ((0, 2), 148.0),\n",
       " ((0, 4), 112.66666666666667),\n",
       " ((2, 7), 101.5),\n",
       " ((0, 1), 0.0)]"
      ]
     },
     "execution_count": 215,
     "metadata": {},
     "output_type": "execute_result"
    }
   ],
   "source": [
    "# [i] is the order-1 [e.g. 0 is first order]\n",
    "sorted(IDRawVecf2[1], key = itemgetter(1), reverse = True)[:12]"
   ]
  },
  {
   "cell_type": "markdown",
   "metadata": {},
   "source": [
    "### Mallow vectors for $f^{(13,3)}$ raw data vector  "
   ]
  },
  {
   "cell_type": "code",
   "execution_count": 203,
   "metadata": {},
   "outputs": [
    {
     "data": {
      "image/png": "[encoded data removed]",
      "text/plain": [
       "<Figure size 432x288 with 1 Axes>"
      ]
     },
     "metadata": {},
     "output_type": "display_data"
    }
   ],
   "source": [
    "# Plot Raw Mallow Vectors\n",
    "f3 = MallowRawVec2[3][1]\n",
    "# plot f^3_1, f^3_2, f^3_3\n",
    "# order range from 1 to 3\n",
    "color_peaks(f3[2], order = 3, k = 3, n_max_peak = 6, n_min_peak = 0)"
   ]
  },
  {
   "cell_type": "markdown",
   "metadata": {},
   "source": [
    "#### Access these values"
   ]
  },
  {
   "cell_type": "code",
   "execution_count": 174,
   "metadata": {},
   "outputs": [],
   "source": [
    "# match values with ids\n",
    "IDRawVecf3 = []\n",
    "for order in range(1,len(f3)+1):\n",
    "    fi = f3[order-1]\n",
    "    newfi = []\n",
    "    lexOrder = alphabet_choose_k(list(range(13)), order)\n",
    "    for i in range(len(fi)):\n",
    "        newfi.append( (lexOrder[i], fi[i]) )\n",
    "    IDRawVecf3.append(newfi)"
   ]
  },
  {
   "cell_type": "code",
   "execution_count": 187,
   "metadata": {},
   "outputs": [
    {
     "data": {
      "text/plain": [
       "[((1, 2, 5), 248.0),\n",
       " ((1, 2, 3), 198.0),\n",
       " ((2, 3, 7), 193.0),\n",
       " ((0, 4, 6), 176.0),\n",
       " ((0, 3, 7), 173.0),\n",
       " ((2, 4, 6), 172.0),\n",
       " ((3, 6, 9), 168.0)]"
      ]
     },
     "execution_count": 187,
     "metadata": {},
     "output_type": "execute_result"
    }
   ],
   "source": [
    "# [i] is the order-1 [e.g. 0 is first order]\n",
    "sorted(IDRawVecf3[2], key = itemgetter(1), reverse = True)[:7]"
   ]
  },
  {
   "cell_type": "markdown",
   "metadata": {},
   "source": [
    "### Mallow vectors for $f^{(13,4)}$ raw data vector  "
   ]
  },
  {
   "cell_type": "code",
   "execution_count": 77,
   "metadata": {},
   "outputs": [
    {
     "data": {
      "image/png": "[encoded data removed]",
      "text/plain": [
       "<Figure size 432x288 with 1 Axes>"
      ]
     },
     "metadata": {},
     "output_type": "display_data"
    }
   ],
   "source": [
    "# Plot Raw Mallow Vectors\n",
    "f4 = MallowRawVec2[2][1]\n",
    "# plot f^4_1, f^4_2, f^4_3, f^4_4\n",
    "# order range from 1 to 4\n",
    "color_peaks(f4[0], order = 1, k = 4, n_max_peak = 4, n_min_peak = 0)"
   ]
  },
  {
   "cell_type": "markdown",
   "metadata": {},
   "source": [
    "#### Access these values"
   ]
  },
  {
   "cell_type": "code",
   "execution_count": 78,
   "metadata": {},
   "outputs": [],
   "source": [
    "# match values with ids\n",
    "IDRawVecf4 = []\n",
    "for order in range(1,len(f4)+1):\n",
    "    fi = f4[order-1]\n",
    "    newfi = []\n",
    "    lexOrder = alphabet_choose_k(list(range(13)), order)\n",
    "    for i in range(len(fi)):\n",
    "        newfi.append( (lexOrder[i], fi[i]) )\n",
    "    IDRawVecf4.append(newfi)"
   ]
  },
  {
   "cell_type": "code",
   "execution_count": 79,
   "metadata": {},
   "outputs": [
    {
     "data": {
      "text/plain": [
       "[((0, 3, 7, 12), 231.0),\n",
       " ((0, 2, 7, 9), 209.0),\n",
       " ((2, 3, 5, 7), 205.0),\n",
       " ((0, 2, 3, 6), 197.5)]"
      ]
     },
     "execution_count": 79,
     "metadata": {},
     "output_type": "execute_result"
    }
   ],
   "source": [
    "# [i] is the order-1 [e.g. 0 is first order]\n",
    "sorted(IDRawVecf4[3], key = itemgetter(1), reverse = True)[:4]"
   ]
  },
  {
   "cell_type": "markdown",
   "metadata": {},
   "source": [
    "### Mallow vectors for $f^{(13,5)}$ raw data vector"
   ]
  },
  {
   "cell_type": "code",
   "execution_count": 316,
   "metadata": {},
   "outputs": [
    {
     "data": {
      "image/png": "[encoded data removed]",
      "text/plain": [
       "<Figure size 432x288 with 1 Axes>"
      ]
     },
     "metadata": {},
     "output_type": "display_data"
    }
   ],
   "source": [
    "# Plot Raw Mallow Vectors\n",
    "f5 = MallowRawVec2[1][1]\n",
    "# plot f^5_1, f^5_2, f^5_3, f^5_4, f^5_5\n",
    "# order range from 1 to 5\n",
    "color_peaks(f5[0], order = 1, k = 5, n_max_peak = 3, n_min_peak = 4)"
   ]
  },
  {
   "cell_type": "markdown",
   "metadata": {},
   "source": [
    "#### Access these values"
   ]
  },
  {
   "cell_type": "code",
   "execution_count": 83,
   "metadata": {},
   "outputs": [],
   "source": [
    "# match values with ids\n",
    "IDRawVecf5 = []\n",
    "for order in range(1,len(f5)+1):\n",
    "    fi = f5[order-1]\n",
    "    newfi = []\n",
    "    lexOrder = alphabet_choose_k(list(range(13)), order)\n",
    "    for i in range(len(fi)):\n",
    "        newfi.append( (lexOrder[i], fi[i]) )\n",
    "    IDRawVecf5.append(newfi)"
   ]
  },
  {
   "cell_type": "code",
   "execution_count": 145,
   "metadata": {},
   "outputs": [
    {
     "data": {
      "text/plain": [
       "[((0, 3, 5, 6, 12), 204.5),\n",
       " ((0, 2, 3, 6, 9), 194.5),\n",
       " ((0, 1, 2, 3, 7), 187.0),\n",
       " ((0, 3, 4, 5, 7), 185.0),\n",
       " ((0, 4, 9, 11, 12), 184.0),\n",
       " ((0, 2, 3, 4, 7), 183.0),\n",
       " ((0, 2, 3, 4, 9), 181.0),\n",
       " ((0, 3, 5, 9, 12), 180.0),\n",
       " ((2, 3, 4, 6, 7), 179.66666666666666),\n",
       " ((0, 3, 6, 7, 12), 174.0),\n",
       " ((0, 2, 4, 6, 7), 169.0),\n",
       " ((2, 3, 5, 9, 12), 169.0),\n",
       " ((0, 2, 5, 6, 7), 168.0),\n",
       " ((3, 4, 6, 7, 12), 167.0),\n",
       " ((2, 5, 7, 9, 12), 166.0)]"
      ]
     },
     "execution_count": 145,
     "metadata": {},
     "output_type": "execute_result"
    }
   ],
   "source": [
    "# [i] is the order-1 [e.g. 0 is first order]\n",
    "sorted(IDRawVecf5[4], key = itemgetter(1), reverse = True)[:15]"
   ]
  },
  {
   "cell_type": "markdown",
   "metadata": {},
   "source": [
    "### Mallow vectors for $f^{(13,5)}$ raw data vector"
   ]
  },
  {
   "cell_type": "code",
   "execution_count": 290,
   "metadata": {},
   "outputs": [
    {
     "data": {
      "image/png": "[encoded data removed]",
      "text/plain": [
       "<Figure size 432x288 with 1 Axes>"
      ]
     },
     "metadata": {},
     "output_type": "display_data"
    }
   ],
   "source": [
    "# Plot Raw Mallow Vectors\n",
    "f6 = MallowRawVec2[0][1]\n",
    "# plot f^6_1, ..., f^6_6\n",
    "# order range from 1 to 6\n",
    "color_peaks(f6[1], order = 2, k = 6, n_max_peak = 4, n_min_peak = 0)"
   ]
  },
  {
   "cell_type": "markdown",
   "metadata": {},
   "source": [
    "#### Access these values"
   ]
  },
  {
   "cell_type": "code",
   "execution_count": 283,
   "metadata": {},
   "outputs": [],
   "source": [
    "# match values with ids\n",
    "IDRawVecf6 = []\n",
    "for order in range(1,len(f6)+1):\n",
    "    fi = f6[order-1]\n",
    "    newfi = []\n",
    "    lexOrder = alphabet_choose_k(list(range(13)), order)\n",
    "    for i in range(len(fi)):\n",
    "        newfi.append( (lexOrder[i], fi[i]) )\n",
    "    IDRawVecf6.append(newfi)"
   ]
  },
  {
   "cell_type": "code",
   "execution_count": 292,
   "metadata": {},
   "outputs": [
    {
     "data": {
      "text/plain": [
       "[((0, 2), 1418.0), ((2, 7), 1141.0), ((2, 3), 1039.0), ((0, 7), 991.0)]"
      ]
     },
     "execution_count": 292,
     "metadata": {},
     "output_type": "execute_result"
    }
   ],
   "source": [
    "# [i] is the order-1 [e.g. 0 is first order]\n",
    "sorted(IDRawVecf6[1], key = itemgetter(1), reverse = True)[:4]"
   ]
  },
  {
   "cell_type": "markdown",
   "metadata": {},
   "source": [
    "# Plots code"
   ]
  },
  {
   "cell_type": "code",
   "execution_count": 87,
   "metadata": {},
   "outputs": [],
   "source": [
    "# this function inputs the 13 gene names and the kth grouping of f...\n",
    "# ...and outputs a list of all k combinations of gene names in lexicalgraphical order\n",
    "def create_list_names(gene_names,k):\n",
    "    list_names=[]\n",
    "    for i in range(1,k+1):\n",
    "        list_names.append(alphabet_choose_k(gene_names,i))\n",
    "    return list_names\n",
    "\n",
    "# this function inputs the list of all k combinations of gene names in lexicographical order\n",
    "# ... and outputs the indices (key) for each gene group-name in list_names\n",
    "def dict_names(list_names):\n",
    "    keys = range(1,len(list_names)+1)\n",
    "    return (dict(zip(keys,list_names)))   \n",
    "\n",
    "# this function inputs a Mallow list with specified order and kth grouping...\n",
    "# ...and outputs a single f_i mallow vector from the kth group\n",
    "def Mallow_f_order(MallowList, order, k):\n",
    "    for tup in MallowList:\n",
    "        if (int(tup[0]))==int(k):\n",
    "            list_fi= tup[1]\n",
    "            return list_fi[order]\n",
    "    \n",
    "# input: a single mallow vector\n",
    "# output: returns a list of indices which contain max vals\n",
    "def get_n_max(f_i, n_max_peak):\n",
    "    n = n_max_peak\n",
    "    indices = f_i.ravel().argsort()[-n:]  \n",
    "    top_ind=[i for i in indices]\n",
    "    top_ind.reverse()\n",
    "    return top_ind\n",
    "\n",
    "# similar function as above. Returns list of indices with min vals\n",
    "def get_n_min(f_i, n_min_peak):\n",
    "    n= n_min_peak\n",
    "    indices = f_i.ravel().argsort()[:n]\n",
    "    bot_ind=[i for i in indices]\n",
    "    return bot_ind\n",
    "\n",
    "# this function retrieves the peak name of max peaks, min peaks \n",
    "def retrieve_peak_names(diction,top_ind,order):\n",
    "    order_gene_names=[]\n",
    "    for i in top_ind:\n",
    "        order_gene_names.append(diction.get(order)[i])\n",
    "    return order_gene_names"
   ]
  },
  {
   "cell_type": "code",
   "execution_count": 381,
   "metadata": {},
   "outputs": [],
   "source": [
    "#this function inputs a Mallow list, the i'th order, the kth partition, and the num of peaks...\n",
    "#... and outputs a bar-plot of the i'th order effects within gene groupings of k...\n",
    "#...with the max and min peaks colored\n",
    "def color_peaks(MallowList, order, k, n_max_peak, n_min_peak):\n",
    "    # all inputs from helper functions \n",
    "    #f_i = Mallow_f_order(MallowList, order, k)\n",
    "    f_i = MallowList\n",
    "    top_ind = get_n_max(f_i, n_max_peak)\n",
    "    bot_ind = get_n_min(f_i,n_min_peak)\n",
    "    list_names = create_list_names(gene_names,k)\n",
    "    diction = dict_names(list_names)\n",
    "    top_peak_gene_names = retrieve_peak_names(diction, top_ind, order)\n",
    "    top_min_peak_gene_names = retrieve_peak_names(diction, bot_ind, order)\n",
    "   \n",
    "    # the codes below changes the size and location of things\n",
    "    x_axis_1 = np.arange(len(f_i))\n",
    "    \n",
    "    # width changes size of bars\n",
    "    plt.bar(x_axis_1, f_i, width = 0.8, align = 'center', alpha = 0.5)\n",
    "    \n",
    "    # axis\n",
    "    # x label\n",
    "    plt.xlabel('Lexicographical Order of Gene Combinations')\n",
    "    # y label\n",
    "    plt.ylabel('Frequency')\n",
    "    \n",
    "    # plotting\n",
    "    plt.ylim((min(f_i)+30),(max(f_i)+30))\n",
    "    for i in range(len(top_ind)):\n",
    "        plt.bar(top_ind[i],f_i[top_ind[i]], align='center',label=top_peak_gene_names[i])\n",
    "    for j in range(len(bot_ind)):\n",
    "        plt.bar(bot_ind[j],f_i[bot_ind[j]], align='center',label=top_min_peak_gene_names[j])\n",
    "\n",
    "    # change location of legend\n",
    "    plt.legend(bbox_to_anchor=(1.3, 1))\n",
    "    \n",
    "    # naming the plots\n",
    "    if(int(order) == 1):\n",
    "        plt.title('%dst Order Effects Within Groupings of %d Mutations'%(order, k))\n",
    "    elif(int(order) == 2):\n",
    "        plt.title('%dnd Order Effects Within Groupings of %d Mutations'%(order, k))\n",
    "    elif(int(order) == 3):\n",
    "        plt.title('%drd Order Effects Within Groupings of %d Mutations'%(order, k))\n",
    "    else:\n",
    "        plt.title('%dth Order Effects Within Groupings of %d Mutations'%(order, k))\n",
    "        \n",
    "    # save plots\n",
    "    plt.savefig(\"AveragedAND/averaged_%d_Order_13_c_%d.png\"%(order, k), bbox_inches=\"tight\")\n",
    "    \n",
    "    # show plots\n",
    "    plt.show()"
   ]
  },
  {
   "cell_type": "code",
   "execution_count": 89,
   "metadata": {},
   "outputs": [],
   "source": [
    "#change gene names to alphabet names (user friendly)\n",
    "gene_names = [\"A\", \"B\", \"C\", \"D\", \"E\", \"F\", \"G\", \"H\", \"I\", \"J\", \"K\", \"L\", \"M\"]"
   ]
  },
  {
   "cell_type": "code",
   "execution_count": null,
   "metadata": {},
   "outputs": [],
   "source": []
  }
 ],
 "metadata": {
  "kernelspec": {
   "display_name": "Python 3",
   "language": "python",
   "name": "python3"
  },
  "language_info": {
   "codemirror_mode": {
    "name": "ipython",
    "version": 3
   },
   "file_extension": ".py",
   "mimetype": "text/x-python",
   "name": "python",
   "nbconvert_exporter": "python",
   "pygments_lexer": "ipython3",
   "version": "3.6.5"
  }
 },
 "nbformat": 4,
 "nbformat_minor": 2
}
