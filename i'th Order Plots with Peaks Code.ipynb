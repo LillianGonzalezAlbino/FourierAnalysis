{
 "cells": [
  {
   "cell_type": "code",
   "execution_count": 1,
   "metadata": {},
   "outputs": [],
   "source": [
    "import numpy  as  np\n",
    "import  pandas  as  pd \n",
    "from  scipy import special\n",
    "import  scipy\n",
    "import  scipy.linalg\n",
    "import types\n",
    "import math\n",
    "from itertools import combinations\n",
    "from timeit import default_timer as timer \n",
    "import csv\n",
    "import os\n",
    "import sys\n",
    "import matplotlib.pyplot as plt\n",
    "from matplotlib.legend import Legend\n",
    "#os.mkdir(\"plots\")\n",
    "#os.mkdir(\"adj_matrices\")"
   ]
  },
  {
   "cell_type": "code",
   "execution_count": 2,
   "metadata": {},
   "outputs": [
    {
     "name": "stderr",
     "output_type": "stream",
     "text": [
      "/anaconda3/lib/python3.6/site-packages/ipykernel_launcher.py:2: FutureWarning: Method .as_matrix will be removed in a future version. Use .values instead.\n",
      "  \n"
     ]
    }
   ],
   "source": [
    "gene_dat = pd.read_csv('copiedGeneData.csv',index_col='Unnamed: 0',encoding='utf-8')\n",
    "matrix = gene_dat.as_matrix()\n",
    "# getting the exact gene names from csv file \n",
    "gene_dat_no_outcome=(gene_dat.drop(['outcome'],axis=1))\n",
    "gene_names=list(gene_dat_no_outcome.columns.values)"
   ]
  },
  {
   "cell_type": "code",
   "execution_count": 9,
   "metadata": {},
   "outputs": [],
   "source": [
    "#order argument is an int\n",
    "def color_peaks(MallowTuple, order, n_max_peak, n_min_peak):\n",
    "    #inputs for the plot\n",
    "    top_vals=get_n_max(MallowTuple[1][order],n_max_peak)\n",
    "    top_min_vals=get_n_min(MallowTuple[1][order],n_min_peak)\n",
    "    diction=dict_names(list_names)\n",
    "    top_peak_gene_names=retrieve_peak_names(diction, top_vals, MallowTuple[0])\n",
    "    top_min_peak_gene_names=retrieve_peak_names(diction, top_min_vals, MallowTuple[0])\n",
    "   \n",
    "    #the actual plot\n",
    "    x_axis_1 = np.arange(len(MallowTuple[1][order]))\n",
    "    plt.bar(x_axis_1,MallowTuple[1][order], align='center')\n",
    "    plt.title('1st order effects within groupings of 5 mutations')\n",
    "    plt.ylim((min(MallowTuple[1][order])-50),(max(MallowTuple[1][order])+50))\n",
    "    for i in range(len(top_vals)):\n",
    "        plt.bar(top_vals[i],MallowTuple[1][order][top_vals[i]], align='center',label=top_peak_gene_names[i][0])\n",
    "    for j in range(len(top_min_vals)):\n",
    "        plt.bar(top_min_vals[j],MallowTuple[1][order][top_min_vals[j]], align='center',label=top_min_peak_gene_names[j][0])\n",
    "    plt.legend(bbox_to_anchor=(1, 1))\n",
    "    #plt.savefig(\"plots/FirstOrder_13_5.png\",bbox_inches=\"tight\")\n",
    "    plt.show()\n",
    "    return \n",
    "\n",
    "# input: list of gene names,\n",
    "# output: returns a list of lists  \n",
    "def create_list_names(list_names,k):\n",
    "    k= MallowTuple[0]\n",
    "    list_names=[]\n",
    "    # will want to do 1 partition to k+1 since k needs to be included too\n",
    "    for i in range(1,k+1):\n",
    "        list_names.append(alphabet_choose_k(list_names,i))\n",
    "    return list_names\n",
    "\n",
    "# input: list \n",
    "#output: a dictionary which has a key for each list\n",
    "def dict_names(list_names):\n",
    "    #list_names=create_list_names(gene_names,3)\n",
    "    keys=range(1,len(list_names)+1)\n",
    "    #print(keys)\n",
    "    return (dict(zip(keys,list_names)))\n",
    "\n",
    "# output: list of names which correspond to particular combinations of genes (lexigraphical ordering is assumed)\n",
    "#MallowTuple[0] corresponds to kth partition\n",
    "def retrieve_peak_names(diction,top_vals,MallowTuple):\n",
    "    return [diction.get(MallowTuple[0])[i] for i in top_vals]   \n",
    "\n",
    "\n",
    "# input: mallow vectors\n",
    "# output: returns a list of indices which contain max vals\n",
    "def get_n_max(MallowTuple,n):\n",
    "    n = len(MallowTuple[1][order])\n",
    "    indices = MallowTuple.ravel().argsort()[-n:]  #there should be an ERROR message here\n",
    "    top_ind=[i for i in indices]\n",
    "    top_ind.reverse()\n",
    "    return top_ind\n",
    "\n",
    "#similar function as above. Returns list of indices with min vals\n",
    "def get_n_min(MallowTuple,n):\n",
    "    n= len(MallowTuple[1][order])\n",
    "    indices = MallowTuple.ravel().argsort()[:n]\n",
    "    bot_ind=[i for i in indices]\n",
    "    return bot_ind\n",
    "\n",
    "\n",
    "\n",
    "    \n",
    "\n",
    "\n",
    "#top_vals=get_n_max(sec_ord,3)\n",
    "#print(type(top_vals[0]))\n",
    "\n",
    "#top_min_vals=get_n_min(first_ord,3)\n",
    "#print(top_min_vals)\n",
    "\n",
    "#peak_gene_names=retrieve_peak_names(diction,top_vals,1)\n",
    "#peak_gene_names\n",
    "\n",
    "\n",
    "\n",
    "\n"
   ]
  },
  {
   "cell_type": "code",
   "execution_count": 11,
   "metadata": {},
   "outputs": [
    {
     "ename": "NameError",
     "evalue": "name 'order' is not defined",
     "output_type": "error",
     "traceback": [
      "\u001b[0;31m---------------------------------------------------------------------------\u001b[0m",
      "\u001b[0;31mNameError\u001b[0m                                 Traceback (most recent call last)",
      "\u001b[0;32m<ipython-input-11-e2c43bed20e3>\u001b[0m in \u001b[0;36m<module>\u001b[0;34m()\u001b[0m\n\u001b[1;32m      1\u001b[0m \u001b[0mt\u001b[0m\u001b[0;34m=\u001b[0m\u001b[0;34m[\u001b[0m\u001b[0mnp\u001b[0m\u001b[0;34m.\u001b[0m\u001b[0marray\u001b[0m\u001b[0;34m(\u001b[0m\u001b[0;34m[\u001b[0m\u001b[0;36m1\u001b[0m\u001b[0;34m,\u001b[0m\u001b[0;36m2\u001b[0m\u001b[0;34m,\u001b[0m\u001b[0;36m3\u001b[0m\u001b[0;34m]\u001b[0m\u001b[0;34m)\u001b[0m\u001b[0;34m,\u001b[0m \u001b[0mnp\u001b[0m\u001b[0;34m.\u001b[0m\u001b[0marray\u001b[0m\u001b[0;34m(\u001b[0m\u001b[0;34m[\u001b[0m\u001b[0;36m3\u001b[0m\u001b[0;34m,\u001b[0m\u001b[0;36m4\u001b[0m\u001b[0;34m,\u001b[0m\u001b[0;36m5\u001b[0m\u001b[0;34m]\u001b[0m\u001b[0;34m)\u001b[0m\u001b[0;34m]\u001b[0m\u001b[0;34m\u001b[0m\u001b[0m\n\u001b[1;32m      2\u001b[0m \u001b[0mtup\u001b[0m \u001b[0;34m=\u001b[0m \u001b[0;34m(\u001b[0m\u001b[0;36m2\u001b[0m\u001b[0;34m,\u001b[0m\u001b[0mt\u001b[0m\u001b[0;34m)\u001b[0m\u001b[0;34m\u001b[0m\u001b[0m\n\u001b[0;32m----> 3\u001b[0;31m \u001b[0mcolor_peaks\u001b[0m\u001b[0;34m(\u001b[0m\u001b[0mtup\u001b[0m\u001b[0;34m,\u001b[0m \u001b[0;36m1\u001b[0m\u001b[0;34m,\u001b[0m \u001b[0;36m1\u001b[0m\u001b[0;34m,\u001b[0m \u001b[0;36m1\u001b[0m\u001b[0;34m)\u001b[0m\u001b[0;34m\u001b[0m\u001b[0m\n\u001b[0m",
      "\u001b[0;32m<ipython-input-9-335fbc77169a>\u001b[0m in \u001b[0;36mcolor_peaks\u001b[0;34m(MallowTuple, order, n_max_peak, n_min_peak)\u001b[0m\n\u001b[1;32m      2\u001b[0m \u001b[0;32mdef\u001b[0m \u001b[0mcolor_peaks\u001b[0m\u001b[0;34m(\u001b[0m\u001b[0mMallowTuple\u001b[0m\u001b[0;34m,\u001b[0m \u001b[0morder\u001b[0m\u001b[0;34m,\u001b[0m \u001b[0mn_max_peak\u001b[0m\u001b[0;34m,\u001b[0m \u001b[0mn_min_peak\u001b[0m\u001b[0;34m)\u001b[0m\u001b[0;34m:\u001b[0m\u001b[0;34m\u001b[0m\u001b[0m\n\u001b[1;32m      3\u001b[0m     \u001b[0;31m#inputs for the plot\u001b[0m\u001b[0;34m\u001b[0m\u001b[0;34m\u001b[0m\u001b[0m\n\u001b[0;32m----> 4\u001b[0;31m     \u001b[0mtop_vals\u001b[0m\u001b[0;34m=\u001b[0m\u001b[0mget_n_max\u001b[0m\u001b[0;34m(\u001b[0m\u001b[0mMallowTuple\u001b[0m\u001b[0;34m[\u001b[0m\u001b[0;36m1\u001b[0m\u001b[0;34m]\u001b[0m\u001b[0;34m[\u001b[0m\u001b[0morder\u001b[0m\u001b[0;34m]\u001b[0m\u001b[0;34m,\u001b[0m\u001b[0mn_max_peak\u001b[0m\u001b[0;34m)\u001b[0m\u001b[0;34m\u001b[0m\u001b[0m\n\u001b[0m\u001b[1;32m      5\u001b[0m     \u001b[0mtop_min_vals\u001b[0m\u001b[0;34m=\u001b[0m\u001b[0mget_n_min\u001b[0m\u001b[0;34m(\u001b[0m\u001b[0mMallowTuple\u001b[0m\u001b[0;34m[\u001b[0m\u001b[0;36m1\u001b[0m\u001b[0;34m]\u001b[0m\u001b[0;34m[\u001b[0m\u001b[0morder\u001b[0m\u001b[0;34m]\u001b[0m\u001b[0;34m,\u001b[0m\u001b[0mn_min_peak\u001b[0m\u001b[0;34m)\u001b[0m\u001b[0;34m\u001b[0m\u001b[0m\n\u001b[1;32m      6\u001b[0m     \u001b[0mdiction\u001b[0m\u001b[0;34m=\u001b[0m\u001b[0mdict_names\u001b[0m\u001b[0;34m(\u001b[0m\u001b[0mlist_names\u001b[0m\u001b[0;34m)\u001b[0m\u001b[0;34m\u001b[0m\u001b[0m\n",
      "\u001b[0;32m<ipython-input-9-335fbc77169a>\u001b[0m in \u001b[0;36mget_n_max\u001b[0;34m(MallowTuple, n)\u001b[0m\n\u001b[1;32m     49\u001b[0m \u001b[0;31m# output: returns a list of indices which contain max vals\u001b[0m\u001b[0;34m\u001b[0m\u001b[0;34m\u001b[0m\u001b[0m\n\u001b[1;32m     50\u001b[0m \u001b[0;32mdef\u001b[0m \u001b[0mget_n_max\u001b[0m\u001b[0;34m(\u001b[0m\u001b[0mMallowTuple\u001b[0m\u001b[0;34m,\u001b[0m\u001b[0mn\u001b[0m\u001b[0;34m)\u001b[0m\u001b[0;34m:\u001b[0m\u001b[0;34m\u001b[0m\u001b[0m\n\u001b[0;32m---> 51\u001b[0;31m     \u001b[0mn\u001b[0m \u001b[0;34m=\u001b[0m \u001b[0mlen\u001b[0m\u001b[0;34m(\u001b[0m\u001b[0mMallowTuple\u001b[0m\u001b[0;34m[\u001b[0m\u001b[0;36m1\u001b[0m\u001b[0;34m]\u001b[0m\u001b[0;34m[\u001b[0m\u001b[0morder\u001b[0m\u001b[0;34m]\u001b[0m\u001b[0;34m)\u001b[0m\u001b[0;34m\u001b[0m\u001b[0m\n\u001b[0m\u001b[1;32m     52\u001b[0m     \u001b[0mindices\u001b[0m \u001b[0;34m=\u001b[0m \u001b[0mMallowTuple\u001b[0m\u001b[0;34m.\u001b[0m\u001b[0mravel\u001b[0m\u001b[0;34m(\u001b[0m\u001b[0;34m)\u001b[0m\u001b[0;34m.\u001b[0m\u001b[0margsort\u001b[0m\u001b[0;34m(\u001b[0m\u001b[0;34m)\u001b[0m\u001b[0;34m[\u001b[0m\u001b[0;34m-\u001b[0m\u001b[0mn\u001b[0m\u001b[0;34m:\u001b[0m\u001b[0;34m]\u001b[0m  \u001b[0;31m#there should be an ERROR message here\u001b[0m\u001b[0;34m\u001b[0m\u001b[0m\n\u001b[1;32m     53\u001b[0m     \u001b[0mtop_ind\u001b[0m\u001b[0;34m=\u001b[0m\u001b[0;34m[\u001b[0m\u001b[0mi\u001b[0m \u001b[0;32mfor\u001b[0m \u001b[0mi\u001b[0m \u001b[0;32min\u001b[0m \u001b[0mindices\u001b[0m\u001b[0;34m]\u001b[0m\u001b[0;34m\u001b[0m\u001b[0m\n",
      "\u001b[0;31mNameError\u001b[0m: name 'order' is not defined"
     ]
    }
   ],
   "source": [
    "t=[np.array([1,2,3]), np.array([3,4,5])]\n",
    "tup = (2,t)\n",
    "color_peaks(tup, 1, 1, 1)"
   ]
  },
  {
   "cell_type": "code",
   "execution_count": null,
   "metadata": {},
   "outputs": [],
   "source": []
  }
 ],
 "metadata": {
  "kernelspec": {
   "display_name": "Python 3",
   "language": "python",
   "name": "python3"
  },
  "language_info": {
   "codemirror_mode": {
    "name": "ipython",
    "version": 3
   },
   "file_extension": ".py",
   "mimetype": "text/x-python",
   "name": "python",
   "nbconvert_exporter": "python",
   "pygments_lexer": "ipython3",
   "version": "3.6.5"
  }
 },
 "nbformat": 4,
 "nbformat_minor": 2
}
