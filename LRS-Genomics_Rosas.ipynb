{
 "cells": [
  {
   "cell_type": "markdown",
   "metadata": {},
   "source": [
    "Rosa Garza, July 5, 2018 (Day 4)\n"
   ]
  },
  {
   "cell_type": "code",
   "execution_count": 2,
   "metadata": {
    "collapsed": false
   },
   "outputs": [],
   "source": [
    "import numpy as np\n",
    "import matplotlib as mpl\n",
    "import pandas as pd\n",
    "import pylab as plt\n",
    "import csv\n",
    "import os\n",
    "import sys\n",
    "import matplotlib.pyplot as plt\n",
    "#os.mkdir(\"plots\")"
   ]
  },
  {
   "cell_type": "markdown",
   "metadata": {},
   "source": [
    "In order to get help on opening and writing to a new csv file, I used the following link:\n",
    "https://stackoverflow.com/questions/30938840/python-csv-read-file-and-select-columns-and-write-to-new-csv-file"
   ]
  },
  {
   "cell_type": "markdown",
   "metadata": {},
   "source": [
    "as well as the link below: "
   ]
  },
  {
   "cell_type": "markdown",
   "metadata": {},
   "source": [
    "http://www.pythonforbeginners.com/systems-programming/using-the-csv-module-in-python/"
   ]
  },
  {
   "cell_type": "code",
   "execution_count": 3,
   "metadata": {
    "collapsed": false
   },
   "outputs": [],
   "source": [
    "# make sure to have the gene data within your current working directory\n",
    "gene_dat=pd.read_csv('vcf_FA.csv',index_col='Unnamed: 0',encoding='utf-8')\n",
    "matrix=gene_dat.as_matrix()\n",
    "#print(matrix.shape[0])\n",
    "#matrix[0]"
   ]
  },
  {
   "cell_type": "code",
   "execution_count": 4,
   "metadata": {
    "collapsed": false
   },
   "outputs": [],
   "source": [
    "gene_mut=np.zeros((matrix.shape[0],int(np.ceil((matrix.shape[1])/2))))\n",
    "#print(gene_mut.shape)"
   ]
  },
  {
   "cell_type": "code",
   "execution_count": 5,
   "metadata": {
    "collapsed": false
   },
   "outputs": [],
   "source": [
    "# will go through each row (# of observations)\n",
    "for rows in range(matrix.shape[0]):\n",
    "    for cols in range(0,matrix.shape[1]-1,2):\n",
    "        # within those observations, it will go until the 2nd to last column (excludes phenotype)\n",
    "        #sanity check (next 2 lines)\n",
    "        #print('cols val is:',cols)\n",
    "        #print('matrix values are: ',matrix[rows][cols],matrix[rows][cols+1])\n",
    "        #checks to see if either the L or R gene has a mutation\n",
    "        if(matrix[rows][cols]==1 or matrix[rows][cols+1]==1):\n",
    "            #if it does, then in the copied matrix, a 1 will be input\n",
    "            gene_mut[rows][int(cols/2)]=1\n",
    "            #reason for int(cols/2) is to match up indexes with the pairing # that it's on\n",
    "            #ex: 0&1 gene output val. will be in the 0 index of copied matrix\n",
    "            # 2&3 gene output val. will be in the 1 index, 4*6 in the 2nd index\n",
    "        #sanity check of what is being output\n",
    "        #print('copy matrix val is:',gene_mut[rows][int(cols/2)], 'for row:',rows,'for col:',int(cols/2))"
   ]
  },
  {
   "cell_type": "markdown",
   "metadata": {},
   "source": [
    "The line below I created to get the last column of the main matrix and put those values into the last column of the new copied dataset being created."
   ]
  },
  {
   "cell_type": "code",
   "execution_count": 6,
   "metadata": {
    "collapsed": false
   },
   "outputs": [],
   "source": [
    "gene_mut[:,-1]=matrix[:,-1] # gets last column from original matrix, puts it as last column for copied matrix"
   ]
  },
  {
   "cell_type": "markdown",
   "metadata": {},
   "source": [
    "Below was just a sanity check to make sure my code was performing what was needed."
   ]
  },
  {
   "cell_type": "code",
   "execution_count": 6,
   "metadata": {
    "collapsed": false
   },
   "outputs": [
    {
     "data": {
      "text/plain": [
       "array([[   1.,    0.,    1., ...,    1.,    0.,  196.],\n",
       "       [   1.,    1.,    1., ...,    0.,    0.,  173.],\n",
       "       [   1.,    0.,    1., ...,    0.,    1.,  198.],\n",
       "       ..., \n",
       "       [   1.,    0.,    1., ...,    0.,    0.,  168.],\n",
       "       [   1.,    0.,    1., ...,    0.,    0.,  155.],\n",
       "       [   1.,    0.,    1., ...,    0.,    1.,  145.]])"
      ]
     },
     "execution_count": 6,
     "metadata": {},
     "output_type": "execute_result"
    }
   ],
   "source": [
    "#gene_mut"
   ]
  },
  {
   "cell_type": "code",
   "execution_count": 7,
   "metadata": {
    "collapsed": false
   },
   "outputs": [],
   "source": [
    "# getting column names of genes without the L or R\n",
    "names=gene_dat.columns\n",
    "new_colnames=[]\n",
    "for n in range(0,len(names),2):\n",
    "    new_colnames.append(names[n].split(\"-\")[0])\n",
    "#print(new_colnames)"
   ]
  },
  {
   "cell_type": "markdown",
   "metadata": {},
   "source": [
    "For the code below, this helped me,\n",
    "https://stackoverflow.com/questions/11106536/adding-row-column-headers-to-numpy-arrays"
   ]
  },
  {
   "cell_type": "code",
   "execution_count": 19,
   "metadata": {
    "collapsed": false
   },
   "outputs": [],
   "source": [
    "copied_data=pd.DataFrame(gene_mut,index=gene_dat.index,columns=new_colnames)"
   ]
  },
  {
   "cell_type": "code",
   "execution_count": 20,
   "metadata": {
    "collapsed": false
   },
   "outputs": [],
   "source": [
    "copied_data.to_csv(\"copiedGeneData.csv\")"
   ]
  },
  {
   "cell_type": "code",
   "execution_count": 21,
   "metadata": {
    "collapsed": false
   },
   "outputs": [],
   "source": [
    "rdm13=pd.read_csv('copiedGeneData.csv',index_col='Unnamed: 0',encoding='utf-8')\n",
    "rdm13=rdm13.as_matrix()\n"
   ]
  },
  {
   "cell_type": "code",
   "execution_count": 22,
   "metadata": {
    "collapsed": false
   },
   "outputs": [],
   "source": [
    "def num_gene_mutations(raw_data):\n",
    "    n_ones=[]\n",
    "    # 0 to number of total rows\n",
    "    for row in range(0,(raw_data.shape[0])):\n",
    "        #calculating each person's number of gene mutations, excluding last column with phenotype levels\n",
    "        n_ones.append(sum(rdm13[row,:-1]))\n",
    "    return n_ones"
   ]
  },
  {
   "cell_type": "code",
   "execution_count": 23,
   "metadata": {
    "collapsed": false
   },
   "outputs": [],
   "source": [
    "sum_gene_mut=num_gene_mutations(rdm13)\n",
    "#print(sum_gene_mut)\n",
    "#for printing total number of people based on number of gene mutations\n",
    "plt.hist(sum_gene_mut,bins=13)\n",
    "plt.xlabel(\"Total Gene Mutations\")\n",
    "plt.ylabel(\"Total People\")\n",
    "plt.title(\"Histogram of Gene Mutations Based on Reduced Data Set\")\n",
    "plt.savefig(\"plots/SumMutationInfo.png\")\n",
    "#plt.show()\n"
   ]
  },
  {
   "cell_type": "code",
   "execution_count": 24,
   "metadata": {
    "collapsed": false
   },
   "outputs": [],
   "source": [
    "# getting an an array of the opposites. We were looking at the number of 1's within each row (num of mutations\n",
    "#each person had), then we decided to have a matrix which calcualted num of 0's\n",
    "nzeros=13-np.asarray(sum_gene_mut)\n",
    "#print(nzeros)"
   ]
  },
  {
   "cell_type": "code",
   "execution_count": 25,
   "metadata": {
    "collapsed": false
   },
   "outputs": [],
   "source": [
    "# returning matrix of people with 0's that are less than floor(13/2)\n",
    "def minority_0matrix(RDM,n_ones):\n",
    "    col=RDM.shape[1]\n",
    "    zero_mat=[]\n",
    "    #basically 0- number of people\n",
    "    for i in range (0,len(n_ones)):\n",
    "        #if the number of 0's is less than or equal to floor(13/2), meaning more 0s than 1s\n",
    "        if((RDM.shape[1]-1)-n_ones[i]<=np.floor((col-1)/2)):\n",
    "            #we will add that row to a list\n",
    "            zero_mat.append(RDM[i,])\n",
    "    #getting the list and reshaping it to be of #ppl by #columns\n",
    "    return np.array(zero_mat).reshape(len(zero_mat),col)"
   ]
  },
  {
   "cell_type": "code",
   "execution_count": 26,
   "metadata": {
    "collapsed": false
   },
   "outputs": [
    {
     "data": {
      "text/plain": [
       "(21, 14)"
      ]
     },
     "execution_count": 26,
     "metadata": {},
     "output_type": "execute_result"
    }
   ],
   "source": [
    "minority_0matrix(rdm13,nzeros).shape\n",
    "# returns dimension of matrix, meaning there's a matrix 21 x 14 in which these people have 7+ gene mutations\n",
    "# we will be flipping these matrices in the future\n",
    "#rdm13.shape[1]"
   ]
  },
  {
   "cell_type": "markdown",
   "metadata": {},
   "source": [
    "This was the code implemented in order to have Lillian calculate the f_i's for people of 5 mutations."
   ]
  },
  {
   "cell_type": "code",
   "execution_count": 27,
   "metadata": {
    "collapsed": false
   },
   "outputs": [
    {
     "data": {
      "text/plain": [
       "array([[   1.,    0.,    1.,    1.,    1.,    0.,    0.,    0.,    0.,\n",
       "           0.,    0.,    0.,    1.,  198.],\n",
       "       [   1.,    0.,    0.,    1.,    1.,    0.,    1.,    1.,    0.,\n",
       "           0.,    0.,    0.,    0.,  176.],\n",
       "       [   1.,    0.,    0.,    0.,    1.,    1.,    0.,    1.,    0.,\n",
       "           1.,    0.,    0.,    0.,  164.],\n",
       "       [   1.,    0.,    1.,    1.,    0.,    1.,    1.,    0.,    0.,\n",
       "           0.,    0.,    0.,    0.,  149.],\n",
       "       [   1.,    0.,    1.,    1.,    0.,    1.,    1.,    0.,    0.,\n",
       "           0.,    0.,    0.,    0.,  155.]])"
      ]
     },
     "execution_count": 27,
     "metadata": {},
     "output_type": "execute_result"
    }
   ],
   "source": [
    "# matrix in which people have 5 gene mutations in total\n",
    "rdm13[np.asarray(sum_gene_mut)==5]"
   ]
  },
  {
   "cell_type": "markdown",
   "metadata": {},
   "source": [
    "https://stackoverflow.com/questions/16348953/creating-a-folder-and-set-as-working-directory-for-saving-stdout-files-and-image"
   ]
  },
  {
   "cell_type": "code",
   "execution_count": 29,
   "metadata": {
    "collapsed": false
   },
   "outputs": [
    {
     "ename": "FileNotFoundError",
     "evalue": "[Errno 2] No such file or directory: 'adj_matices\\\\filename.txt'",
     "output_type": "error",
     "traceback": [
      "\u001b[0;31m---------------------------------------------------------------------------\u001b[0m",
      "\u001b[0;31mFileNotFoundError\u001b[0m                         Traceback (most recent call last)",
      "\u001b[0;32m<ipython-input-29-7133cec12bf5>\u001b[0m in \u001b[0;36m<module>\u001b[0;34m()\u001b[0m\n\u001b[1;32m      2\u001b[0m \u001b[1;32mimport\u001b[0m \u001b[0mos\u001b[0m\u001b[1;33m\u001b[0m\u001b[0m\n\u001b[1;32m      3\u001b[0m \u001b[1;31m#os.mkdir('adj_matrices')\u001b[0m\u001b[1;33m\u001b[0m\u001b[1;33m\u001b[0m\u001b[0m\n\u001b[0;32m----> 4\u001b[0;31m \u001b[0mfilename\u001b[0m \u001b[1;33m=\u001b[0m \u001b[0mopen\u001b[0m\u001b[1;33m(\u001b[0m\u001b[0mos\u001b[0m\u001b[1;33m.\u001b[0m\u001b[0mpath\u001b[0m\u001b[1;33m.\u001b[0m\u001b[0mjoin\u001b[0m\u001b[1;33m(\u001b[0m\u001b[1;34m'adj_matices'\u001b[0m\u001b[1;33m,\u001b[0m\u001b[1;34m'filename.txt'\u001b[0m\u001b[1;33m)\u001b[0m\u001b[1;33m,\u001b[0m\u001b[1;34m'w'\u001b[0m\u001b[1;33m)\u001b[0m\u001b[1;33m\u001b[0m\u001b[0m\n\u001b[0m\u001b[1;32m      5\u001b[0m \u001b[1;31m#sys.stdout = filename\u001b[0m\u001b[1;33m\u001b[0m\u001b[1;33m\u001b[0m\u001b[0m\n",
      "\u001b[0;31mFileNotFoundError\u001b[0m: [Errno 2] No such file or directory: 'adj_matices\\\\filename.txt'"
     ]
    }
   ],
   "source": [
    "import sys\n",
    "import os\n",
    "#os.mkdir('adj_matrices')\n",
    "filename = open(os.path.join('adj_matices','filename.txt'),'w')\n",
    "#sys.stdout = filename\n"
   ]
  },
  {
   "cell_type": "code",
   "execution_count": 22,
   "metadata": {
    "collapsed": true
   },
   "outputs": [],
   "source": [
    "# Goal for Sunday: make plot of data which goes from # small gene mutations, to greatest number of gene mutations\n",
    "# plot their hemoglobin levels"
   ]
  },
  {
   "cell_type": "markdown",
   "metadata": {},
   "source": [
    "https://stackoverflow.com/questions/15726618/array-indexing-in-python"
   ]
  },
  {
   "cell_type": "code",
   "execution_count": 30,
   "metadata": {
    "collapsed": false
   },
   "outputs": [],
   "source": [
    "tuple_sums=[]\n",
    "for index,element in enumerate(sum_gene_mut):\n",
    "    tuple_sums.append((index,element))\n",
    "#print(tuple_sums)"
   ]
  },
  {
   "cell_type": "code",
   "execution_count": 112,
   "metadata": {
    "collapsed": false
   },
   "outputs": [
    {
     "data": {
      "text/plain": [
       "1"
      ]
     },
     "execution_count": 112,
     "metadata": {},
     "output_type": "execute_result"
    }
   ],
   "source": [
    "#tuple_sums[1][0]"
   ]
  },
  {
   "cell_type": "markdown",
   "metadata": {},
   "source": [
    "https://stackoverflow.com/questions/10695139/sort-a-list-of-tuples-by-2nd-item-integer-value"
   ]
  },
  {
   "cell_type": "code",
   "execution_count": 31,
   "metadata": {
    "collapsed": false
   },
   "outputs": [],
   "source": [
    "#print(sorted(tuple_sums,key=lambda x: x[1]))"
   ]
  },
  {
   "cell_type": "code",
   "execution_count": 32,
   "metadata": {
    "collapsed": false
   },
   "outputs": [],
   "source": [
    "tuple_sums_sorted=sorted(tuple_sums,key=lambda x: x[1])\n",
    "#tuple_sums_sorted"
   ]
  },
  {
   "cell_type": "code",
   "execution_count": 114,
   "metadata": {
    "collapsed": false
   },
   "outputs": [
    {
     "data": {
      "text/plain": [
       "198.0"
      ]
     },
     "execution_count": 114,
     "metadata": {},
     "output_type": "execute_result"
    }
   ],
   "source": [
    "#gene_mut[tuple_sums_sorted[0][0]][-1]"
   ]
  },
  {
   "cell_type": "code",
   "execution_count": 33,
   "metadata": {
    "collapsed": false
   },
   "outputs": [],
   "source": [
    "list_5=[]\n",
    "list_6=[]\n",
    "list_7=[]\n",
    "list_8=[]\n",
    "list_9=[]\n",
    "list_10=[]\n",
    "for i in range(len(tuple_sums_sorted)):\n",
    "    if (tuple_sums[i][1]==5):\n",
    "        list_5.append(tuple_sums_sorted[i])\n",
    "    if (tuple_sums[i][1]==6):\n",
    "        list_6.append(tuple_sums_sorted[i])\n",
    "    if (tuple_sums[i][1]==7):\n",
    "        list_7.append(tuple_sums_sorted[i])\n",
    "    if (tuple_sums[i][1]==8):\n",
    "        list_8.append(tuple_sums_sorted[i])\n",
    "    if (tuple_sums[i][1]==9):\n",
    "        list_9.append(tuple_sums_sorted[i])\n",
    "    if (tuple_sums[i][1]==10):\n",
    "        list_10.append(tuple_sums_sorted[i])\n",
    "    #print(gene_mut[tuple_sums_sorted[i][0]][-1])"
   ]
  },
  {
   "cell_type": "code",
   "execution_count": 36,
   "metadata": {
    "collapsed": false
   },
   "outputs": [],
   "source": [
    "list_5_hemo=[]\n",
    "for i in range(len(list_5)):\n",
    "    list_5_hemo.append(gene_mut[list_5[i][0]][-1])\n",
    "    #print(gene_mut[list_5[i][0]][-1])\n",
    "\n",
    "    \n",
    "plt.scatter(x=range(len(list_5_hemo)),y=list_5_hemo)\n",
    "plt.xlabel(\"Person (Ordering based on appearance in csv)\")\n",
    "plt.ylabel(\"Hemoglobin Level\")\n",
    "plt.title(\"Scatter Plot of People with 5 gene mutations\")\n",
    "plt.savefig(\"plots/HemoLevels_5GM.png\")\n",
    "#plt.show()"
   ]
  },
  {
   "cell_type": "code",
   "execution_count": 37,
   "metadata": {
    "collapsed": false
   },
   "outputs": [],
   "source": [
    "list_6_hemo=[]\n",
    "for i in range(len(list_6)):\n",
    "    list_6_hemo.append(gene_mut[list_6[i][0]][-1])\n",
    "    #print(gene_mut[list_6[i][0]][-1])\n",
    "\n",
    "    \n",
    "plt.scatter(x=range(len(list_6_hemo)),y=list_6_hemo)\n",
    "plt.xlabel(\"Person (Ordering based on appearance in csv)\")\n",
    "plt.ylabel(\"Hemoglobin Level\")\n",
    "plt.title(\"Scatter Plot of People with 6 gene mutations\")\n",
    "plt.savefig(\"plots/HemoLevels_6GM.png\")\n",
    "#plt.show()"
   ]
  },
  {
   "cell_type": "code",
   "execution_count": 38,
   "metadata": {
    "collapsed": false
   },
   "outputs": [],
   "source": [
    "list_7_hemo=[]\n",
    "for i in range(len(list_7)):\n",
    "    list_7_hemo.append(gene_mut[list_7[i][0]][-1])\n",
    "    #print(gene_mut[list_7[i][0]][-1])\n",
    "\n",
    "    \n",
    "plt.scatter(x=range(len(list_7_hemo)),y=list_7_hemo)\n",
    "plt.xlabel(\"Person (Ordering based on appearance in csv)\")\n",
    "plt.ylabel(\"Hemoglobin Level\")\n",
    "plt.title(\"Scatter Plot of People with 7 gene mutations\")\n",
    "plt.savefig(\"plots/HemoLevels_7GM.png\")\n",
    "#plt.show()"
   ]
  },
  {
   "cell_type": "code",
   "execution_count": 39,
   "metadata": {
    "collapsed": false
   },
   "outputs": [],
   "source": [
    "list_8_hemo=[]\n",
    "for i in range(len(list_8)):\n",
    "    list_8_hemo.append(gene_mut[list_8[i][0]][-1])\n",
    "    #print(gene_mut[list_8[i][0]][-1])\n",
    "\n",
    "    \n",
    "plt.scatter(x=range(len(list_8_hemo)),y=list_8_hemo)\n",
    "plt.xlabel(\"Person (Ordering based on appearance in csv)\")\n",
    "plt.ylabel(\"Hemoglobin Level\")\n",
    "plt.title(\"Scatter Plot of People with 8 gene mutations\")\n",
    "plt.savefig(\"plots/HemoLevels_8GM.png\")\n",
    "#plt.show()"
   ]
  },
  {
   "cell_type": "code",
   "execution_count": 40,
   "metadata": {
    "collapsed": false
   },
   "outputs": [],
   "source": [
    "list_9_hemo=[]\n",
    "for i in range(len(list_9)):\n",
    "    list_9_hemo.append(gene_mut[list_9[i][0]][-1])\n",
    "    #print(gene_mut[list_9[i][0]][-1])\n",
    "\n",
    "    \n",
    "plt.scatter(x=range(len(list_9_hemo)),y=list_9_hemo)\n",
    "plt.xlabel(\"Person (Ordering based on appearance in csv)\")\n",
    "plt.ylabel(\"Hemoglobin Level\")\n",
    "plt.title(\"Scatter Plot of People with 9 gene mutations\")\n",
    "plt.savefig(\"plots/HemoLevels_9GM.png\")\n",
    "#plt.show()"
   ]
  },
  {
   "cell_type": "code",
   "execution_count": 41,
   "metadata": {
    "collapsed": false
   },
   "outputs": [],
   "source": [
    "list_10_hemo=[]\n",
    "for i in range(len(list_10)):\n",
    "    list_10_hemo.append(gene_mut[list_10[i][0]][-1])\n",
    "    #print(gene_mut[list_10[i][0]][-1])\n",
    "plt.scatter(x=range(len(list_10_hemo)),y=list_10_hemo)\n",
    "plt.xlabel(\"Person (Ordering based on appearance in csv)\")\n",
    "plt.ylabel(\"Hemoglobin Level\")\n",
    "plt.title(\"Scatter Plot of People with 10 gene mutations\")\n",
    "plt.savefig(\"plots/HemoLevels_10GM.png\")\n",
    "#plt.show()"
   ]
  },
  {
   "cell_type": "markdown",
   "metadata": {},
   "source": [
    "For code below:\n",
    "https://stackoverflow.com/questions/4800811/accessing-a-value-in-a-tuple-that-is-in-a-list"
   ]
  },
  {
   "cell_type": "code",
   "execution_count": 42,
   "metadata": {
    "collapsed": false
   },
   "outputs": [],
   "source": [
    "unique_sum_mut=np.unique([x[1] for x in tuple_sums])"
   ]
  },
  {
   "cell_type": "code",
   "execution_count": 43,
   "metadata": {
    "collapsed": false
   },
   "outputs": [],
   "source": [
    "plt.scatter(x=range(len(list_5_hemo)),y=list_5_hemo,c='red',label=\"5\")\n",
    "plt.scatter(x=range(len(list_6_hemo)),y=list_6_hemo,c='green',label=\"6\")\n",
    "plt.scatter(x=range(len(list_7_hemo)),y=list_7_hemo,c='blue',label=\"7\")\n",
    "plt.scatter(x=range(len(list_8_hemo)),y=list_8_hemo,c='orange',label=\"8\")\n",
    "plt.scatter(x=range(len(list_9_hemo)),y=list_9_hemo,c='cyan',label=\"9\")\n",
    "plt.scatter(x=range(len(list_10_hemo)),y=list_10_hemo,c='magenta',label=\"10\")\n",
    "plt.legend(loc=\"best\",bbox_to_anchor=(1,1),title=\"# Gene Mutations\")\n",
    "plt.ylabel(\"Hemoglobin Level\")\n",
    "plt.title(\"Hemoglobin Level Based on Num. Gene Mutations\")\n",
    "plt.savefig(\"plots/HemoLevels_All.png\",bbox_inches=\"tight\")\n",
    "plt.tight_layout()\n",
    "#plt.show()"
   ]
  },
  {
   "cell_type": "markdown",
   "metadata": {},
   "source": [
    "For help with plotting and colors:\n",
    "https://stackoverflow.com/questions/14885895/color-by-column-values-in-matplotlib"
   ]
  },
  {
   "cell_type": "code",
   "execution_count": null,
   "metadata": {
    "collapsed": true
   },
   "outputs": [],
   "source": []
  },
  {
   "cell_type": "code",
   "execution_count": 45,
   "metadata": {
    "collapsed": false
   },
   "outputs": [],
   "source": [
    "# CODE USED AS GUIDANCE\n",
    "#plt.scatter(x=range(len(tuple_sums)), waterUsage['water_amount'],\\\n",
    "#            c=waterUsage['third_column'], cmap=plt.cm.autumn)"
   ]
  },
  {
   "cell_type": "markdown",
   "metadata": {},
   "source": [
    "https://pythonspot.com/matplotlib-bar-chart/"
   ]
  },
  {
   "cell_type": "code",
   "execution_count": 46,
   "metadata": {
    "collapsed": false
   },
   "outputs": [],
   "source": [
    "first_order_inter=np.asarray([ 518.15384615, -323.84615385,  178.15384615,  354.15384615,\n",
    "         214.15384615,  144.15384615,  156.15384615,   16.15384615,\n",
    "        -323.84615385, -159.84615385, -323.84615385, -323.84615385,\n",
    "        -125.84615385])"
   ]
  },
  {
   "cell_type": "code",
   "execution_count": 51,
   "metadata": {
    "collapsed": false
   },
   "outputs": [],
   "source": [
    "first_order_inter=first_order_inter.round(decimals=3)\n",
    "#first_order_inter"
   ]
  },
  {
   "cell_type": "code",
   "execution_count": 50,
   "metadata": {
    "collapsed": false
   },
   "outputs": [],
   "source": [
    "y_pos = np.arange(len(first_order_inter))\n",
    "#print(min(first_order_inter))\n",
    "\n",
    "plt.bar(y_pos,first_order_inter, align='center')\n",
    "plt.title('1st order effects within groupings of 5 mutations')\n",
    "plt.ylim((min(first_order_inter)-100),(max(first_order_inter)+100))\n",
    "plt.savefig(\"plots/FirstOrder_13_5.png\")\n",
    "#plt.show()"
   ]
  },
  {
   "cell_type": "code",
   "execution_count": 52,
   "metadata": {
    "collapsed": false
   },
   "outputs": [],
   "source": [
    "sec_order_inter=np.asarray([-178.60606061,  140.84848485,  252.84848485,  163.75757576,\n",
    "         119.21212121,  126.84848485,   37.75757576, -178.60606061,\n",
    "         -74.24242424, -178.60606061, -178.60606061,  -52.60606061,\n",
    "         -54.96969697, -118.96969697,  -68.06060606,  -42.60606061,\n",
    "         -46.96969697,    3.93939394,  127.57575758,   67.93939394,\n",
    "         127.57575758,  127.57575758,   55.57575758,  200.48484848,\n",
    "         -52.60606061,   78.84848485,   74.48484848, -178.60606061,\n",
    "         -54.96969697, -114.60606061,  -54.96969697,  -54.96969697,\n",
    "          71.03030303,   59.39393939,   14.84848485,  186.48484848,\n",
    "         -66.60606061, -118.96969697, -178.60606061, -118.96969697,\n",
    "        -118.96969697,    7.03030303,  -74.24242424,  -66.60606061,\n",
    "         148.3030303 ,  -68.06060606,   36.3030303 ,  -68.06060606,\n",
    "         -68.06060606,   57.93939394,   86.84848485,   -2.24242424,\n",
    "         -42.60606061,   61.75757576,  -42.60606061,  -42.60606061,\n",
    "        -114.60606061,    5.39393939,  -46.96969697, -106.60606061,\n",
    "         -46.96969697,  -46.96969697, -118.96969697,    3.93939394,\n",
    "         108.3030303 ,    3.93939394,    3.93939394,  -68.06060606,\n",
    "          67.93939394,  127.57575758,  127.57575758,   55.57575758,\n",
    "          67.93939394,   67.93939394,   -4.06060606,  127.57575758,\n",
    "          55.57575758,   55.57575758])"
   ]
  },
  {
   "cell_type": "code",
   "execution_count": 53,
   "metadata": {
    "collapsed": false
   },
   "outputs": [
    {
     "name": "stdout",
     "output_type": "stream",
     "text": [
      "-178.60606061\n"
     ]
    }
   ],
   "source": [
    "y_pos_2 = np.arange(len(sec_order_inter))\n",
    "print(min(sec_order_inter))\n",
    "\n",
    "plt.bar(y_pos_2,sec_order_inter, align='center')\n",
    "plt.title('2nd order effects within groupings of 5 mutations')\n",
    "plt.ylim((min(sec_order_inter)-100),(max(sec_order_inter)+100))\n",
    "plt.savefig(\"plots/SecOrder_13_5.png\")\n",
    "#plt.show()"
   ]
  },
  {
   "cell_type": "code",
   "execution_count": 54,
   "metadata": {
    "collapsed": true
   },
   "outputs": [],
   "source": [
    "third_order_inter=np.asarray([ -39.16363636,  -74.36363636,  -46.36363636,  -32.36363636,\n",
    "         -34.76363636,   -6.76363636,   61.23636364,   28.43636364,\n",
    "          61.23636364,   61.23636364,   21.63636364,  159.9030303 ,\n",
    "         -14.76363636,   69.9030303 ,   67.5030303 , -107.16363636,\n",
    "         -39.16363636,  -71.96363636,  -39.16363636,  -39.16363636,\n",
    "          53.23636364,   67.36969697,   34.7030303 ,  149.63636364,\n",
    "         -25.03030303,  -74.36363636, -107.16363636,  -74.36363636,\n",
    "         -74.36363636,   18.03636364,  -30.63030303,  -25.03030303,\n",
    "         112.3030303 ,  -46.36363636,   30.16969697,  -46.36363636,\n",
    "         -46.36363636,   46.03636364,   74.3030303 ,    8.96969697,\n",
    "         -32.36363636,   44.16969697,  -32.36363636,  -32.36363636,\n",
    "         -71.96363636,   14.56969697,  -34.76363636,  -67.56363636,\n",
    "         -34.76363636,  -34.76363636,  -74.36363636,   -6.76363636,\n",
    "          69.76969697,   -6.76363636,   -6.76363636,  -46.36363636,\n",
    "          28.43636364,   61.23636364,   61.23636364,   21.63636364,\n",
    "          28.43636364,   28.43636364,  -11.16363636,   61.23636364,\n",
    "          21.63636364,   21.63636364,  -61.03030303,   21.63636364,\n",
    "         -23.03030303,  -21.43030303,   61.23636364,   15.9030303 ,\n",
    "          37.76969697,   15.9030303 ,   15.9030303 ,  -23.6969697 ,\n",
    "         -13.56363636,    0.43636364,  -56.63030303,   26.03636364,\n",
    "          39.36969697,   61.23636364,   39.36969697,   39.36969697,\n",
    "          -0.23030303,   28.43636364,   26.03636364,  -47.2969697 ,\n",
    "          20.7030303 ,  -12.0969697 ,   20.7030303 ,   20.7030303 ,\n",
    "         -18.8969697 ,  -25.96363636,    2.03636364,   11.36969697,\n",
    "         -21.43030303,   11.36969697,   11.36969697,   37.76969697,\n",
    "          -0.36363636,   12.96969697,   34.83636364,   12.96969697,\n",
    "          12.96969697,   39.36969697,   -5.6969697 ,  -38.4969697 ,\n",
    "          -5.6969697 ,   -5.6969697 ,   20.7030303 ,  -29.16363636,\n",
    "         -51.03030303,  -51.03030303,  -24.63030303,  -29.16363636,\n",
    "         -29.16363636,   -2.76363636,  -51.03030303,  -24.63030303,\n",
    "         -24.63030303,   18.03636364,  102.7030303 ,   45.63636364,\n",
    "         -74.36363636,  -61.03030303,  -39.16363636,  -61.03030303,\n",
    "         -61.03030303,   31.36969697,  -71.96363636,  -74.36363636,\n",
    "         -46.36363636,   21.63636364,  -11.16363636,   21.63636364,\n",
    "          21.63636364,  114.03636364,  142.3030303 ,  -32.36363636,\n",
    "         -23.03030303,  -55.83030303,  -23.03030303,  -23.03030303,\n",
    "         -62.63030303,  -34.76363636,  -21.43030303,    0.43636364,\n",
    "         -21.43030303,  -21.43030303,  -61.03030303,   61.23636364,\n",
    "          28.43636364,   61.23636364,   61.23636364,   21.63636364,\n",
    "          37.76969697,   15.9030303 ,   15.9030303 ,  -23.6969697 ,\n",
    "          37.76969697,   37.76969697,   -1.83030303,   15.9030303 ,\n",
    "         -23.6969697 ,  -23.6969697 , -107.16363636,    7.76969697,\n",
    "          35.76969697,  -13.56363636,  -46.36363636,  -13.56363636,\n",
    "         -13.56363636,   78.83636364,  107.1030303 ,  -67.56363636,\n",
    "           0.43636364,  -32.36363636,    0.43636364,    0.43636364,\n",
    "         -39.16363636,   47.36969697,  -56.63030303,  -34.76363636,\n",
    "         -56.63030303,  -56.63030303,  -96.23030303,   26.03636364,\n",
    "          -6.76363636,   26.03636364,   26.03636364,  -13.56363636,\n",
    "          61.23636364,   39.36969697,   39.36969697,   -0.23030303,\n",
    "          61.23636364,   61.23636364,   21.63636364,   39.36969697,\n",
    "          -0.23030303,   -0.23030303,  -67.56363636,   69.76969697,\n",
    "          28.43636364,  104.96969697,   28.43636364,   28.43636364,\n",
    "         -11.16363636,   75.36969697,   26.03636364,   -6.76363636,\n",
    "          26.03636364,   26.03636364,  -13.56363636,  -47.2969697 ,\n",
    "          29.23636364,  -47.2969697 ,  -47.2969697 ,  -86.8969697 ,\n",
    "         -12.0969697 ,   20.7030303 ,   20.7030303 ,  -18.8969697 ,\n",
    "         -12.0969697 ,  -12.0969697 ,  -51.6969697 ,   20.7030303 ,\n",
    "         -18.8969697 ,  -18.8969697 ,  -93.96363636,  -25.96363636,\n",
    "         -58.76363636,  -25.96363636,  -25.96363636,    0.43636364,\n",
    "           2.03636364,   78.56969697,    2.03636364,    2.03636364,\n",
    "          28.43636364,  -21.43030303,   11.36969697,   11.36969697,\n",
    "          37.76969697,  -21.43030303,  -21.43030303,    4.96969697,\n",
    "          11.36969697,   37.76969697,   37.76969697,   -0.36363636,\n",
    "         -33.16363636,   -0.36363636,   -0.36363636,   26.03636364,\n",
    "          34.83636364,   12.96969697,   12.96969697,   39.36969697,\n",
    "          34.83636364,   34.83636364,   61.23636364,   12.96969697,\n",
    "          39.36969697,   39.36969697,  -38.4969697 ,   -5.6969697 ,\n",
    "          -5.6969697 ,   20.7030303 ,  -38.4969697 ,  -38.4969697 ,\n",
    "         -12.0969697 ,   -5.6969697 ,   20.7030303 ,   20.7030303 ,\n",
    "         -29.16363636,  -29.16363636,   -2.76363636,  -51.03030303,\n",
    "         -24.63030303,  -24.63030303,  -29.16363636,   -2.76363636,\n",
    "          -2.76363636,  -24.63030303])"
   ]
  },
  {
   "cell_type": "code",
   "execution_count": 55,
   "metadata": {
    "collapsed": false
   },
   "outputs": [
    {
     "name": "stdout",
     "output_type": "stream",
     "text": [
      "-107.16363636\n"
     ]
    }
   ],
   "source": [
    "y_pos_3 = np.arange(len(third_order_inter))\n",
    "print(min(third_order_inter))\n",
    "\n",
    "plt.bar(y_pos_3,third_order_inter, align='center')\n",
    "plt.title('3rd order effects within groupings of 5 mutations')\n",
    "plt.ylim((min(third_order_inter)-50),(max(third_order_inter)+50))\n",
    "plt.savefig(\"plots/ThirdOrder_13_5.png\")\n",
    "#plt.show()"
   ]
  },
  {
   "cell_type": "code",
   "execution_count": 56,
   "metadata": {
    "collapsed": true
   },
   "outputs": [],
   "source": [
    "fourth_order_inter=np.asarray([ -3.94523810e+01,   6.50000000e+00,  -1.65952381e+01,\n",
    "         -1.58809524e+01,   3.00714286e+01,   9.83333333e+00,\n",
    "          1.95952381e+01,   9.83333333e+00,   9.83333333e+00,\n",
    "         -1.37380952e+01,  -1.44523810e+01,  -6.11904762e+00,\n",
    "         -3.68333333e+01,   9.11904762e+00,   2.03095238e+01,\n",
    "          3.00714286e+01,   2.03095238e+01,   2.03095238e+01,\n",
    "         -3.26190476e+00,   1.05476190e+01,   9.11904762e+00,\n",
    "         -2.85000000e+01,   1.19761905e+01,  -7.54761905e+00,\n",
    "          1.19761905e+01,   1.19761905e+01,  -1.15952381e+01,\n",
    "         -1.79047619e+01,  -1.23809524e+00,   7.80952381e+00,\n",
    "         -1.17142857e+01,   7.80952381e+00,   7.80952381e+00,\n",
    "          1.95952381e+01,  -2.66666667e+00,   8.52380952e+00,\n",
    "          1.82857143e+01,   8.52380952e+00,   8.52380952e+00,\n",
    "          2.03095238e+01,   1.90476190e-01,  -1.93333333e+01,\n",
    "          1.90476190e-01,   1.90476190e-01,   1.19761905e+01,\n",
    "         -1.02857143e+01,  -2.00476190e+01,  -2.00476190e+01,\n",
    "         -8.26190476e+00,  -1.02857143e+01,  -1.02857143e+01,\n",
    "          1.50000000e+00,  -2.00476190e+01,  -8.26190476e+00,\n",
    "         -8.26190476e+00,   3.18571429e+01,   9.69761905e+01,\n",
    "          6.62619048e+01,  -5.06428571e+01,  -3.94523810e+01,\n",
    "         -2.96904762e+01,  -3.94523810e+01,  -3.94523810e+01,\n",
    "          4.30476190e+01,  -4.92142857e+01,  -5.06428571e+01,\n",
    "         -3.39761905e+01,   6.50000000e+00,  -1.30238095e+01,\n",
    "          6.50000000e+00,   6.50000000e+00,   8.90000000e+01,\n",
    "          1.20547619e+02,  -2.56428571e+01,  -1.65952381e+01,\n",
    "         -3.61190476e+01,  -1.65952381e+01,  -1.65952381e+01,\n",
    "         -4.01666667e+01,  -2.70714286e+01,  -1.58809524e+01,\n",
    "         -6.11904762e+00,  -1.58809524e+01,  -1.58809524e+01,\n",
    "         -3.94523810e+01,   3.00714286e+01,   1.05476190e+01,\n",
    "          3.00714286e+01,   3.00714286e+01,   6.50000000e+00,\n",
    "          1.95952381e+01,   9.83333333e+00,   9.83333333e+00,\n",
    "         -1.37380952e+01,   1.95952381e+01,   1.95952381e+01,\n",
    "         -3.97619048e+00,   9.83333333e+00,  -1.37380952e+01,\n",
    "         -1.37380952e+01,  -7.01666667e+01,   2.26904762e+01,\n",
    "          3.93571429e+01,  -1.44523810e+01,  -3.39761905e+01,\n",
    "         -1.44523810e+01,  -1.44523810e+01,   6.80476190e+01,\n",
    "          9.95952381e+01,  -4.65952381e+01,  -6.11904762e+00,\n",
    "         -2.56428571e+01,  -6.11904762e+00,  -6.11904762e+00,\n",
    "         -2.96904762e+01,   4.62619048e+01,  -3.68333333e+01,\n",
    "         -2.70714286e+01,  -3.68333333e+01,  -3.68333333e+01,\n",
    "         -6.04047619e+01,   9.11904762e+00,  -1.04047619e+01,\n",
    "          9.11904762e+00,   9.11904762e+00,  -1.44523810e+01,\n",
    "          3.00714286e+01,   2.03095238e+01,   2.03095238e+01,\n",
    "         -3.26190476e+00,   3.00714286e+01,   3.00714286e+01,\n",
    "          6.50000000e+00,   2.03095238e+01,  -3.26190476e+00,\n",
    "         -3.26190476e+00,  -4.65952381e+01,   5.79285714e+01,\n",
    "          1.05476190e+01,   7.88809524e+01,   1.05476190e+01,\n",
    "          1.05476190e+01,  -1.30238095e+01,   6.29285714e+01,\n",
    "          9.11904762e+00,  -1.04047619e+01,   9.11904762e+00,\n",
    "          9.11904762e+00,  -1.44523810e+01,  -2.85000000e+01,\n",
    "          3.98333333e+01,  -2.85000000e+01,  -2.85000000e+01,\n",
    "         -5.20714286e+01,  -7.54761905e+00,   1.19761905e+01,\n",
    "          1.19761905e+01,  -1.15952381e+01,  -7.54761905e+00,\n",
    "         -7.54761905e+00,  -3.11190476e+01,   1.19761905e+01,\n",
    "         -1.15952381e+01,  -1.15952381e+01,  -5.83809524e+01,\n",
    "         -1.79047619e+01,  -3.74285714e+01,  -1.79047619e+01,\n",
    "         -1.79047619e+01,  -6.11904762e+00,  -1.23809524e+00,\n",
    "          6.70952381e+01,  -1.23809524e+00,  -1.23809524e+00,\n",
    "          1.05476190e+01,  -1.17142857e+01,   7.80952381e+00,\n",
    "          7.80952381e+00,   1.95952381e+01,  -1.17142857e+01,\n",
    "         -1.17142857e+01,   7.14285714e-02,   7.80952381e+00,\n",
    "          1.95952381e+01,   1.95952381e+01,  -2.66666667e+00,\n",
    "         -2.21904762e+01,  -2.66666667e+00,  -2.66666667e+00,\n",
    "          9.11904762e+00,   1.82857143e+01,   8.52380952e+00,\n",
    "          8.52380952e+00,   2.03095238e+01,   1.82857143e+01,\n",
    "          1.82857143e+01,   3.00714286e+01,   8.52380952e+00,\n",
    "          2.03095238e+01,   2.03095238e+01,  -1.93333333e+01,\n",
    "          1.90476190e-01,   1.90476190e-01,   1.19761905e+01,\n",
    "         -1.93333333e+01,  -1.93333333e+01,  -7.54761905e+00,\n",
    "          1.90476190e-01,   1.19761905e+01,   1.19761905e+01,\n",
    "         -1.02857143e+01,  -1.02857143e+01,   1.50000000e+00,\n",
    "         -2.00476190e+01,  -8.26190476e+00,  -8.26190476e+00,\n",
    "         -1.02857143e+01,   1.50000000e+00,   1.50000000e+00,\n",
    "         -8.26190476e+00,  -3.26190476e+00,  -2.63571429e+01,\n",
    "         -8.07142857e+00,   2.03095238e+01,   1.76428571e+01,\n",
    "          9.83333333e+00,   1.76428571e+01,   1.76428571e+01,\n",
    "         -5.92857143e+00,   1.95952381e+01,   2.03095238e+01,\n",
    "          1.19761905e+01,  -8.26190476e+00,   1.50000000e+00,\n",
    "         -8.26190476e+00,  -8.26190476e+00,  -3.18333333e+01,\n",
    "         -3.81428571e+01,   7.80952381e+00,   6.42857143e+00,\n",
    "          1.61904762e+01,   6.42857143e+00,   6.42857143e+00,\n",
    "          1.82142857e+01,   8.52380952e+00,   5.85714286e+00,\n",
    "         -1.95238095e+00,   5.85714286e+00,   5.85714286e+00,\n",
    "          1.76428571e+01,  -2.00476190e+01,  -1.02857143e+01,\n",
    "         -2.00476190e+01,  -2.00476190e+01,  -8.26190476e+00,\n",
    "         -1.16666667e+01,  -3.85714286e+00,  -3.85714286e+00,\n",
    "          7.92857143e+00,  -1.16666667e+01,  -1.16666667e+01,\n",
    "          1.19047619e-01,  -3.85714286e+00,   7.92857143e+00,\n",
    "          7.92857143e+00,   3.00714286e+01,  -6.42857143e-01,\n",
    "         -8.97619048e+00,   2.21428571e+00,   1.19761905e+01,\n",
    "          2.21428571e+00,   2.21428571e+00,  -2.13571429e+01,\n",
    "         -2.76666667e+01,   1.82857143e+01,  -1.95238095e+00,\n",
    "          7.80952381e+00,  -1.95238095e+00,  -1.95238095e+00,\n",
    "          9.83333333e+00,  -1.24285714e+01,   1.63333333e+01,\n",
    "          8.52380952e+00,   1.63333333e+01,   1.63333333e+01,\n",
    "          2.81190476e+01,  -9.57142857e+00,   1.90476190e-01,\n",
    "         -9.57142857e+00,  -9.57142857e+00,   2.21428571e+00,\n",
    "         -2.00476190e+01,  -1.22380952e+01,  -1.22380952e+01,\n",
    "         -4.52380952e-01,  -2.00476190e+01,  -2.00476190e+01,\n",
    "         -8.26190476e+00,  -1.22380952e+01,  -4.52380952e-01,\n",
    "         -4.52380952e-01,   1.82857143e+01,  -1.93333333e+01,\n",
    "         -1.02857143e+01,  -2.98095238e+01,  -1.02857143e+01,\n",
    "         -1.02857143e+01,   1.50000000e+00,  -2.07619048e+01,\n",
    "         -9.57142857e+00,   1.90476190e-01,  -9.57142857e+00,\n",
    "         -9.57142857e+00,   2.21428571e+00,   1.46666667e+01,\n",
    "         -4.85714286e+00,   1.46666667e+01,   1.46666667e+01,\n",
    "          2.64523810e+01,   4.19047619e+00,  -5.57142857e+00,\n",
    "         -5.57142857e+00,   6.21428571e+00,   4.19047619e+00,\n",
    "          4.19047619e+00,   1.59761905e+01,  -5.57142857e+00,\n",
    "          6.21428571e+00,   6.21428571e+00,   2.77142857e+01,\n",
    "          7.47619048e+00,   1.72380952e+01,   7.47619048e+00,\n",
    "          7.47619048e+00,  -1.95238095e+00,  -8.57142857e-01,\n",
    "         -2.03809524e+01,  -8.57142857e-01,  -8.57142857e-01,\n",
    "         -1.02857143e+01,   7.52380952e+00,  -2.23809524e+00,\n",
    "         -2.23809524e+00,  -1.16666667e+01,   7.52380952e+00,\n",
    "          7.52380952e+00,  -1.90476190e+00,  -2.23809524e+00,\n",
    "         -1.16666667e+01,  -1.16666667e+01,  -1.42857143e-01,\n",
    "          9.61904762e+00,  -1.42857143e-01,  -1.42857143e-01,\n",
    "         -9.57142857e+00,  -1.06190476e+01,  -2.80952381e+00,\n",
    "         -2.80952381e+00,  -1.22380952e+01,  -1.06190476e+01,\n",
    "         -1.06190476e+01,  -2.00476190e+01,  -2.80952381e+00,\n",
    "         -1.22380952e+01,  -1.22380952e+01,   1.36190476e+01,\n",
    "          3.85714286e+00,   3.85714286e+00,  -5.57142857e+00,\n",
    "          1.36190476e+01,   1.36190476e+01,   4.19047619e+00,\n",
    "          3.85714286e+00,  -5.57142857e+00,  -5.57142857e+00,\n",
    "          1.22380952e+01,   1.22380952e+01,   2.80952381e+00,\n",
    "          2.00476190e+01,   1.06190476e+01,   1.06190476e+01,\n",
    "          1.22380952e+01,   2.80952381e+00,   2.80952381e+00,\n",
    "          1.06190476e+01,  -2.96904762e+01,  -6.04047619e+01,\n",
    "         -1.44523810e+01,  -3.26190476e+00,   6.50000000e+00,\n",
    "         -3.26190476e+00,  -3.26190476e+00,   7.92380952e+01,\n",
    "          1.10785714e+02,  -6.11904762e+00,  -2.63571429e+01,\n",
    "         -1.65952381e+01,  -2.63571429e+01,  -2.63571429e+01,\n",
    "         -4.99285714e+01,  -3.68333333e+01,  -8.07142857e+00,\n",
    "         -1.58809524e+01,  -8.07142857e+00,  -8.07142857e+00,\n",
    "         -3.16428571e+01,   2.03095238e+01,   3.00714286e+01,\n",
    "          2.03095238e+01,   2.03095238e+01,  -3.26190476e+00,\n",
    "          9.83333333e+00,   1.76428571e+01,   1.76428571e+01,\n",
    "         -5.92857143e+00,   9.83333333e+00,   9.83333333e+00,\n",
    "         -1.37380952e+01,   1.76428571e+01,  -5.92857143e+00,\n",
    "         -5.92857143e+00,  -6.11904762e+00,   1.05476190e+01,\n",
    "          1.95952381e+01,   7.14285714e-02,   1.95952381e+01,\n",
    "          1.95952381e+01,  -3.97619048e+00,   9.11904762e+00,\n",
    "          2.03095238e+01,   3.00714286e+01,   2.03095238e+01,\n",
    "          2.03095238e+01,  -3.26190476e+00,   1.19761905e+01,\n",
    "         -7.54761905e+00,   1.19761905e+01,   1.19761905e+01,\n",
    "         -1.15952381e+01,   1.50000000e+00,  -8.26190476e+00,\n",
    "         -8.26190476e+00,  -3.18333333e+01,   1.50000000e+00,\n",
    "          1.50000000e+00,  -2.20714286e+01,  -8.26190476e+00,\n",
    "         -3.18333333e+01,  -3.18333333e+01,  -1.79047619e+01,\n",
    "         -3.81428571e+01,  -2.83809524e+01,  -3.81428571e+01,\n",
    "         -3.81428571e+01,  -2.63571429e+01,   7.80952381e+00,\n",
    "         -1.17142857e+01,   7.80952381e+00,   7.80952381e+00,\n",
    "          1.95952381e+01,   1.61904762e+01,   6.42857143e+00,\n",
    "          6.42857143e+00,   1.82142857e+01,   1.61904762e+01,\n",
    "          1.61904762e+01,   2.79761905e+01,   6.42857143e+00,\n",
    "          1.82142857e+01,   1.82142857e+01,   8.52380952e+00,\n",
    "          1.82857143e+01,   8.52380952e+00,   8.52380952e+00,\n",
    "          2.03095238e+01,  -1.95238095e+00,   5.85714286e+00,\n",
    "          5.85714286e+00,   1.76428571e+01,  -1.95238095e+00,\n",
    "         -1.95238095e+00,   9.83333333e+00,   5.85714286e+00,\n",
    "          1.76428571e+01,   1.76428571e+01,  -1.02857143e+01,\n",
    "         -2.00476190e+01,  -2.00476190e+01,  -8.26190476e+00,\n",
    "         -1.02857143e+01,  -1.02857143e+01,   1.50000000e+00,\n",
    "         -2.00476190e+01,  -8.26190476e+00,  -8.26190476e+00,\n",
    "         -1.16666667e+01,  -1.16666667e+01,   1.19047619e-01,\n",
    "         -3.85714286e+00,   7.92857143e+00,   7.92857143e+00,\n",
    "         -1.16666667e+01,   1.19047619e-01,   1.19047619e-01,\n",
    "          7.92857143e+00,  -2.70714286e+01,  -1.04047619e+01,\n",
    "          3.00714286e+01,   1.05476190e+01,   3.00714286e+01,\n",
    "          3.00714286e+01,   6.50000000e+00,   8.24523810e+01,\n",
    "         -6.42857143e-01,   9.11904762e+00,  -6.42857143e-01,\n",
    "         -6.42857143e-01,  -2.42142857e+01,  -8.97619048e+00,\n",
    "         -2.85000000e+01,  -8.97619048e+00,  -8.97619048e+00,\n",
    "         -3.25476190e+01,   1.19761905e+01,   2.21428571e+00,\n",
    "          2.21428571e+00,  -2.13571429e+01,   1.19761905e+01,\n",
    "          1.19761905e+01,  -1.15952381e+01,   2.21428571e+00,\n",
    "         -2.13571429e+01,  -2.13571429e+01,  -3.88571429e+01,\n",
    "         -2.76666667e+01,  -1.79047619e+01,  -2.76666667e+01,\n",
    "         -2.76666667e+01,  -1.58809524e+01,   1.82857143e+01,\n",
    "         -1.23809524e+00,   1.82857143e+01,   1.82857143e+01,\n",
    "          3.00714286e+01,   7.80952381e+00,  -1.95238095e+00,\n",
    "         -1.95238095e+00,   9.83333333e+00,   7.80952381e+00,\n",
    "          7.80952381e+00,   1.95952381e+01,  -1.95238095e+00,\n",
    "          9.83333333e+00,   9.83333333e+00,  -1.24285714e+01,\n",
    "         -2.66666667e+00,  -1.24285714e+01,  -1.24285714e+01,\n",
    "         -6.42857143e-01,   8.52380952e+00,   1.63333333e+01,\n",
    "          1.63333333e+01,   2.81190476e+01,   8.52380952e+00,\n",
    "          8.52380952e+00,   2.03095238e+01,   1.63333333e+01,\n",
    "          2.81190476e+01,   2.81190476e+01,   1.90476190e-01,\n",
    "         -9.57142857e+00,  -9.57142857e+00,   2.21428571e+00,\n",
    "          1.90476190e-01,   1.90476190e-01,   1.19761905e+01,\n",
    "         -9.57142857e+00,   2.21428571e+00,   2.21428571e+00,\n",
    "         -2.00476190e+01,  -2.00476190e+01,  -8.26190476e+00,\n",
    "         -1.22380952e+01,  -4.52380952e-01,  -4.52380952e-01,\n",
    "         -2.00476190e+01,  -8.26190476e+00,  -8.26190476e+00,\n",
    "         -4.52380952e-01,  -2.21904762e+01,   1.82857143e+01,\n",
    "         -1.23809524e+00,   1.82857143e+01,   1.82857143e+01,\n",
    "          3.00714286e+01,  -1.93333333e+01,   4.90000000e+01,\n",
    "         -1.93333333e+01,  -1.93333333e+01,  -7.54761905e+00,\n",
    "         -2.98095238e+01,  -1.02857143e+01,  -1.02857143e+01,\n",
    "          1.50000000e+00,  -2.98095238e+01,  -2.98095238e+01,\n",
    "         -1.80238095e+01,  -1.02857143e+01,   1.50000000e+00,\n",
    "          1.50000000e+00,  -2.07619048e+01,  -4.02857143e+01,\n",
    "         -2.07619048e+01,  -2.07619048e+01,  -8.97619048e+00,\n",
    "          1.90476190e-01,  -9.57142857e+00,  -9.57142857e+00,\n",
    "          2.21428571e+00,   1.90476190e-01,   1.90476190e-01,\n",
    "          1.19761905e+01,  -9.57142857e+00,   2.21428571e+00,\n",
    "          2.21428571e+00,  -4.85714286e+00,   1.46666667e+01,\n",
    "          1.46666667e+01,   2.64523810e+01,  -4.85714286e+00,\n",
    "         -4.85714286e+00,   6.92857143e+00,   1.46666667e+01,\n",
    "          2.64523810e+01,   2.64523810e+01,   4.19047619e+00,\n",
    "          4.19047619e+00,   1.59761905e+01,  -5.57142857e+00,\n",
    "          6.21428571e+00,   6.21428571e+00,   4.19047619e+00,\n",
    "          1.59761905e+01,   1.59761905e+01,   6.21428571e+00,\n",
    "          2.77142857e+01,   8.19047619e+00,   2.77142857e+01,\n",
    "          2.77142857e+01,   1.82857143e+01,   1.72380952e+01,\n",
    "          7.47619048e+00,   7.47619048e+00,  -1.95238095e+00,\n",
    "          1.72380952e+01,   1.72380952e+01,   7.80952381e+00,\n",
    "          7.47619048e+00,  -1.95238095e+00,  -1.95238095e+00,\n",
    "         -2.03809524e+01,  -8.57142857e-01,  -8.57142857e-01,\n",
    "         -1.02857143e+01,  -2.03809524e+01,  -2.03809524e+01,\n",
    "         -2.98095238e+01,  -8.57142857e-01,  -1.02857143e+01,\n",
    "         -1.02857143e+01,   7.52380952e+00,   7.52380952e+00,\n",
    "         -1.90476190e+00,  -2.23809524e+00,  -1.16666667e+01,\n",
    "         -1.16666667e+01,   7.52380952e+00,  -1.90476190e+00,\n",
    "         -1.90476190e+00,  -1.16666667e+01,   9.61904762e+00,\n",
    "         -1.42857143e-01,  -1.42857143e-01,  -9.57142857e+00,\n",
    "          9.61904762e+00,   9.61904762e+00,   1.90476190e-01,\n",
    "         -1.42857143e-01,  -9.57142857e+00,  -9.57142857e+00,\n",
    "         -1.06190476e+01,  -1.06190476e+01,  -2.00476190e+01,\n",
    "         -2.80952381e+00,  -1.22380952e+01,  -1.22380952e+01,\n",
    "         -1.06190476e+01,  -2.00476190e+01,  -2.00476190e+01,\n",
    "         -1.22380952e+01,   1.36190476e+01,   1.36190476e+01,\n",
    "          4.19047619e+00,   3.85714286e+00,  -5.57142857e+00,\n",
    "         -5.57142857e+00,   1.36190476e+01,   4.19047619e+00,\n",
    "          4.19047619e+00,  -5.57142857e+00,   1.22380952e+01,\n",
    "          2.80952381e+00,   2.80952381e+00,   1.06190476e+01,\n",
    "          2.80952381e+00])"
   ]
  },
  {
   "cell_type": "code",
   "execution_count": 57,
   "metadata": {
    "collapsed": false
   },
   "outputs": [
    {
     "name": "stdout",
     "output_type": "stream",
     "text": [
      "-70.1666667\n"
     ]
    }
   ],
   "source": [
    "y_pos_4 = np.arange(len(fourth_order_inter))\n",
    "print(min(fourth_order_inter))\n",
    "\n",
    "plt.bar(y_pos_4,fourth_order_inter, align='center')\n",
    "plt.title('4th order effects within groupings of 5 mutations')\n",
    "plt.ylim((min(fourth_order_inter)-50),(max(fourth_order_inter)+50))\n",
    "plt.savefig(\"plots/FourthOrder_13_5.png\")\n",
    "#plt.show()"
   ]
  }
 ],
 "metadata": {
  "kernelspec": {
   "display_name": "Python 3",
   "language": "python",
   "name": "python3"
  },
  "language_info": {
   "codemirror_mode": {
    "name": "ipython",
    "version": 3
   },
   "file_extension": ".py",
   "mimetype": "text/x-python",
   "name": "python",
   "nbconvert_exporter": "python",
   "pygments_lexer": "ipython3",
   "version": "3.6.0"
  }
 },
 "nbformat": 4,
 "nbformat_minor": 2
}
