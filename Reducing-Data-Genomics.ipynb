{
 "cells": [
  {
   "cell_type": "markdown",
   "metadata": {},
   "source": [
    "Rosa Garza, July 5, 2018 (Day 4)\n"
   ]
  },
  {
   "cell_type": "code",
   "execution_count": 382,
   "metadata": {
    "collapsed": false
   },
   "outputs": [],
   "source": [
    "import numpy as np\n",
    "import matplotlib as mpl\n",
    "import pandas as pd\n",
    "import pylab as plt\n",
    "import csv"
   ]
  },
  {
   "cell_type": "code",
   "execution_count": 384,
   "metadata": {
    "collapsed": false
   },
   "outputs": [],
   "source": [
    "gene_dat=pd.read_csv('vcf_FA.csv',index_col='Unnamed: 0',encoding='utf-8')\n",
    "matrix=gene_dat.as_matrix()\n",
    "#print(matrix.shape[0])\n",
    "#matrix[0]"
   ]
  },
  {
   "cell_type": "code",
   "execution_count": 385,
   "metadata": {
    "collapsed": false
   },
   "outputs": [],
   "source": [
    "gene_mut=np.zeros((matrix.shape[0],int(np.ceil((matrix.shape[1])/2))))\n",
    "#print(gene_mut.shape)"
   ]
  },
  {
   "cell_type": "code",
   "execution_count": 386,
   "metadata": {
    "collapsed": false
   },
   "outputs": [],
   "source": [
    "# will go through each row (# of observations)\n",
    "for rows in range(matrix.shape[0]):\n",
    "    for cols in range(0,matrix.shape[1]-1,2):\n",
    "        # within those observations, it will go until the 2nd to last column (excludes phenotype)\n",
    "        #sanity check (next 2 lines)\n",
    "        #print('cols val is:',cols)\n",
    "        #print('matrix values are: ',matrix[rows][cols],matrix[rows][cols+1])\n",
    "        #checks to see if either the L or R gene has a mutation\n",
    "        if(matrix[rows][cols]==1 or matrix[rows][cols+1]==1):\n",
    "            #if it does, then in the copied matrix, a 1 will be input\n",
    "            gene_mut[rows][int(cols/2)]=1\n",
    "            #reason for int(cols/2) is to match up indexes with the pairing # that it's on\n",
    "            #ex: 0&1 gene output val. will be in the 0 index of copied matrix\n",
    "            # 2&3 gene output val. will be in the 1 index, 4*6 in the 2nd index\n",
    "        #sanity check of what is being output\n",
    "        #print('copy matrix val is:',gene_mut[rows][int(cols/2)], 'for row:',rows,'for col:',int(cols/2))"
   ]
  },
  {
   "cell_type": "code",
   "execution_count": 387,
   "metadata": {
    "collapsed": false
   },
   "outputs": [],
   "source": [
    "gene_mut[:,-1]=matrix[:,-1] # gets last column from original matrix, puts it as last column for copied matrix"
   ]
  },
  {
   "cell_type": "code",
   "execution_count": 388,
   "metadata": {
    "collapsed": false
   },
   "outputs": [
    {
     "data": {
      "text/plain": [
       "array([[   1.,    0.,    1., ...,    1.,    0.,  196.],\n",
       "       [   1.,    1.,    1., ...,    0.,    0.,  173.],\n",
       "       [   1.,    0.,    1., ...,    0.,    1.,  198.],\n",
       "       ..., \n",
       "       [   1.,    0.,    1., ...,    0.,    0.,  168.],\n",
       "       [   1.,    0.,    1., ...,    0.,    0.,  155.],\n",
       "       [   1.,    0.,    1., ...,    0.,    1.,  145.]])"
      ]
     },
     "execution_count": 388,
     "metadata": {},
     "output_type": "execute_result"
    }
   ],
   "source": [
    "gene_mut"
   ]
  },
  {
   "cell_type": "markdown",
   "metadata": {},
   "source": [
    "In order to get help on opening and writing to a new csv file, I used the following link:\n",
    "https://stackoverflow.com/questions/30938840/python-csv-read-file-and-select-columns-and-write-to-new-csv-file"
   ]
  },
  {
   "cell_type": "markdown",
   "metadata": {},
   "source": [
    "as well as the link below: "
   ]
  },
  {
   "cell_type": "markdown",
   "metadata": {},
   "source": [
    "http://www.pythonforbeginners.com/systems-programming/using-the-csv-module-in-python/"
   ]
  },
  {
   "cell_type": "code",
   "execution_count": 390,
   "metadata": {
    "collapsed": false
   },
   "outputs": [],
   "source": [
    "# getting column names of genes without the L or R\n",
    "names=gene_dat.columns\n",
    "new_colnames=[]\n",
    "for n in range(0,len(names),2):\n",
    "    new_colnames.append(names[n].split(\"-\")[0])\n",
    "#print(new_colnames)"
   ]
  },
  {
   "cell_type": "markdown",
   "metadata": {},
   "source": [
    "For the code below, this helped me,\n",
    "https://stackoverflow.com/questions/11106536/adding-row-column-headers-to-numpy-arrays"
   ]
  },
  {
   "cell_type": "code",
   "execution_count": 392,
   "metadata": {
    "collapsed": false
   },
   "outputs": [],
   "source": [
    "copied_data=pd.DataFrame(gene_mut,index=gene_dat.index,columns=new_colnames)"
   ]
  },
  {
   "cell_type": "code",
   "execution_count": 393,
   "metadata": {
    "collapsed": false
   },
   "outputs": [
    {
     "ename": "PermissionError",
     "evalue": "[Errno 13] Permission denied: 'copiedGeneData.csv'",
     "output_type": "error",
     "traceback": [
      "\u001b[0;31m---------------------------------------------------------------------------\u001b[0m",
      "\u001b[0;31mPermissionError\u001b[0m                           Traceback (most recent call last)",
      "\u001b[0;32m<ipython-input-393-6d336712c6d9>\u001b[0m in \u001b[0;36m<module>\u001b[0;34m()\u001b[0m\n\u001b[0;32m----> 1\u001b[0;31m \u001b[0mcopied_data\u001b[0m\u001b[1;33m.\u001b[0m\u001b[0mto_csv\u001b[0m\u001b[1;33m(\u001b[0m\u001b[1;34m\"copiedGeneData.csv\"\u001b[0m\u001b[1;33m)\u001b[0m\u001b[1;33m\u001b[0m\u001b[0m\n\u001b[0m",
      "\u001b[0;32mC:\\Users\\Rosa\\Anaconda3\\lib\\site-packages\\pandas\\core\\frame.py\u001b[0m in \u001b[0;36mto_csv\u001b[0;34m(self, path_or_buf, sep, na_rep, float_format, columns, header, index, index_label, mode, encoding, compression, quoting, quotechar, line_terminator, chunksize, tupleize_cols, date_format, doublequote, escapechar, decimal)\u001b[0m\n\u001b[1;32m   1381\u001b[0m                                      \u001b[0mdoublequote\u001b[0m\u001b[1;33m=\u001b[0m\u001b[0mdoublequote\u001b[0m\u001b[1;33m,\u001b[0m\u001b[1;33m\u001b[0m\u001b[0m\n\u001b[1;32m   1382\u001b[0m                                      escapechar=escapechar, decimal=decimal)\n\u001b[0;32m-> 1383\u001b[0;31m         \u001b[0mformatter\u001b[0m\u001b[1;33m.\u001b[0m\u001b[0msave\u001b[0m\u001b[1;33m(\u001b[0m\u001b[1;33m)\u001b[0m\u001b[1;33m\u001b[0m\u001b[0m\n\u001b[0m\u001b[1;32m   1384\u001b[0m \u001b[1;33m\u001b[0m\u001b[0m\n\u001b[1;32m   1385\u001b[0m         \u001b[1;32mif\u001b[0m \u001b[0mpath_or_buf\u001b[0m \u001b[1;32mis\u001b[0m \u001b[1;32mNone\u001b[0m\u001b[1;33m:\u001b[0m\u001b[1;33m\u001b[0m\u001b[0m\n",
      "\u001b[0;32mC:\\Users\\Rosa\\Anaconda3\\lib\\site-packages\\pandas\\formats\\format.py\u001b[0m in \u001b[0;36msave\u001b[0;34m(self)\u001b[0m\n\u001b[1;32m   1458\u001b[0m             f = _get_handle(self.path_or_buf, self.mode,\n\u001b[1;32m   1459\u001b[0m                             \u001b[0mencoding\u001b[0m\u001b[1;33m=\u001b[0m\u001b[0mself\u001b[0m\u001b[1;33m.\u001b[0m\u001b[0mencoding\u001b[0m\u001b[1;33m,\u001b[0m\u001b[1;33m\u001b[0m\u001b[0m\n\u001b[0;32m-> 1460\u001b[0;31m                             compression=self.compression)\n\u001b[0m\u001b[1;32m   1461\u001b[0m             \u001b[0mclose\u001b[0m \u001b[1;33m=\u001b[0m \u001b[1;32mTrue\u001b[0m\u001b[1;33m\u001b[0m\u001b[0m\n\u001b[1;32m   1462\u001b[0m \u001b[1;33m\u001b[0m\u001b[0m\n",
      "\u001b[0;32mC:\\Users\\Rosa\\Anaconda3\\lib\\site-packages\\pandas\\io\\common.py\u001b[0m in \u001b[0;36m_get_handle\u001b[0;34m(path, mode, encoding, compression, memory_map)\u001b[0m\n\u001b[1;32m    330\u001b[0m                 \u001b[0mf\u001b[0m \u001b[1;33m=\u001b[0m \u001b[0mopen\u001b[0m\u001b[1;33m(\u001b[0m\u001b[0mpath\u001b[0m\u001b[1;33m,\u001b[0m \u001b[0mmode\u001b[0m\u001b[1;33m,\u001b[0m \u001b[0mencoding\u001b[0m\u001b[1;33m=\u001b[0m\u001b[0mencoding\u001b[0m\u001b[1;33m)\u001b[0m\u001b[1;33m\u001b[0m\u001b[0m\n\u001b[1;32m    331\u001b[0m             \u001b[1;32melse\u001b[0m\u001b[1;33m:\u001b[0m\u001b[1;33m\u001b[0m\u001b[0m\n\u001b[0;32m--> 332\u001b[0;31m                 \u001b[0mf\u001b[0m \u001b[1;33m=\u001b[0m \u001b[0mopen\u001b[0m\u001b[1;33m(\u001b[0m\u001b[0mpath\u001b[0m\u001b[1;33m,\u001b[0m \u001b[0mmode\u001b[0m\u001b[1;33m,\u001b[0m \u001b[0merrors\u001b[0m\u001b[1;33m=\u001b[0m\u001b[1;34m'replace'\u001b[0m\u001b[1;33m)\u001b[0m\u001b[1;33m\u001b[0m\u001b[0m\n\u001b[0m\u001b[1;32m    333\u001b[0m         \u001b[1;32melse\u001b[0m\u001b[1;33m:\u001b[0m\u001b[1;33m\u001b[0m\u001b[0m\n\u001b[1;32m    334\u001b[0m             \u001b[0mf\u001b[0m \u001b[1;33m=\u001b[0m \u001b[0mopen\u001b[0m\u001b[1;33m(\u001b[0m\u001b[0mpath\u001b[0m\u001b[1;33m,\u001b[0m \u001b[0mmode\u001b[0m\u001b[1;33m)\u001b[0m\u001b[1;33m\u001b[0m\u001b[0m\n",
      "\u001b[0;31mPermissionError\u001b[0m: [Errno 13] Permission denied: 'copiedGeneData.csv'"
     ]
    }
   ],
   "source": [
    "copied_data.to_csv(\"copiedGeneData.csv\")"
   ]
  },
  {
   "cell_type": "code",
   "execution_count": 394,
   "metadata": {
    "collapsed": false
   },
   "outputs": [],
   "source": [
    "rdm13=pd.read_csv('copiedGeneData.csv',index_col='Unnamed: 0',encoding='utf-8')\n",
    "rdm13=rdm13.as_matrix()\n"
   ]
  },
  {
   "cell_type": "code",
   "execution_count": 396,
   "metadata": {
    "collapsed": false
   },
   "outputs": [],
   "source": [
    "def num_gene_mutations(raw_data):\n",
    "    n_ones=[]\n",
    "    # 0 to number of total rows\n",
    "    for row in range(0,(raw_data.shape[0])):\n",
    "        #calculating each person's number of gene mutations, excluding last column with phenotype levels\n",
    "        n_ones.append(sum(rdm13[row,:-1]))\n",
    "    return n_ones"
   ]
  },
  {
   "cell_type": "code",
   "execution_count": 398,
   "metadata": {
    "collapsed": false
   },
   "outputs": [],
   "source": [
    "sum_gene_mut=num_gene_mutations(rdm13)\n",
    "#print(sum_gene_mut)\n",
    "#for printing total number of people based on number of gene mutations\n",
    "#plt.hist(sum_gene_mut,bins=13)\n",
    "#plt.show()"
   ]
  },
  {
   "cell_type": "code",
   "execution_count": 399,
   "metadata": {
    "collapsed": false
   },
   "outputs": [],
   "source": [
    "# returning matrix of people with 0's that are less than floor(13/2)\n",
    "def minority_0matrix(RDM,n_ones):\n",
    "    col=RDM.shape[1]\n",
    "    zero_mat=[]\n",
    "    #basically 0- number of people\n",
    "    for i in range (0,len(n_ones)):\n",
    "        #if the number of 0's is less than or equal to floor(13/2), meaning more 0s than 1s\n",
    "        if((RDM.shape[1]-1)-n_ones[i]<=np.floor((col-1)/2)):\n",
    "            #we will add that row to a list\n",
    "            zero_mat.append(RDM[i,])\n",
    "    #getting the list and reshaping it to be of #ppl by #columns\n",
    "    return np.array(zero_mat).reshape(len(zero_mat),col)"
   ]
  },
  {
   "cell_type": "code",
   "execution_count": 403,
   "metadata": {
    "collapsed": false
   },
   "outputs": [],
   "source": [
    "# getting an an array of the opposites. We were looking at the number of 1's within each row (num of mutations\n",
    "#each person had), then we decided to have a matrix which calcualted num of 0's\n",
    "nzeros=13-np.asarray(sum_gene_mut)\n",
    "#print(nzeros)"
   ]
  },
  {
   "cell_type": "code",
   "execution_count": 409,
   "metadata": {
    "collapsed": false
   },
   "outputs": [
    {
     "data": {
      "text/plain": [
       "(21, 14)"
      ]
     },
     "execution_count": 409,
     "metadata": {},
     "output_type": "execute_result"
    }
   ],
   "source": [
    "minority_0matrix(rdm13,nzeros).shape\n",
    "# returns dimension of matrix, meaning there's a matrix 21 x 14 in which these people have 7+ gene mutations\n",
    "# we will be flipping these matrices in the future\n",
    "#rdm13.shape[1]"
   ]
  },
  {
   "cell_type": "code",
   "execution_count": 411,
   "metadata": {
    "collapsed": false
   },
   "outputs": [
    {
     "data": {
      "text/plain": [
       "array([[   1.,    0.,    1.,    1.,    1.,    0.,    0.,    0.,    0.,\n",
       "           0.,    0.,    0.,    1.,  198.],\n",
       "       [   1.,    0.,    0.,    1.,    1.,    0.,    1.,    1.,    0.,\n",
       "           0.,    0.,    0.,    0.,  176.],\n",
       "       [   1.,    0.,    0.,    0.,    1.,    1.,    0.,    1.,    0.,\n",
       "           1.,    0.,    0.,    0.,  164.],\n",
       "       [   1.,    0.,    1.,    1.,    0.,    1.,    1.,    0.,    0.,\n",
       "           0.,    0.,    0.,    0.,  149.],\n",
       "       [   1.,    0.,    1.,    1.,    0.,    1.,    1.,    0.,    0.,\n",
       "           0.,    0.,    0.,    0.,  155.]])"
      ]
     },
     "execution_count": 411,
     "metadata": {},
     "output_type": "execute_result"
    }
   ],
   "source": [
    "# matrix in which people have 5 gene mutations in total\n",
    "rdm13[np.asarray(sum_gene_mut)==5]"
   ]
  }
 ],
 "metadata": {
  "kernelspec": {
   "display_name": "Python 3",
   "language": "python",
   "name": "python3"
  },
  "language_info": {
   "codemirror_mode": {
    "name": "ipython",
    "version": 3
   },
   "file_extension": ".py",
   "mimetype": "text/x-python",
   "name": "python",
   "nbconvert_exporter": "python",
   "pygments_lexer": "ipython3",
   "version": "3.6.0"
  }
 },
 "nbformat": 4,
 "nbformat_minor": 2
}
