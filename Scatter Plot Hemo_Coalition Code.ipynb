{
 "cells": [
  {
   "cell_type": "markdown",
   "metadata": {},
   "source": [
    "# Scatter Plot of Hemo Code for Interesting Coaltions   \n",
    "Memebers: R. Garza, L. González, S. Nwakanma  \n",
    "Use with Spectral-Analysis-Reduced_Dataset code after the \"Extract Values for Scatter Plot\" section  "
   ]
  },
  {
   "cell_type": "markdown",
   "metadata": {},
   "source": [
    "# Dependancies"
   ]
  },
  {
   "cell_type": "code",
   "execution_count": 2,
   "metadata": {},
   "outputs": [],
   "source": [
    "import numpy as np\n",
    "import pandas as pd \n",
    "from scipy import special\n",
    "import scipy.sparse\n",
    "# import scipy.sparse.linalg\n",
    "import types\n",
    "from itertools import combinations\n",
    "import pylab as plt\n",
    "from timeit import default_timer as timer\n",
    "import matplotlib.pyplot as plt\n",
    "import csv\n",
    "import os\n",
    "import sys\n",
    "from matplotlib.legend import Legend\n",
    "from matplotlib.pyplot import figure\n",
    "from operator import itemgetter, attrgetter"
   ]
  },
  {
   "cell_type": "markdown",
   "metadata": {},
   "source": [
    "### Remeber to past this function some place AFTER the \"Extract Values for Scatter Plot\" section of the Spectral-Analysis-Reduced-Dataset code"
   ]
  },
  {
   "cell_type": "code",
   "execution_count": null,
   "metadata": {},
   "outputs": [],
   "source": [
    "#input: list of k-grouping, mutation coallition, indexcolor for color-coding mutation coalitions on plot \n",
    "#output: plot of the hemo levels of people with list of k mutations and AT LEAST the mutation coalition inputed\n",
    "def get_Hemo_of_kGroup(kList, mut_combo, indexColors):\n",
    "    for i in range(len(kList)):\n",
    "        list_mutGroup = get_hemoglobin(kList[i], mut_combo, Sub_Data, combinations_mutations)\n",
    "        list_mutGroup_hemo=[]\n",
    "        for j in range(len(list_mutGroup)):\n",
    "            list_mutGroup_hemo.append((list_mutGroup)[j][1])\n",
    "        print(kList[i], list_mutGroup, \"\\n \\n\")\n",
    "        plt.scatter(x=range(len(list_mutGroup_hemo)),y=list_mutGroup_hemo, c=\"black\")\n",
    "        #colorcode mutation coalition by indexcolor\n",
    "        for c in range(len(indexColors[i])):\n",
    "            plt.scatter(x=[indexColors[i][c][0]],y=[(list_mutGroup_hemo[indexColors[i][c][0]])], c=indexColors[i][c][1], label=indexColors[i][c][2])    \n",
    "\n",
    "#extra plot code \n",
    "    plt.xlabel(\"Observations (In No Specific Order)\") #this should remain the same\n",
    "    plt.ylabel(\"Hemoglobin Level\") #this should remain the same\n",
    "#for the ...\"and Coalition of Mutation BLANK\" part of the title\n",
    "#fill in the blank with mut_combo input\n",
    "    plt.title(\"Hemoglobin Levels of People with 2-6 Mutations \\n and Coalition of Mutation AC \\n - AND Reduction\")\n",
    "    plt.tight_layout()\n",
    "    plt.ylim(60, 250) #this should remain the same \n",
    "    plt.legend(loc=\"best\",bbox_to_anchor=(1.2,1),title=\"Mutations\") \n",
    "   # plt.savefig(\"peak_plots/AND_HemoLevels_6mut_with_mut(ACD).png\", bbox_inches= \"tight\")\n",
    "    return plt.show()"
   ]
  },
  {
   "cell_type": "markdown",
   "metadata": {},
   "source": [
    "### Example of how to use this function "
   ]
  },
  {
   "cell_type": "code",
   "execution_count": null,
   "metadata": {},
   "outputs": [],
   "source": [
    "#get_Hemo_of_kGroup(kList=[], mut_combo=[], indexColors=[[], [], []])\n",
    "    #klist=[] input all the k-groupings you're interested in (EXCEPT f^(13,1)!!)\n",
    "    #mut_combo=[] input the mutation combo that you want to SCREEN OUT. So every observation on the scatter...\n",
    "        #...plot has that mutation coalliton\n",
    "    #indexColors=[[],[],[],[]] the number of [] in indexColors must correspond to the number of k-groupings in kList\n",
    "        #each [] corresponds to a k-grouping\n",
    "        #in each [] of indexColors, the arguement is as follows: [n, \"hello\", \"world\"] \n",
    "            #n= the index of the mutation coalition you want to color from the list of a particular k-grouping\n",
    "            #\"hello\"= the color for that mutation coalition\n",
    "            #\"world\"= the mutation calition\n",
    "\n",
    "print(get_Hemo_of_kGroup(kList=[2,3,4,5,6], mut_combo=[0,2], indexColors=[[], [], [(18,\"cyan\",\"HJ\"), \n",
    "(1,\"magenta\",\"J\"), (13,\"magenta\",\"\"), (16,\"magenta\",\"\")],[(9,\"cyan\",\"\")],\n",
    "[(0,\"cyan\",\"\"), (2, \"cyan\",\"\"), (7,\"cyan\", \"\"), (8,\"cyan\",\"\")]]))"
   ]
  }
 ],
 "metadata": {
  "kernelspec": {
   "display_name": "Python 3",
   "language": "python",
   "name": "python3"
  },
  "language_info": {
   "codemirror_mode": {
    "name": "ipython",
    "version": 3
   },
   "file_extension": ".py",
   "mimetype": "text/x-python",
   "name": "python",
   "nbconvert_exporter": "python",
   "pygments_lexer": "ipython3",
   "version": "3.6.5"
  }
 },
 "nbformat": 4,
 "nbformat_minor": 2
}
