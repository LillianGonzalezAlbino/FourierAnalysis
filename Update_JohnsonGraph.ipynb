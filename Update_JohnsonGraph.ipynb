{
 "cells": [
  {
   "cell_type": "markdown",
   "metadata": {},
   "source": [
    "Rosa Garza, July 3, 2018 (Day 2)"
   ]
  },
  {
   "cell_type": "markdown",
   "metadata": {},
   "source": [
    "Eigenvectors based on Johnson Graph (Supreme Court)"
   ]
  },
  {
   "cell_type": "markdown",
   "metadata": {},
   "source": [
    "Goal: Develop a program to create an adjacency matrix based on Johnson graph from Supreme court paper and finds the eigenvectors in which these are our f_i vectors."
   ]
  },
  {
   "cell_type": "code",
   "execution_count": 1,
   "metadata": {
    "collapsed": false
   },
   "outputs": [],
   "source": [
    "import numpy as np\n",
    "import pandas as pd\n",
    "import math\n",
    "import matplotlib as mpl\n",
    "import matplotlib.pyplot as plt\n",
    "import types\n",
    "from itertools import combinations\n",
    "%matplotlib inline"
   ]
  },
  {
   "cell_type": "code",
   "execution_count": 2,
   "metadata": {
    "collapsed": true
   },
   "outputs": [],
   "source": [
    "## Different pairings:\n",
    "### AB AC AD AE, BC BD BE, CD, CE, DE"
   ]
  },
  {
   "cell_type": "code",
   "execution_count": 3,
   "metadata": {
    "collapsed": false
   },
   "outputs": [],
   "source": [
    "# creates list and pairs them without repeats\n",
    "variables=[\"A\",\"B\",\"C\",\"D\",\"E\"]\n",
    "\n",
    "# below code is from: : https://stackoverflow.com/questions/5360220/how-to-split-a-list-into-pairs-in-all-possible-ways\n",
    "pairs=[(variables[i],variables[j]) for i in range(len(variables)) for j in range(i+1,len(variables))]"
   ]
  },
  {
   "cell_type": "code",
   "execution_count": 4,
   "metadata": {
    "collapsed": true
   },
   "outputs": [],
   "source": [
    "def alphabet_choose_k(alphabet,k):\n",
    "    return list(combinations(alphabet,k))"
   ]
  },
  {
   "cell_type": "code",
   "execution_count": 5,
   "metadata": {
    "collapsed": false
   },
   "outputs": [
    {
     "data": {
      "text/plain": [
       "[('A', 'B'),\n",
       " ('A', 'C'),\n",
       " ('A', 'D'),\n",
       " ('A', 'E'),\n",
       " ('B', 'C'),\n",
       " ('B', 'D'),\n",
       " ('B', 'E'),\n",
       " ('C', 'D'),\n",
       " ('C', 'E'),\n",
       " ('D', 'E')]"
      ]
     },
     "execution_count": 5,
     "metadata": {},
     "output_type": "execute_result"
    }
   ],
   "source": [
    "alphabet_choose_k(variables,2)"
   ]
  },
  {
   "cell_type": "code",
   "execution_count": 6,
   "metadata": {
    "collapsed": false
   },
   "outputs": [],
   "source": [
    "## number of nodes/variables\n",
    "N=len(pairs)\n",
    "## k values\n",
    "K=np.floor(N/2)\n",
    "# num. pairings\n",
    "num_pairs=2"
   ]
  },
  {
   "cell_type": "code",
   "execution_count": 7,
   "metadata": {
    "collapsed": false
   },
   "outputs": [
    {
     "name": "stdout",
     "output_type": "stream",
     "text": [
      "  var1 var2\n",
      "0    A    B\n",
      "1    A    C\n",
      "2    A    D\n",
      "3    A    E\n",
      "4    B    C\n",
      "5    B    D\n",
      "6    B    E\n",
      "7    C    D\n",
      "8    C    E\n",
      "9    D    E\n"
     ]
    }
   ],
   "source": [
    "data_interactions=pd.DataFrame(data=pairs,columns=[\"var1\",\"var2\"])\n",
    "print(data_interactions)"
   ]
  },
  {
   "cell_type": "code",
   "execution_count": 8,
   "metadata": {
    "collapsed": false
   },
   "outputs": [
    {
     "data": {
      "text/html": [
       "<div>\n",
       "<table border=\"1\" class=\"dataframe\">\n",
       "  <thead>\n",
       "    <tr style=\"text-align: right;\">\n",
       "      <th></th>\n",
       "      <th>var1</th>\n",
       "      <th>var2</th>\n",
       "      <th>pairs</th>\n",
       "    </tr>\n",
       "  </thead>\n",
       "  <tbody>\n",
       "    <tr>\n",
       "      <th>0</th>\n",
       "      <td>A</td>\n",
       "      <td>B</td>\n",
       "      <td>(A, B)</td>\n",
       "    </tr>\n",
       "    <tr>\n",
       "      <th>1</th>\n",
       "      <td>A</td>\n",
       "      <td>C</td>\n",
       "      <td>(A, C)</td>\n",
       "    </tr>\n",
       "    <tr>\n",
       "      <th>2</th>\n",
       "      <td>A</td>\n",
       "      <td>D</td>\n",
       "      <td>(A, D)</td>\n",
       "    </tr>\n",
       "    <tr>\n",
       "      <th>3</th>\n",
       "      <td>A</td>\n",
       "      <td>E</td>\n",
       "      <td>(A, E)</td>\n",
       "    </tr>\n",
       "    <tr>\n",
       "      <th>4</th>\n",
       "      <td>B</td>\n",
       "      <td>C</td>\n",
       "      <td>(B, C)</td>\n",
       "    </tr>\n",
       "    <tr>\n",
       "      <th>5</th>\n",
       "      <td>B</td>\n",
       "      <td>D</td>\n",
       "      <td>(B, D)</td>\n",
       "    </tr>\n",
       "    <tr>\n",
       "      <th>6</th>\n",
       "      <td>B</td>\n",
       "      <td>E</td>\n",
       "      <td>(B, E)</td>\n",
       "    </tr>\n",
       "    <tr>\n",
       "      <th>7</th>\n",
       "      <td>C</td>\n",
       "      <td>D</td>\n",
       "      <td>(C, D)</td>\n",
       "    </tr>\n",
       "    <tr>\n",
       "      <th>8</th>\n",
       "      <td>C</td>\n",
       "      <td>E</td>\n",
       "      <td>(C, E)</td>\n",
       "    </tr>\n",
       "    <tr>\n",
       "      <th>9</th>\n",
       "      <td>D</td>\n",
       "      <td>E</td>\n",
       "      <td>(D, E)</td>\n",
       "    </tr>\n",
       "  </tbody>\n",
       "</table>\n",
       "</div>"
      ],
      "text/plain": [
       "  var1 var2   pairs\n",
       "0    A    B  (A, B)\n",
       "1    A    C  (A, C)\n",
       "2    A    D  (A, D)\n",
       "3    A    E  (A, E)\n",
       "4    B    C  (B, C)\n",
       "5    B    D  (B, D)\n",
       "6    B    E  (B, E)\n",
       "7    C    D  (C, D)\n",
       "8    C    E  (C, E)\n",
       "9    D    E  (D, E)"
      ]
     },
     "execution_count": 8,
     "metadata": {},
     "output_type": "execute_result"
    }
   ],
   "source": [
    "data_interactions['pairs'] = data_interactions[['var1', 'var2']].apply(tuple, axis=1)\n",
    "data_interactions"
   ]
  },
  {
   "cell_type": "code",
   "execution_count": 9,
   "metadata": {
    "collapsed": false,
    "scrolled": true
   },
   "outputs": [
    {
     "data": {
      "text/html": [
       "<div>\n",
       "<table border=\"1\" class=\"dataframe\">\n",
       "  <thead>\n",
       "    <tr style=\"text-align: right;\">\n",
       "      <th>pairs</th>\n",
       "      <th>(A, B)</th>\n",
       "      <th>(A, C)</th>\n",
       "      <th>(A, D)</th>\n",
       "      <th>(A, E)</th>\n",
       "      <th>(B, C)</th>\n",
       "      <th>(B, D)</th>\n",
       "      <th>(B, E)</th>\n",
       "      <th>(C, D)</th>\n",
       "      <th>(C, E)</th>\n",
       "      <th>(D, E)</th>\n",
       "    </tr>\n",
       "    <tr>\n",
       "      <th>var1</th>\n",
       "      <th></th>\n",
       "      <th></th>\n",
       "      <th></th>\n",
       "      <th></th>\n",
       "      <th></th>\n",
       "      <th></th>\n",
       "      <th></th>\n",
       "      <th></th>\n",
       "      <th></th>\n",
       "      <th></th>\n",
       "    </tr>\n",
       "  </thead>\n",
       "  <tbody>\n",
       "    <tr>\n",
       "      <th>A</th>\n",
       "      <td>1</td>\n",
       "      <td>1</td>\n",
       "      <td>1</td>\n",
       "      <td>1</td>\n",
       "      <td>0</td>\n",
       "      <td>0</td>\n",
       "      <td>0</td>\n",
       "      <td>0</td>\n",
       "      <td>0</td>\n",
       "      <td>0</td>\n",
       "    </tr>\n",
       "    <tr>\n",
       "      <th>B</th>\n",
       "      <td>0</td>\n",
       "      <td>0</td>\n",
       "      <td>0</td>\n",
       "      <td>0</td>\n",
       "      <td>1</td>\n",
       "      <td>1</td>\n",
       "      <td>1</td>\n",
       "      <td>0</td>\n",
       "      <td>0</td>\n",
       "      <td>0</td>\n",
       "    </tr>\n",
       "    <tr>\n",
       "      <th>C</th>\n",
       "      <td>0</td>\n",
       "      <td>0</td>\n",
       "      <td>0</td>\n",
       "      <td>0</td>\n",
       "      <td>0</td>\n",
       "      <td>0</td>\n",
       "      <td>0</td>\n",
       "      <td>1</td>\n",
       "      <td>1</td>\n",
       "      <td>0</td>\n",
       "    </tr>\n",
       "    <tr>\n",
       "      <th>D</th>\n",
       "      <td>0</td>\n",
       "      <td>0</td>\n",
       "      <td>0</td>\n",
       "      <td>0</td>\n",
       "      <td>0</td>\n",
       "      <td>0</td>\n",
       "      <td>0</td>\n",
       "      <td>0</td>\n",
       "      <td>0</td>\n",
       "      <td>1</td>\n",
       "    </tr>\n",
       "  </tbody>\n",
       "</table>\n",
       "</div>"
      ],
      "text/plain": [
       "pairs  (A, B)  (A, C)  (A, D)  (A, E)  (B, C)  (B, D)  (B, E)  (C, D)  (C, E)  \\\n",
       "var1                                                                            \n",
       "A           1       1       1       1       0       0       0       0       0   \n",
       "B           0       0       0       0       1       1       1       0       0   \n",
       "C           0       0       0       0       0       0       0       1       1   \n",
       "D           0       0       0       0       0       0       0       0       0   \n",
       "\n",
       "pairs  (D, E)  \n",
       "var1           \n",
       "A           0  \n",
       "B           0  \n",
       "C           0  \n",
       "D           1  "
      ]
     },
     "execution_count": 9,
     "metadata": {},
     "output_type": "execute_result"
    }
   ],
   "source": [
    "adj_mat=pd.crosstab(data_interactions.var1,data_interactions.pairs)\n",
    "#z=adj_mat.columns.union(adj_mat.index)\n",
    "#adj_mat=adj_mat.reindex(index=z,columns=z,fill_value=0)\n",
    "adj_mat"
   ]
  },
  {
   "cell_type": "code",
   "execution_count": 10,
   "metadata": {
    "collapsed": true
   },
   "outputs": [],
   "source": [
    "def init_Matrix(k_val):\n",
    "    return(np.zeros((int(k_val),int(k_val))))"
   ]
  },
  {
   "cell_type": "code",
   "execution_count": 11,
   "metadata": {
    "collapsed": true
   },
   "outputs": [],
   "source": [
    "def adjacencies(temp_matrix,tup_list,num_pairs):\n",
    "    for i in range(0,len(tup_list)):\n",
    "        for j in range(0,len(tup_list)):\n",
    "            if len(set(tup_list[i]).intersection(tup_list[j]))==(num_pairs-1):\n",
    "                temp_matrix[i][j]=1\n",
    "    return(temp_matrix)"
   ]
  },
  {
   "cell_type": "code",
   "execution_count": 12,
   "metadata": {
    "collapsed": false
   },
   "outputs": [],
   "source": [
    "def adj_matrix(tup_list,num_pairs):\n",
    "    if isinstance(tup_list,list)==False:\n",
    "        return(\"Arg. is not a list\")\n",
    "    else:\n",
    "        adj_mat=init_Matrix(len(tup_list)) # creates an array of zeros (n choose k  x n choose k) \n",
    "        return(adjacencies(adj_mat,tup_list,num_pairs))"
   ]
  },
  {
   "cell_type": "code",
   "execution_count": 13,
   "metadata": {
    "collapsed": false
   },
   "outputs": [],
   "source": [
    "def calc_eig_vec_of_adj_matrix(mat):\n",
    "    eig_val, eig_vec = np.linalg.eigh(mat)\n",
    "    return eig_val, eig_vec"
   ]
  },
  {
   "cell_type": "code",
   "execution_count": 14,
   "metadata": {
    "collapsed": true
   },
   "outputs": [],
   "source": [
    "def group_eig_vecs(e_vals, e_vecs):\n",
    "    distinct_vals = np.unique(e_vals.round(decimals=4))\n",
    "    distinct_vals = np.sort(distinct_vals)\n",
    "    M_basis = []\n",
    "    for val in distinct_vals:\n",
    "        vec_list = []\n",
    "        for i in range(len(e_vals)):\n",
    "            if(val == e_vals[i].round(decimals=4)):\n",
    "                vec_list.append(np.transpose(e_vecs)[i])\n",
    "        M_basis.append(vec_list)\n",
    "    M_basis = np.flipud(M_basis)\n",
    "    return M_basis"
   ]
  },
  {
   "cell_type": "code",
   "execution_count": 15,
   "metadata": {
    "collapsed": false
   },
   "outputs": [],
   "source": [
    "def projections(M_i,f):\n",
    "    proj_f_onto_Mi=(np.dot(M_i,np.transpose(f))/np.dot(M_i,np.transpose(M_i)))*(M_i)\n",
    "    return(proj_f_onto_Mi)"
   ]
  },
  {
   "cell_type": "code",
   "execution_count": 16,
   "metadata": {
    "collapsed": true
   },
   "outputs": [],
   "source": [
    "def projections(M_i,f):\n",
    "    for i in len(M_i):\n",
    "        proj_f_onto_Mi=(np.dot(M_i[i],np.transpose(f))/np.dot(M_i[i],np.transpose(M_i[i])))*(M_i[i])\n",
    "    return(proj_f_onto_Mi)"
   ]
  },
  {
   "cell_type": "code",
   "execution_count": 17,
   "metadata": {
    "collapsed": false
   },
   "outputs": [],
   "source": [
    "adj_mat=adj_matrix(pairs,num_pairs)\n",
    "vals,vecs=calc_eig_vec_of_adj_matrix(adj_mat)\n",
    "M = group_eig_vecs(vals, vecs)"
   ]
  },
  {
   "cell_type": "code",
   "execution_count": 18,
   "metadata": {
    "collapsed": false
   },
   "outputs": [
    {
     "name": "stdout",
     "output_type": "stream",
     "text": [
      "(10, 1)\n"
     ]
    }
   ],
   "source": [
    "f=np.array([2,12,11,6,17,8,4,24,20,6]).reshape(10,1)\n",
    "print(f.shape)"
   ]
  },
  {
   "cell_type": "code",
   "execution_count": 20,
   "metadata": {
    "collapsed": false
   },
   "outputs": [],
   "source": [
    "#projections(M[1],f)"
   ]
  }
 ],
 "metadata": {
  "kernelspec": {
   "display_name": "Python 3",
   "language": "python",
   "name": "python3"
  },
  "language_info": {
   "codemirror_mode": {
    "name": "ipython",
    "version": 3
   },
   "file_extension": ".py",
   "mimetype": "text/x-python",
   "name": "python",
   "nbconvert_exporter": "python",
   "pygments_lexer": "ipython3",
   "version": "3.6.0"
  }
 },
 "nbformat": 4,
 "nbformat_minor": 2
}
