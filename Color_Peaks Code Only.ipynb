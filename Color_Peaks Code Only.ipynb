{
 "cells": [
  {
   "cell_type": "code",
   "execution_count": 163,
   "metadata": {},
   "outputs": [],
   "source": [
    "import numpy as np\n",
    "import pandas as pd\n",
    "from scipy import special\n",
    "import scipy\n",
    "import scipy.linalg\n",
    "import types\n",
    "import math\n",
    "from itertools import combinations\n",
    "from timeit import default_timer as timer \n",
    "import csv\n",
    "import os\n",
    "import sys\n",
    "import matplotlib.pyplot as plt\n",
    "from matplotlib.legend import Legend\n",
    "from matplotlib.pyplot import figure\n",
    "#Make sure to change your directory \n",
    "#os.mkdir(\"plots\")"
   ]
  },
  {
   "cell_type": "markdown",
   "metadata": {},
   "source": [
    "#### Use the code below with the Main Code "
   ]
  },
  {
   "cell_type": "markdown",
   "metadata": {},
   "source": [
    "## Cleaning Raw Data\n",
    "#### The code below is from the Spectral Analysis (Main Code). It reduces raw data by collapsing 26 gene columns to 13 "
   ]
  },
  {
   "cell_type": "code",
   "execution_count": 164,
   "metadata": {},
   "outputs": [
    {
     "name": "stderr",
     "output_type": "stream",
     "text": [
      "/Users/msri/anaconda3/lib/python3.6/site-packages/ipykernel_launcher.py:3: FutureWarning: Method .as_matrix will be removed in a future version. Use .values instead.\n",
      "  This is separate from the ipykernel package so we can avoid doing imports until\n"
     ]
    }
   ],
   "source": [
    "#Import raw data \n",
    "gene_dat=pd.read_csv('vcf_FA.csv',index_col='Unnamed: 0',encoding='utf-8')\n",
    "matrix=gene_dat.as_matrix()"
   ]
  },
  {
   "cell_type": "code",
   "execution_count": 165,
   "metadata": {},
   "outputs": [],
   "source": [
    "#this code is from the Main Code. Reduces raw data by collapsing 26 columns to 13\n",
    "gene_mut=np.zeros((matrix.shape[0],int(np.ceil((matrix.shape[1]))/2)))\n",
    "                                   \n",
    "for rows in range(matrix.shape[0]):\n",
    "    for cols in range(0,matrix.shape[1]-1,2): #excluding phenotype column\n",
    "        if(matrix[rows][cols]==1 or matrix[rows][cols+1]==1):  #\"or\" can be changed to \"and\"\n",
    "            gene_mut[rows][int(cols/2)]=1 \n",
    "            \n",
    "#adding back the phenotype column       \n",
    "gene_mut[:,-1]=matrix[:,-1]\n"
   ]
  },
  {
   "cell_type": "markdown",
   "metadata": {},
   "source": [
    "#### This code is new. Not in Spectral Analysis (Main Code)"
   ]
  },
  {
   "cell_type": "code",
   "execution_count": 1,
   "metadata": {},
   "outputs": [
    {
     "name": "stdout",
     "output_type": "stream",
     "text": [
      "['A', 'B', 'C', 'D', 'E', 'F', 'G', 'H', 'I', 'J', 'K', 'L', 'M']\n"
     ]
    }
   ],
   "source": [
    "# getting column names of genes \n",
    "# names=gene_dat.columns\n",
    "# new_colnames=[]\n",
    "# for n in range(0,len(names)-1,2):\n",
    "#     new_colnames.append(names[n].split(\"-\")[0])\n",
    "# gene_names=list(new_colnames)\n",
    "# print(gene_names)\n",
    "\n",
    "#change gene names to alphabet names (user friendly)\n",
    "gene_names = [\"A\", \"B\", \"C\", \"D\", \"E\", \"F\", \"G\", \"H\", \"I\", \"J\", \"K\", \"L\", \"M\"]\n",
    "print(gene_names) "
   ]
  },
  {
   "cell_type": "markdown",
   "metadata": {},
   "source": [
    "## Helper Functions (for Color Peaks Code)"
   ]
  },
  {
   "cell_type": "code",
   "execution_count": 2,
   "metadata": {},
   "outputs": [],
   "source": [
    "#this function inputs the 13 gene names and the kth grouping of f...\n",
    "#...and outputs a list of all k combinations of gene names in lexicalgraphical order\n",
    "def create_list_names(gene_names,k):\n",
    "    list_names=[]\n",
    "    for i in range(1,k+1):\n",
    "        list_names.append(alphabet_choose_k(gene_names,i))\n",
    "    return list_names\n",
    "\n",
    "#this function inputs the list of all k combinations of gene names in lexicographical order\n",
    "#... and outputs the indices (key) for each gene group-name in list_names\n",
    "def dict_names(list_names):\n",
    "    keys=range(1,len(list_names)+1)\n",
    "    return (dict(zip(keys,list_names)))   \n",
    "\n",
    "# this function inputs a Mallow list with specified order and kth grouping...\n",
    "#...and outputs a single f_i mallow vector from the kth group\n",
    "def Mallow_f_order(MallowList, order, k):\n",
    "    for tup in MallowList:\n",
    "        if (int(tup[0]))==int(k):\n",
    "            list_fi= tup[1]\n",
    "            return list_fi[order]\n",
    "    \n",
    "# input: a single mallow vector\n",
    "# output: returns a list of indices which contain max vals\n",
    "def get_n_max(f_i, n_max_peak):\n",
    "    n = n_max_peak\n",
    "    indices = f_i.ravel().argsort()[-n:]  \n",
    "    top_ind=[i for i in indices]\n",
    "    top_ind.reverse()\n",
    "    return top_ind\n",
    "\n",
    "#similar function as above. Returns list of indices with min vals\n",
    "def get_n_min(f_i, n_min_peak):\n",
    "    n= n_min_peak\n",
    "    indices = f_i.ravel().argsort()[:n]\n",
    "    bot_ind=[i for i in indices]\n",
    "    return bot_ind\n",
    "\n",
    "#this function retrieves the peak name of max peaks, min peaks \n",
    "def retrieve_peak_names(diction,top_ind,order):\n",
    "    order_gene_names=[]\n",
    "    for i in top_ind:\n",
    "        order_gene_names.append(diction.get(order)[i])\n",
    "    return order_gene_names\n"
   ]
  },
  {
   "cell_type": "markdown",
   "metadata": {},
   "source": [
    "## Main Color-Peaks Code"
   ]
  },
  {
   "cell_type": "code",
   "execution_count": 172,
   "metadata": {},
   "outputs": [],
   "source": [
    "#this function inputs a Mallow list, the i'th order, the kth partition, and the num of peaks...\n",
    "#... and outputs a bar-plot of the i'th order effects within gene groupings of k...\n",
    "#...with the max and min peaks colored\n",
    "def color_peaks(MallowList, order, k, n_max_peak, n_min_peak):\n",
    "    #all inputs from helper functions \n",
    "    f_i = Mallow_f_order(MallowList, order, k)\n",
    "    top_ind=get_n_max(f_i, n_max_peak)\n",
    "    bot_ind=get_n_min(f_i,n_min_peak)\n",
    "    list_names= create_list_names(gene_names,k)\n",
    "    diction=dict_names(list_names)\n",
    "    top_peak_gene_names=retrieve_peak_names(diction, top_ind, order)\n",
    "    top_min_peak_gene_names=retrieve_peak_names(diction, bot_ind, order)\n",
    "   \n",
    "    #the codes below changes the size and location of things ###############################\n",
    "    x_axis_1 = np.arange(len(f_i))\n",
    "    #width changes size of bars\n",
    "    plt.bar(x_axis_1,f_i, width= 0.8, align='center', alpha=0.5)\n",
    "    #change graph size\n",
    "    #plt.rcParams['figure.figsize']=[10,6]\n",
    "    \n",
    "    #the actual plotting##########################\n",
    "    #x label\n",
    "    plt.xlabel('Lexicographical order of gene combinations')\n",
    "    plt.ylim((min(f_i)+10),(max(f_i)-10))\n",
    "    for i in range(len(top_ind)):\n",
    "        plt.bar(top_ind[i],f_i[top_ind[i]], align='center',label=top_peak_gene_names[i])\n",
    "    for j in range(len(bot_ind)):\n",
    "        plt.bar(bot_ind[j],f_i[bot_ind[j]], align='center',label=top_min_peak_gene_names[j])\n",
    "    #change location of legend\n",
    "    plt.legend(bbox_to_anchor=(1.3, 1))\n",
    "    \n",
    "    #naming the plots#########################\n",
    "    if(int(order) == 1):\n",
    "        plt.title('%dst order effects within groupings of %d mutations'%(order, k))\n",
    "    elif(int(order) == 2):\n",
    "        plt.title('%dnd order effects within groupings of %d mutations'%(order, k))\n",
    "    elif(int(order) == 3):\n",
    "        plt.title('%drd order effects within groupings of %d mutations'%(order, k))\n",
    "    else:\n",
    "        plt.title('%dth order effects within groupings of %d mutations'%(order, k))\n",
    "        \n",
    "    #save plots #############################\n",
    "    #plt.savefig(\"peak_plots/%d_Order_13_c_%d.png\"%(order, k), bbox_inches=\"tight\")\n",
    "    #plt.show()\n",
    "    "
   ]
  },
  {
   "cell_type": "code",
   "execution_count": 173,
   "metadata": {},
   "outputs": [],
   "source": [
    "#k= 5 or 6 mutations \n",
    "#order range from 1 to 6\n",
    "#color_peaks(AllMallowVectors2, order=1, k=5, n_max_peak=3, n_min_peak=4) \n"
   ]
  },
  {
   "cell_type": "code",
   "execution_count": 170,
   "metadata": {},
   "outputs": [],
   "source": [
    "#k= 7,8,9, or 10 mutations \n",
    "#order range from 1 to 4\n",
    "#color_peaks(AllMallowVectors, order=6, k=6, n_max_peak=5, n_min_peak=4)\n",
    "  "
   ]
  },
  {
   "cell_type": "code",
   "execution_count": null,
   "metadata": {},
   "outputs": [],
   "source": []
  }
 ],
 "metadata": {
  "kernelspec": {
   "display_name": "Python 3",
   "language": "python",
   "name": "python3"
  },
  "language_info": {
   "codemirror_mode": {
    "name": "ipython",
    "version": 3
   },
   "file_extension": ".py",
   "mimetype": "text/x-python",
   "name": "python",
   "nbconvert_exporter": "python",
   "pygments_lexer": "ipython3",
   "version": "3.6.5"
  }
 },
 "nbformat": 4,
 "nbformat_minor": 2
}
